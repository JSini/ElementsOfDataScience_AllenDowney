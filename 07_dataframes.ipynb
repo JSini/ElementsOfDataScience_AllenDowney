{
  "cells": [
    {
      "cell_type": "markdown",
      "metadata": {
        "id": "view-in-github",
        "colab_type": "text"
      },
      "source": [
        "<a href=\"https://colab.research.google.com/github/JSini/ElementsOfDataScience_AllenDowney/blob/main/07_dataframes.ipynb\" target=\"_parent\"><img src=\"https://colab.research.google.com/assets/colab-badge.svg\" alt=\"Open In Colab\"/></a>"
      ]
    },
    {
      "cell_type": "markdown",
      "source": [
        "Hi,\n",
        "\n",
        "A note regarding this tutorial notebook-\n",
        "\n",
        "*This Notebook is seventh in series from AllenDowney/ElementsOfDataScience*\n",
        "\n",
        "*Reference:https://colab.research.google.com/github/AllenDowney/ElementsOfDataScience/blob/master/07_dataframes.ipynb*"
      ],
      "metadata": {
        "id": "8K0Ve4NSLIzJ"
      }
    },
    {
      "cell_type": "markdown",
      "source": [
        "\n",
        "\n",
        "---\n",
        "\n"
      ],
      "metadata": {
        "id": "Wm1vvnu2LYvh"
      }
    },
    {
      "cell_type": "markdown",
      "source": [
        "\n",
        "\n",
        "---\n",
        "\n"
      ],
      "metadata": {
        "id": "A2_FWI1hLXo4"
      }
    },
    {
      "cell_type": "markdown",
      "metadata": {
        "id": "WTLUzc0K4lpk"
      },
      "source": [
        "# DataFrames and Series"
      ]
    },
    {
      "cell_type": "markdown",
      "metadata": {
        "tags": [],
        "id": "mIYX79pa4lpu"
      },
      "source": [
        "[Click here to run this notebook on Colab](https://colab.research.google.com/github/AllenDowney/ElementsOfDataScience/blob/master/07_dataframes.ipynb) or\n",
        "[click here to download it](https://github.com/AllenDowney/ElementsOfDataScience/raw/master/07_dataframes.ipynb)."
      ]
    },
    {
      "cell_type": "markdown",
      "metadata": {
        "id": "pk00g_Fz4lpv"
      },
      "source": [
        "This chapter introduces Pandas, a Python library that provides functions for reading and writing data files, exploring and analyzing data, and generating visualizations.  And it provides two new types for working with data, `DataFrame` and `Series`.\n",
        "\n",
        "We will use these tools to answer a data question: what is the average birth weight of babies in the United States?\n",
        "This example will demonstrate important steps in almost any data science project:\n",
        "\n",
        "1. Identifying data that can answer a question.\n",
        "\n",
        "2. Obtaining the data and loading it in Python.\n",
        "\n",
        "3. Checking the data and dealing with errors.\n",
        "\n",
        "4. Selecting relevant subsets from the data.\n",
        "\n",
        "5. Using histograms to visualize a distribution of values.\n",
        "\n",
        "6. Using summary statistics to describe the data in a way that best answers the question.\n",
        "\n",
        "7. Considering possible sources of error and limitations in our conclusions.\n",
        "\n",
        "Let's start by getting the data."
      ]
    },
    {
      "cell_type": "markdown",
      "metadata": {
        "id": "GqX0ACUN4lpv"
      },
      "source": [
        "## Reading the Data\n",
        "\n",
        "We'll use data from the National Survey of Family Growth (NSFG), which is available from the National Center for Health Statistics at <https://www.cdc.gov/nchs/nsfg/index.htm>.\n",
        "\n",
        "To download the data, you have to agree to the Data User's Agreement at <https://www.cdc.gov/nchs/data_access/ftp_dua.htm>.\n",
        "You should read those terms carefully, but let me draw your attention to what I think is the most important one:\n",
        "\n",
        "> Make no attempt to learn the identity of any person or establishment included in these data.\n",
        "\n",
        "NSFG respondents provide honest answers to questions of the most personal nature with the expectation that their identities will not be revealed.\n",
        "As ethical data scientists, we should respect their privacy and adhere to the terms of use."
      ]
    },
    {
      "cell_type": "markdown",
      "metadata": {
        "id": "YJ8HsW9J4lpw"
      },
      "source": [
        "Respondents to the NSFG provide general information about themselves, which is stored in the respondent file, and information about each time they have been pregnant, which is stored in the pregnancy file.\n",
        "\n",
        "We will work with the pregnancy file, which contains one row for each pregnancy and one column for each of the 248 variables.\n",
        "Each variable represents responses to a question on the NSFG questionnaire."
      ]
    },
    {
      "cell_type": "markdown",
      "metadata": {
        "id": "rXQ2URFG4lpw"
      },
      "source": [
        "The data is stored in a fixed-width format, which means that every row is the same length and each variable spans a fixed range of characters (see <https://www.ibm.com/docs/en/baw/19.x?topic=formats-fixed-width-format>). For example, the first six characters in each row represent a variable called `CASEID`, which is a unique identifier for each respondent; the next two characters represent `PREGORDR`, which indicates whether a pregnancy is the respondent's first, second, etc.\n",
        "\n",
        "To read this data, we need a **data dictionary**, which specifies the names of the variables and the range of characters where each variable appears. The data and the data dictionary are available in separate files."
      ]
    },
    {
      "cell_type": "code",
      "execution_count": 109,
      "metadata": {
        "id": "75a6WRpI4lpx"
      },
      "outputs": [],
      "source": [
        "dict_file = '2015_2017_FemPregSetup.dct'\n",
        "data_file = '2015_2017_FemPregData.dat'"
      ]
    },
    {
      "cell_type": "markdown",
      "metadata": {
        "tags": [],
        "id": "fW1JACgR4lpy"
      },
      "source": [
        "Once you have agreed to the terms, you can use the following cells to download the data."
      ]
    },
    {
      "cell_type": "code",
      "execution_count": 110,
      "metadata": {
        "tags": [],
        "id": "Pfl7--WF4lpz"
      },
      "outputs": [],
      "source": [
        "from os.path import basename, exists\n",
        "\n",
        "def download(url):\n",
        "    filename = basename(url)\n",
        "    if not exists(filename):\n",
        "        from urllib.request import urlretrieve\n",
        "        local, _ = urlretrieve(url, filename)\n",
        "        print('Downloaded ' + local)"
      ]
    },
    {
      "cell_type": "code",
      "execution_count": 111,
      "metadata": {
        "tags": [],
        "id": "Q6Y5m8cI4lpz"
      },
      "outputs": [],
      "source": [
        "download('https://ftp.cdc.gov/pub/health_statistics/nchs/' +\n",
        "         'datasets/NSFG/stata/' + dict_file)"
      ]
    },
    {
      "cell_type": "code",
      "execution_count": 112,
      "metadata": {
        "tags": [],
        "id": "eR0vjO7B4lpz"
      },
      "outputs": [],
      "source": [
        "download('https://ftp.cdc.gov/pub/health_statistics/nchs/' +\n",
        "         'datasets/NSFG/' + data_file)"
      ]
    },
    {
      "cell_type": "markdown",
      "metadata": {
        "id": "C6d7_TOO4lp0"
      },
      "source": [
        "Pandas can read data in most common formats, including CSV, Excel, and fixed-width format, but it cannot read the data dictionary, which is in Stata format.\n",
        "For that, we'll use a Python library called `statadict`."
      ]
    },
    {
      "cell_type": "markdown",
      "metadata": {
        "tags": [],
        "id": "Vv5g0VFE4lp0"
      },
      "source": [
        "The following cell installs `statadict` if necessary."
      ]
    },
    {
      "cell_type": "code",
      "execution_count": 113,
      "metadata": {
        "tags": [],
        "id": "1y1YRhAU4lp0"
      },
      "outputs": [],
      "source": [
        "try:\n",
        "    from statadict import parse_stata_dict\n",
        "except ImportError:\n",
        "    !pip install statadict"
      ]
    },
    {
      "cell_type": "markdown",
      "metadata": {
        "id": "N1DyB3bl4lp0"
      },
      "source": [
        "From `statadict`, we'll import `parse_stata_dict`, which reads the data dictionary."
      ]
    },
    {
      "cell_type": "code",
      "execution_count": 114,
      "metadata": {
        "id": "lUwZRV7g4lp0",
        "outputId": "a0eaea16-3e87-42c8-b5cb-b8053f8f9825",
        "colab": {
          "base_uri": "https://localhost:8080/"
        }
      },
      "outputs": [
        {
          "output_type": "execute_result",
          "data": {
            "text/plain": [
              "<statadict.base.StataDict at 0x79e9c00b2fe0>"
            ]
          },
          "metadata": {},
          "execution_count": 114
        }
      ],
      "source": [
        "from statadict import parse_stata_dict\n",
        "\n",
        "stata_dict = parse_stata_dict(dict_file)\n",
        "stata_dict"
      ]
    },
    {
      "cell_type": "markdown",
      "metadata": {
        "id": "RjPSJWeS4lp1"
      },
      "source": [
        "The result is an object that contains\n",
        "\n",
        "* `names`, which is a list of variable names, and\n",
        "\n",
        "* `colspecs`, which is a list of tuples.\n",
        "\n",
        "Each tuple in `colspecs` specifies the first and last column where a variable appears.\n",
        "\n",
        "These values are exactly the arguments we need to use `read_fwf`, which is the Pandas function that reads a file in fixed-width format."
      ]
    },
    {
      "cell_type": "code",
      "execution_count": 115,
      "metadata": {
        "id": "biaJZmfU4lp1",
        "outputId": "cfd5b0a4-0e80-47b8-cd90-a36536b5046d",
        "colab": {
          "base_uri": "https://localhost:8080/",
          "height": 203
        }
      },
      "outputs": [
        {
          "output_type": "execute_result",
          "data": {
            "text/plain": [
              "pandas.core.frame.DataFrame"
            ],
            "text/html": [
              "<div style=\"max-width:800px; border: 1px solid var(--colab-border-color);\"><style>\n",
              "      pre.function-repr-contents {\n",
              "        overflow-x: auto;\n",
              "        padding: 8px 12px;\n",
              "        max-height: 500px;\n",
              "      }\n",
              "\n",
              "      pre.function-repr-contents.function-repr-contents-collapsed {\n",
              "        cursor: pointer;\n",
              "        max-height: 100px;\n",
              "      }\n",
              "    </style>\n",
              "    <pre style=\"white-space: initial; background:\n",
              "         var(--colab-secondary-surface-color); padding: 8px 12px;\n",
              "         border-bottom: 1px solid var(--colab-border-color);\"><b>pandas.core.frame.DataFrame</b><br/>def __init__(data=None, index: Axes | None=None, columns: Axes | None=None, dtype: Dtype | None=None, copy: bool | None=None) -&gt; None</pre><pre class=\"function-repr-contents function-repr-contents-collapsed\" style=\"\"><a class=\"filepath\" style=\"display:none\" href=\"#\">/usr/local/lib/python3.10/dist-packages/pandas/core/frame.py</a>Two-dimensional, size-mutable, potentially heterogeneous tabular data.\n",
              "\n",
              "Data structure also contains labeled axes (rows and columns).\n",
              "Arithmetic operations align on both row and column labels. Can be\n",
              "thought of as a dict-like container for Series objects. The primary\n",
              "pandas data structure.\n",
              "\n",
              "Parameters\n",
              "----------\n",
              "data : ndarray (structured or homogeneous), Iterable, dict, or DataFrame\n",
              "    Dict can contain Series, arrays, constants, dataclass or list-like objects. If\n",
              "    data is a dict, column order follows insertion-order. If a dict contains Series\n",
              "    which have an index defined, it is aligned by its index.\n",
              "\n",
              "    .. versionchanged:: 0.25.0\n",
              "       If data is a list of dicts, column order follows insertion-order.\n",
              "\n",
              "index : Index or array-like\n",
              "    Index to use for resulting frame. Will default to RangeIndex if\n",
              "    no indexing information part of input data and no index provided.\n",
              "columns : Index or array-like\n",
              "    Column labels to use for resulting frame when data does not have them,\n",
              "    defaulting to RangeIndex(0, 1, 2, ..., n). If data contains column labels,\n",
              "    will perform column selection instead.\n",
              "dtype : dtype, default None\n",
              "    Data type to force. Only a single dtype is allowed. If None, infer.\n",
              "copy : bool or None, default None\n",
              "    Copy data from inputs.\n",
              "    For dict data, the default of None behaves like ``copy=True``.  For DataFrame\n",
              "    or 2d ndarray input, the default of None behaves like ``copy=False``.\n",
              "    If data is a dict containing one or more Series (possibly of different dtypes),\n",
              "    ``copy=False`` will ensure that these inputs are not copied.\n",
              "\n",
              "    .. versionchanged:: 1.3.0\n",
              "\n",
              "See Also\n",
              "--------\n",
              "DataFrame.from_records : Constructor from tuples, also record arrays.\n",
              "DataFrame.from_dict : From dicts of Series, arrays, or dicts.\n",
              "read_csv : Read a comma-separated values (csv) file into DataFrame.\n",
              "read_table : Read general delimited file into DataFrame.\n",
              "read_clipboard : Read text from clipboard into DataFrame.\n",
              "\n",
              "Notes\n",
              "-----\n",
              "Please reference the :ref:`User Guide &lt;basics.dataframe&gt;` for more information.\n",
              "\n",
              "Examples\n",
              "--------\n",
              "Constructing DataFrame from a dictionary.\n",
              "\n",
              "&gt;&gt;&gt; d = {&#x27;col1&#x27;: [1, 2], &#x27;col2&#x27;: [3, 4]}\n",
              "&gt;&gt;&gt; df = pd.DataFrame(data=d)\n",
              "&gt;&gt;&gt; df\n",
              "   col1  col2\n",
              "0     1     3\n",
              "1     2     4\n",
              "\n",
              "Notice that the inferred dtype is int64.\n",
              "\n",
              "&gt;&gt;&gt; df.dtypes\n",
              "col1    int64\n",
              "col2    int64\n",
              "dtype: object\n",
              "\n",
              "To enforce a single dtype:\n",
              "\n",
              "&gt;&gt;&gt; df = pd.DataFrame(data=d, dtype=np.int8)\n",
              "&gt;&gt;&gt; df.dtypes\n",
              "col1    int8\n",
              "col2    int8\n",
              "dtype: object\n",
              "\n",
              "Constructing DataFrame from a dictionary including Series:\n",
              "\n",
              "&gt;&gt;&gt; d = {&#x27;col1&#x27;: [0, 1, 2, 3], &#x27;col2&#x27;: pd.Series([2, 3], index=[2, 3])}\n",
              "&gt;&gt;&gt; pd.DataFrame(data=d, index=[0, 1, 2, 3])\n",
              "   col1  col2\n",
              "0     0   NaN\n",
              "1     1   NaN\n",
              "2     2   2.0\n",
              "3     3   3.0\n",
              "\n",
              "Constructing DataFrame from numpy ndarray:\n",
              "\n",
              "&gt;&gt;&gt; df2 = pd.DataFrame(np.array([[1, 2, 3], [4, 5, 6], [7, 8, 9]]),\n",
              "...                    columns=[&#x27;a&#x27;, &#x27;b&#x27;, &#x27;c&#x27;])\n",
              "&gt;&gt;&gt; df2\n",
              "   a  b  c\n",
              "0  1  2  3\n",
              "1  4  5  6\n",
              "2  7  8  9\n",
              "\n",
              "Constructing DataFrame from a numpy ndarray that has labeled columns:\n",
              "\n",
              "&gt;&gt;&gt; data = np.array([(1, 2, 3), (4, 5, 6), (7, 8, 9)],\n",
              "...                 dtype=[(&quot;a&quot;, &quot;i4&quot;), (&quot;b&quot;, &quot;i4&quot;), (&quot;c&quot;, &quot;i4&quot;)])\n",
              "&gt;&gt;&gt; df3 = pd.DataFrame(data, columns=[&#x27;c&#x27;, &#x27;a&#x27;])\n",
              "...\n",
              "&gt;&gt;&gt; df3\n",
              "   c  a\n",
              "0  3  1\n",
              "1  6  4\n",
              "2  9  7\n",
              "\n",
              "Constructing DataFrame from dataclass:\n",
              "\n",
              "&gt;&gt;&gt; from dataclasses import make_dataclass\n",
              "&gt;&gt;&gt; Point = make_dataclass(&quot;Point&quot;, [(&quot;x&quot;, int), (&quot;y&quot;, int)])\n",
              "&gt;&gt;&gt; pd.DataFrame([Point(0, 0), Point(0, 3), Point(2, 3)])\n",
              "   x  y\n",
              "0  0  0\n",
              "1  0  3\n",
              "2  2  3</pre>\n",
              "      <script>\n",
              "      if (google.colab.kernel.accessAllowed && google.colab.files && google.colab.files.view) {\n",
              "        for (const element of document.querySelectorAll('.filepath')) {\n",
              "          element.style.display = 'block'\n",
              "          element.onclick = (event) => {\n",
              "            event.preventDefault();\n",
              "            event.stopPropagation();\n",
              "            google.colab.files.view(element.textContent, 475);\n",
              "          };\n",
              "        }\n",
              "      }\n",
              "      for (const element of document.querySelectorAll('.function-repr-contents')) {\n",
              "        element.onclick = (event) => {\n",
              "          event.preventDefault();\n",
              "          event.stopPropagation();\n",
              "          element.classList.toggle('function-repr-contents-collapsed');\n",
              "        };\n",
              "      }\n",
              "      </script>\n",
              "      </div>"
            ]
          },
          "metadata": {},
          "execution_count": 115
        }
      ],
      "source": [
        "import pandas as pd\n",
        "\n",
        "nsfg = pd.read_fwf(data_file,\n",
        "                   names=stata_dict.names,\n",
        "                   colspecs=stata_dict.colspecs)\n",
        "type(nsfg)"
      ]
    },
    {
      "cell_type": "markdown",
      "metadata": {
        "id": "t1EwXV0Z4lp1"
      },
      "source": [
        "The result from `read_fwf()` is a `DataFrame`, which is the primary type Pandas uses to store data.\n",
        "`DataFrame` has a method called `head()` that shows the first 5 rows:"
      ]
    },
    {
      "cell_type": "code",
      "execution_count": 116,
      "metadata": {
        "tags": [],
        "id": "s-Tugt4M4lp1",
        "outputId": "95993087-d8ab-47f0-bb78-a0526c78021e",
        "colab": {
          "base_uri": "https://localhost:8080/",
          "height": 255
        }
      },
      "outputs": [
        {
          "output_type": "execute_result",
          "data": {
            "text/plain": [
              "   CASEID  PREGORDR  HOWPREG_N  HOWPREG_P  MOSCURRP  NOWPRGDK  PREGEND1  \\\n",
              "0   70627         1        NaN        NaN       NaN       NaN       6.0   \n",
              "1   70627         2        NaN        NaN       NaN       NaN       1.0   \n",
              "2   70627         3        NaN        NaN       NaN       NaN       6.0   \n",
              "3   70628         1        NaN        NaN       NaN       NaN       6.0   \n",
              "4   70628         2        NaN        NaN       NaN       NaN       6.0   \n",
              "\n",
              "   PREGEND2  HOWENDDK  NBRNALIV  ...  SECU  SEST  CMINTVW  CMLSTYR  CMJAN3YR  \\\n",
              "0       NaN       NaN       1.0  ...     3   322     1394     1382      1357   \n",
              "1       NaN       NaN       NaN  ...     3   322     1394     1382      1357   \n",
              "2       NaN       NaN       1.0  ...     3   322     1394     1382      1357   \n",
              "3       NaN       NaN       1.0  ...     2   366     1409     1397      1369   \n",
              "4       NaN       NaN       1.0  ...     2   366     1409     1397      1369   \n",
              "\n",
              "   CMJAN4YR  CMJAN5YR  QUARTER  PHASE  INTVWYEAR  \n",
              "0      1345      1333       18      1       2016  \n",
              "1      1345      1333       18      1       2016  \n",
              "2      1345      1333       18      1       2016  \n",
              "3      1357      1345       23      1       2017  \n",
              "4      1357      1345       23      1       2017  \n",
              "\n",
              "[5 rows x 248 columns]"
            ],
            "text/html": [
              "\n",
              "  <div id=\"df-d0b46ba2-de9e-47d9-bab7-fa6316e29079\" class=\"colab-df-container\">\n",
              "    <div>\n",
              "<style scoped>\n",
              "    .dataframe tbody tr th:only-of-type {\n",
              "        vertical-align: middle;\n",
              "    }\n",
              "\n",
              "    .dataframe tbody tr th {\n",
              "        vertical-align: top;\n",
              "    }\n",
              "\n",
              "    .dataframe thead th {\n",
              "        text-align: right;\n",
              "    }\n",
              "</style>\n",
              "<table border=\"1\" class=\"dataframe\">\n",
              "  <thead>\n",
              "    <tr style=\"text-align: right;\">\n",
              "      <th></th>\n",
              "      <th>CASEID</th>\n",
              "      <th>PREGORDR</th>\n",
              "      <th>HOWPREG_N</th>\n",
              "      <th>HOWPREG_P</th>\n",
              "      <th>MOSCURRP</th>\n",
              "      <th>NOWPRGDK</th>\n",
              "      <th>PREGEND1</th>\n",
              "      <th>PREGEND2</th>\n",
              "      <th>HOWENDDK</th>\n",
              "      <th>NBRNALIV</th>\n",
              "      <th>...</th>\n",
              "      <th>SECU</th>\n",
              "      <th>SEST</th>\n",
              "      <th>CMINTVW</th>\n",
              "      <th>CMLSTYR</th>\n",
              "      <th>CMJAN3YR</th>\n",
              "      <th>CMJAN4YR</th>\n",
              "      <th>CMJAN5YR</th>\n",
              "      <th>QUARTER</th>\n",
              "      <th>PHASE</th>\n",
              "      <th>INTVWYEAR</th>\n",
              "    </tr>\n",
              "  </thead>\n",
              "  <tbody>\n",
              "    <tr>\n",
              "      <th>0</th>\n",
              "      <td>70627</td>\n",
              "      <td>1</td>\n",
              "      <td>NaN</td>\n",
              "      <td>NaN</td>\n",
              "      <td>NaN</td>\n",
              "      <td>NaN</td>\n",
              "      <td>6.0</td>\n",
              "      <td>NaN</td>\n",
              "      <td>NaN</td>\n",
              "      <td>1.0</td>\n",
              "      <td>...</td>\n",
              "      <td>3</td>\n",
              "      <td>322</td>\n",
              "      <td>1394</td>\n",
              "      <td>1382</td>\n",
              "      <td>1357</td>\n",
              "      <td>1345</td>\n",
              "      <td>1333</td>\n",
              "      <td>18</td>\n",
              "      <td>1</td>\n",
              "      <td>2016</td>\n",
              "    </tr>\n",
              "    <tr>\n",
              "      <th>1</th>\n",
              "      <td>70627</td>\n",
              "      <td>2</td>\n",
              "      <td>NaN</td>\n",
              "      <td>NaN</td>\n",
              "      <td>NaN</td>\n",
              "      <td>NaN</td>\n",
              "      <td>1.0</td>\n",
              "      <td>NaN</td>\n",
              "      <td>NaN</td>\n",
              "      <td>NaN</td>\n",
              "      <td>...</td>\n",
              "      <td>3</td>\n",
              "      <td>322</td>\n",
              "      <td>1394</td>\n",
              "      <td>1382</td>\n",
              "      <td>1357</td>\n",
              "      <td>1345</td>\n",
              "      <td>1333</td>\n",
              "      <td>18</td>\n",
              "      <td>1</td>\n",
              "      <td>2016</td>\n",
              "    </tr>\n",
              "    <tr>\n",
              "      <th>2</th>\n",
              "      <td>70627</td>\n",
              "      <td>3</td>\n",
              "      <td>NaN</td>\n",
              "      <td>NaN</td>\n",
              "      <td>NaN</td>\n",
              "      <td>NaN</td>\n",
              "      <td>6.0</td>\n",
              "      <td>NaN</td>\n",
              "      <td>NaN</td>\n",
              "      <td>1.0</td>\n",
              "      <td>...</td>\n",
              "      <td>3</td>\n",
              "      <td>322</td>\n",
              "      <td>1394</td>\n",
              "      <td>1382</td>\n",
              "      <td>1357</td>\n",
              "      <td>1345</td>\n",
              "      <td>1333</td>\n",
              "      <td>18</td>\n",
              "      <td>1</td>\n",
              "      <td>2016</td>\n",
              "    </tr>\n",
              "    <tr>\n",
              "      <th>3</th>\n",
              "      <td>70628</td>\n",
              "      <td>1</td>\n",
              "      <td>NaN</td>\n",
              "      <td>NaN</td>\n",
              "      <td>NaN</td>\n",
              "      <td>NaN</td>\n",
              "      <td>6.0</td>\n",
              "      <td>NaN</td>\n",
              "      <td>NaN</td>\n",
              "      <td>1.0</td>\n",
              "      <td>...</td>\n",
              "      <td>2</td>\n",
              "      <td>366</td>\n",
              "      <td>1409</td>\n",
              "      <td>1397</td>\n",
              "      <td>1369</td>\n",
              "      <td>1357</td>\n",
              "      <td>1345</td>\n",
              "      <td>23</td>\n",
              "      <td>1</td>\n",
              "      <td>2017</td>\n",
              "    </tr>\n",
              "    <tr>\n",
              "      <th>4</th>\n",
              "      <td>70628</td>\n",
              "      <td>2</td>\n",
              "      <td>NaN</td>\n",
              "      <td>NaN</td>\n",
              "      <td>NaN</td>\n",
              "      <td>NaN</td>\n",
              "      <td>6.0</td>\n",
              "      <td>NaN</td>\n",
              "      <td>NaN</td>\n",
              "      <td>1.0</td>\n",
              "      <td>...</td>\n",
              "      <td>2</td>\n",
              "      <td>366</td>\n",
              "      <td>1409</td>\n",
              "      <td>1397</td>\n",
              "      <td>1369</td>\n",
              "      <td>1357</td>\n",
              "      <td>1345</td>\n",
              "      <td>23</td>\n",
              "      <td>1</td>\n",
              "      <td>2017</td>\n",
              "    </tr>\n",
              "  </tbody>\n",
              "</table>\n",
              "<p>5 rows × 248 columns</p>\n",
              "</div>\n",
              "    <div class=\"colab-df-buttons\">\n",
              "\n",
              "  <div class=\"colab-df-container\">\n",
              "    <button class=\"colab-df-convert\" onclick=\"convertToInteractive('df-d0b46ba2-de9e-47d9-bab7-fa6316e29079')\"\n",
              "            title=\"Convert this dataframe to an interactive table.\"\n",
              "            style=\"display:none;\">\n",
              "\n",
              "  <svg xmlns=\"http://www.w3.org/2000/svg\" height=\"24px\" viewBox=\"0 -960 960 960\">\n",
              "    <path d=\"M120-120v-720h720v720H120Zm60-500h600v-160H180v160Zm220 220h160v-160H400v160Zm0 220h160v-160H400v160ZM180-400h160v-160H180v160Zm440 0h160v-160H620v160ZM180-180h160v-160H180v160Zm440 0h160v-160H620v160Z\"/>\n",
              "  </svg>\n",
              "    </button>\n",
              "\n",
              "  <style>\n",
              "    .colab-df-container {\n",
              "      display:flex;\n",
              "      gap: 12px;\n",
              "    }\n",
              "\n",
              "    .colab-df-convert {\n",
              "      background-color: #E8F0FE;\n",
              "      border: none;\n",
              "      border-radius: 50%;\n",
              "      cursor: pointer;\n",
              "      display: none;\n",
              "      fill: #1967D2;\n",
              "      height: 32px;\n",
              "      padding: 0 0 0 0;\n",
              "      width: 32px;\n",
              "    }\n",
              "\n",
              "    .colab-df-convert:hover {\n",
              "      background-color: #E2EBFA;\n",
              "      box-shadow: 0px 1px 2px rgba(60, 64, 67, 0.3), 0px 1px 3px 1px rgba(60, 64, 67, 0.15);\n",
              "      fill: #174EA6;\n",
              "    }\n",
              "\n",
              "    .colab-df-buttons div {\n",
              "      margin-bottom: 4px;\n",
              "    }\n",
              "\n",
              "    [theme=dark] .colab-df-convert {\n",
              "      background-color: #3B4455;\n",
              "      fill: #D2E3FC;\n",
              "    }\n",
              "\n",
              "    [theme=dark] .colab-df-convert:hover {\n",
              "      background-color: #434B5C;\n",
              "      box-shadow: 0px 1px 3px 1px rgba(0, 0, 0, 0.15);\n",
              "      filter: drop-shadow(0px 1px 2px rgba(0, 0, 0, 0.3));\n",
              "      fill: #FFFFFF;\n",
              "    }\n",
              "  </style>\n",
              "\n",
              "    <script>\n",
              "      const buttonEl =\n",
              "        document.querySelector('#df-d0b46ba2-de9e-47d9-bab7-fa6316e29079 button.colab-df-convert');\n",
              "      buttonEl.style.display =\n",
              "        google.colab.kernel.accessAllowed ? 'block' : 'none';\n",
              "\n",
              "      async function convertToInteractive(key) {\n",
              "        const element = document.querySelector('#df-d0b46ba2-de9e-47d9-bab7-fa6316e29079');\n",
              "        const dataTable =\n",
              "          await google.colab.kernel.invokeFunction('convertToInteractive',\n",
              "                                                    [key], {});\n",
              "        if (!dataTable) return;\n",
              "\n",
              "        const docLinkHtml = 'Like what you see? Visit the ' +\n",
              "          '<a target=\"_blank\" href=https://colab.research.google.com/notebooks/data_table.ipynb>data table notebook</a>'\n",
              "          + ' to learn more about interactive tables.';\n",
              "        element.innerHTML = '';\n",
              "        dataTable['output_type'] = 'display_data';\n",
              "        await google.colab.output.renderOutput(dataTable, element);\n",
              "        const docLink = document.createElement('div');\n",
              "        docLink.innerHTML = docLinkHtml;\n",
              "        element.appendChild(docLink);\n",
              "      }\n",
              "    </script>\n",
              "  </div>\n",
              "\n",
              "\n",
              "<div id=\"df-59a98ebb-f2df-49af-b809-c684b0b5d725\">\n",
              "  <button class=\"colab-df-quickchart\" onclick=\"quickchart('df-59a98ebb-f2df-49af-b809-c684b0b5d725')\"\n",
              "            title=\"Suggest charts\"\n",
              "            style=\"display:none;\">\n",
              "\n",
              "<svg xmlns=\"http://www.w3.org/2000/svg\" height=\"24px\"viewBox=\"0 0 24 24\"\n",
              "     width=\"24px\">\n",
              "    <g>\n",
              "        <path d=\"M19 3H5c-1.1 0-2 .9-2 2v14c0 1.1.9 2 2 2h14c1.1 0 2-.9 2-2V5c0-1.1-.9-2-2-2zM9 17H7v-7h2v7zm4 0h-2V7h2v10zm4 0h-2v-4h2v4z\"/>\n",
              "    </g>\n",
              "</svg>\n",
              "  </button>\n",
              "\n",
              "<style>\n",
              "  .colab-df-quickchart {\n",
              "      --bg-color: #E8F0FE;\n",
              "      --fill-color: #1967D2;\n",
              "      --hover-bg-color: #E2EBFA;\n",
              "      --hover-fill-color: #174EA6;\n",
              "      --disabled-fill-color: #AAA;\n",
              "      --disabled-bg-color: #DDD;\n",
              "  }\n",
              "\n",
              "  [theme=dark] .colab-df-quickchart {\n",
              "      --bg-color: #3B4455;\n",
              "      --fill-color: #D2E3FC;\n",
              "      --hover-bg-color: #434B5C;\n",
              "      --hover-fill-color: #FFFFFF;\n",
              "      --disabled-bg-color: #3B4455;\n",
              "      --disabled-fill-color: #666;\n",
              "  }\n",
              "\n",
              "  .colab-df-quickchart {\n",
              "    background-color: var(--bg-color);\n",
              "    border: none;\n",
              "    border-radius: 50%;\n",
              "    cursor: pointer;\n",
              "    display: none;\n",
              "    fill: var(--fill-color);\n",
              "    height: 32px;\n",
              "    padding: 0;\n",
              "    width: 32px;\n",
              "  }\n",
              "\n",
              "  .colab-df-quickchart:hover {\n",
              "    background-color: var(--hover-bg-color);\n",
              "    box-shadow: 0 1px 2px rgba(60, 64, 67, 0.3), 0 1px 3px 1px rgba(60, 64, 67, 0.15);\n",
              "    fill: var(--button-hover-fill-color);\n",
              "  }\n",
              "\n",
              "  .colab-df-quickchart-complete:disabled,\n",
              "  .colab-df-quickchart-complete:disabled:hover {\n",
              "    background-color: var(--disabled-bg-color);\n",
              "    fill: var(--disabled-fill-color);\n",
              "    box-shadow: none;\n",
              "  }\n",
              "\n",
              "  .colab-df-spinner {\n",
              "    border: 2px solid var(--fill-color);\n",
              "    border-color: transparent;\n",
              "    border-bottom-color: var(--fill-color);\n",
              "    animation:\n",
              "      spin 1s steps(1) infinite;\n",
              "  }\n",
              "\n",
              "  @keyframes spin {\n",
              "    0% {\n",
              "      border-color: transparent;\n",
              "      border-bottom-color: var(--fill-color);\n",
              "      border-left-color: var(--fill-color);\n",
              "    }\n",
              "    20% {\n",
              "      border-color: transparent;\n",
              "      border-left-color: var(--fill-color);\n",
              "      border-top-color: var(--fill-color);\n",
              "    }\n",
              "    30% {\n",
              "      border-color: transparent;\n",
              "      border-left-color: var(--fill-color);\n",
              "      border-top-color: var(--fill-color);\n",
              "      border-right-color: var(--fill-color);\n",
              "    }\n",
              "    40% {\n",
              "      border-color: transparent;\n",
              "      border-right-color: var(--fill-color);\n",
              "      border-top-color: var(--fill-color);\n",
              "    }\n",
              "    60% {\n",
              "      border-color: transparent;\n",
              "      border-right-color: var(--fill-color);\n",
              "    }\n",
              "    80% {\n",
              "      border-color: transparent;\n",
              "      border-right-color: var(--fill-color);\n",
              "      border-bottom-color: var(--fill-color);\n",
              "    }\n",
              "    90% {\n",
              "      border-color: transparent;\n",
              "      border-bottom-color: var(--fill-color);\n",
              "    }\n",
              "  }\n",
              "</style>\n",
              "\n",
              "  <script>\n",
              "    async function quickchart(key) {\n",
              "      const quickchartButtonEl =\n",
              "        document.querySelector('#' + key + ' button');\n",
              "      quickchartButtonEl.disabled = true;  // To prevent multiple clicks.\n",
              "      quickchartButtonEl.classList.add('colab-df-spinner');\n",
              "      try {\n",
              "        const charts = await google.colab.kernel.invokeFunction(\n",
              "            'suggestCharts', [key], {});\n",
              "      } catch (error) {\n",
              "        console.error('Error during call to suggestCharts:', error);\n",
              "      }\n",
              "      quickchartButtonEl.classList.remove('colab-df-spinner');\n",
              "      quickchartButtonEl.classList.add('colab-df-quickchart-complete');\n",
              "    }\n",
              "    (() => {\n",
              "      let quickchartButtonEl =\n",
              "        document.querySelector('#df-59a98ebb-f2df-49af-b809-c684b0b5d725 button');\n",
              "      quickchartButtonEl.style.display =\n",
              "        google.colab.kernel.accessAllowed ? 'block' : 'none';\n",
              "    })();\n",
              "  </script>\n",
              "</div>\n",
              "\n",
              "    </div>\n",
              "  </div>\n"
            ],
            "application/vnd.google.colaboratory.intrinsic+json": {
              "type": "dataframe",
              "variable_name": "nsfg"
            }
          },
          "metadata": {},
          "execution_count": 116
        }
      ],
      "source": [
        "nsfg.head()"
      ]
    },
    {
      "cell_type": "code",
      "execution_count": 117,
      "metadata": {
        "tags": [],
        "id": "l7sZiX_s4lp1"
      },
      "outputs": [],
      "source": [
        "# NOTE: For the printed version of the book,\n",
        "# I'm using iloc to show\n",
        "# the first 5 rows and first 9 columns"
      ]
    },
    {
      "cell_type": "code",
      "execution_count": 118,
      "metadata": {
        "id": "G4kLJtgn4lp1",
        "outputId": "b364d0a9-99cb-49ce-caaa-c0e90a8b7e0b",
        "colab": {
          "base_uri": "https://localhost:8080/",
          "height": 206
        }
      },
      "outputs": [
        {
          "output_type": "execute_result",
          "data": {
            "text/plain": [
              "   CASEID  PREGORDR  HOWPREG_N  HOWPREG_P  MOSCURRP  NOWPRGDK  PREGEND1\n",
              "0   70627         1        NaN        NaN       NaN       NaN       6.0\n",
              "1   70627         2        NaN        NaN       NaN       NaN       1.0\n",
              "2   70627         3        NaN        NaN       NaN       NaN       6.0\n",
              "3   70628         1        NaN        NaN       NaN       NaN       6.0\n",
              "4   70628         2        NaN        NaN       NaN       NaN       6.0"
            ],
            "text/html": [
              "\n",
              "  <div id=\"df-dabbaf3c-279a-4428-a050-3c294b3b0817\" class=\"colab-df-container\">\n",
              "    <div>\n",
              "<style scoped>\n",
              "    .dataframe tbody tr th:only-of-type {\n",
              "        vertical-align: middle;\n",
              "    }\n",
              "\n",
              "    .dataframe tbody tr th {\n",
              "        vertical-align: top;\n",
              "    }\n",
              "\n",
              "    .dataframe thead th {\n",
              "        text-align: right;\n",
              "    }\n",
              "</style>\n",
              "<table border=\"1\" class=\"dataframe\">\n",
              "  <thead>\n",
              "    <tr style=\"text-align: right;\">\n",
              "      <th></th>\n",
              "      <th>CASEID</th>\n",
              "      <th>PREGORDR</th>\n",
              "      <th>HOWPREG_N</th>\n",
              "      <th>HOWPREG_P</th>\n",
              "      <th>MOSCURRP</th>\n",
              "      <th>NOWPRGDK</th>\n",
              "      <th>PREGEND1</th>\n",
              "    </tr>\n",
              "  </thead>\n",
              "  <tbody>\n",
              "    <tr>\n",
              "      <th>0</th>\n",
              "      <td>70627</td>\n",
              "      <td>1</td>\n",
              "      <td>NaN</td>\n",
              "      <td>NaN</td>\n",
              "      <td>NaN</td>\n",
              "      <td>NaN</td>\n",
              "      <td>6.0</td>\n",
              "    </tr>\n",
              "    <tr>\n",
              "      <th>1</th>\n",
              "      <td>70627</td>\n",
              "      <td>2</td>\n",
              "      <td>NaN</td>\n",
              "      <td>NaN</td>\n",
              "      <td>NaN</td>\n",
              "      <td>NaN</td>\n",
              "      <td>1.0</td>\n",
              "    </tr>\n",
              "    <tr>\n",
              "      <th>2</th>\n",
              "      <td>70627</td>\n",
              "      <td>3</td>\n",
              "      <td>NaN</td>\n",
              "      <td>NaN</td>\n",
              "      <td>NaN</td>\n",
              "      <td>NaN</td>\n",
              "      <td>6.0</td>\n",
              "    </tr>\n",
              "    <tr>\n",
              "      <th>3</th>\n",
              "      <td>70628</td>\n",
              "      <td>1</td>\n",
              "      <td>NaN</td>\n",
              "      <td>NaN</td>\n",
              "      <td>NaN</td>\n",
              "      <td>NaN</td>\n",
              "      <td>6.0</td>\n",
              "    </tr>\n",
              "    <tr>\n",
              "      <th>4</th>\n",
              "      <td>70628</td>\n",
              "      <td>2</td>\n",
              "      <td>NaN</td>\n",
              "      <td>NaN</td>\n",
              "      <td>NaN</td>\n",
              "      <td>NaN</td>\n",
              "      <td>6.0</td>\n",
              "    </tr>\n",
              "  </tbody>\n",
              "</table>\n",
              "</div>\n",
              "    <div class=\"colab-df-buttons\">\n",
              "\n",
              "  <div class=\"colab-df-container\">\n",
              "    <button class=\"colab-df-convert\" onclick=\"convertToInteractive('df-dabbaf3c-279a-4428-a050-3c294b3b0817')\"\n",
              "            title=\"Convert this dataframe to an interactive table.\"\n",
              "            style=\"display:none;\">\n",
              "\n",
              "  <svg xmlns=\"http://www.w3.org/2000/svg\" height=\"24px\" viewBox=\"0 -960 960 960\">\n",
              "    <path d=\"M120-120v-720h720v720H120Zm60-500h600v-160H180v160Zm220 220h160v-160H400v160Zm0 220h160v-160H400v160ZM180-400h160v-160H180v160Zm440 0h160v-160H620v160ZM180-180h160v-160H180v160Zm440 0h160v-160H620v160Z\"/>\n",
              "  </svg>\n",
              "    </button>\n",
              "\n",
              "  <style>\n",
              "    .colab-df-container {\n",
              "      display:flex;\n",
              "      gap: 12px;\n",
              "    }\n",
              "\n",
              "    .colab-df-convert {\n",
              "      background-color: #E8F0FE;\n",
              "      border: none;\n",
              "      border-radius: 50%;\n",
              "      cursor: pointer;\n",
              "      display: none;\n",
              "      fill: #1967D2;\n",
              "      height: 32px;\n",
              "      padding: 0 0 0 0;\n",
              "      width: 32px;\n",
              "    }\n",
              "\n",
              "    .colab-df-convert:hover {\n",
              "      background-color: #E2EBFA;\n",
              "      box-shadow: 0px 1px 2px rgba(60, 64, 67, 0.3), 0px 1px 3px 1px rgba(60, 64, 67, 0.15);\n",
              "      fill: #174EA6;\n",
              "    }\n",
              "\n",
              "    .colab-df-buttons div {\n",
              "      margin-bottom: 4px;\n",
              "    }\n",
              "\n",
              "    [theme=dark] .colab-df-convert {\n",
              "      background-color: #3B4455;\n",
              "      fill: #D2E3FC;\n",
              "    }\n",
              "\n",
              "    [theme=dark] .colab-df-convert:hover {\n",
              "      background-color: #434B5C;\n",
              "      box-shadow: 0px 1px 3px 1px rgba(0, 0, 0, 0.15);\n",
              "      filter: drop-shadow(0px 1px 2px rgba(0, 0, 0, 0.3));\n",
              "      fill: #FFFFFF;\n",
              "    }\n",
              "  </style>\n",
              "\n",
              "    <script>\n",
              "      const buttonEl =\n",
              "        document.querySelector('#df-dabbaf3c-279a-4428-a050-3c294b3b0817 button.colab-df-convert');\n",
              "      buttonEl.style.display =\n",
              "        google.colab.kernel.accessAllowed ? 'block' : 'none';\n",
              "\n",
              "      async function convertToInteractive(key) {\n",
              "        const element = document.querySelector('#df-dabbaf3c-279a-4428-a050-3c294b3b0817');\n",
              "        const dataTable =\n",
              "          await google.colab.kernel.invokeFunction('convertToInteractive',\n",
              "                                                    [key], {});\n",
              "        if (!dataTable) return;\n",
              "\n",
              "        const docLinkHtml = 'Like what you see? Visit the ' +\n",
              "          '<a target=\"_blank\" href=https://colab.research.google.com/notebooks/data_table.ipynb>data table notebook</a>'\n",
              "          + ' to learn more about interactive tables.';\n",
              "        element.innerHTML = '';\n",
              "        dataTable['output_type'] = 'display_data';\n",
              "        await google.colab.output.renderOutput(dataTable, element);\n",
              "        const docLink = document.createElement('div');\n",
              "        docLink.innerHTML = docLinkHtml;\n",
              "        element.appendChild(docLink);\n",
              "      }\n",
              "    </script>\n",
              "  </div>\n",
              "\n",
              "\n",
              "<div id=\"df-12c55ad6-3dec-4084-9e08-af93ee278c17\">\n",
              "  <button class=\"colab-df-quickchart\" onclick=\"quickchart('df-12c55ad6-3dec-4084-9e08-af93ee278c17')\"\n",
              "            title=\"Suggest charts\"\n",
              "            style=\"display:none;\">\n",
              "\n",
              "<svg xmlns=\"http://www.w3.org/2000/svg\" height=\"24px\"viewBox=\"0 0 24 24\"\n",
              "     width=\"24px\">\n",
              "    <g>\n",
              "        <path d=\"M19 3H5c-1.1 0-2 .9-2 2v14c0 1.1.9 2 2 2h14c1.1 0 2-.9 2-2V5c0-1.1-.9-2-2-2zM9 17H7v-7h2v7zm4 0h-2V7h2v10zm4 0h-2v-4h2v4z\"/>\n",
              "    </g>\n",
              "</svg>\n",
              "  </button>\n",
              "\n",
              "<style>\n",
              "  .colab-df-quickchart {\n",
              "      --bg-color: #E8F0FE;\n",
              "      --fill-color: #1967D2;\n",
              "      --hover-bg-color: #E2EBFA;\n",
              "      --hover-fill-color: #174EA6;\n",
              "      --disabled-fill-color: #AAA;\n",
              "      --disabled-bg-color: #DDD;\n",
              "  }\n",
              "\n",
              "  [theme=dark] .colab-df-quickchart {\n",
              "      --bg-color: #3B4455;\n",
              "      --fill-color: #D2E3FC;\n",
              "      --hover-bg-color: #434B5C;\n",
              "      --hover-fill-color: #FFFFFF;\n",
              "      --disabled-bg-color: #3B4455;\n",
              "      --disabled-fill-color: #666;\n",
              "  }\n",
              "\n",
              "  .colab-df-quickchart {\n",
              "    background-color: var(--bg-color);\n",
              "    border: none;\n",
              "    border-radius: 50%;\n",
              "    cursor: pointer;\n",
              "    display: none;\n",
              "    fill: var(--fill-color);\n",
              "    height: 32px;\n",
              "    padding: 0;\n",
              "    width: 32px;\n",
              "  }\n",
              "\n",
              "  .colab-df-quickchart:hover {\n",
              "    background-color: var(--hover-bg-color);\n",
              "    box-shadow: 0 1px 2px rgba(60, 64, 67, 0.3), 0 1px 3px 1px rgba(60, 64, 67, 0.15);\n",
              "    fill: var(--button-hover-fill-color);\n",
              "  }\n",
              "\n",
              "  .colab-df-quickchart-complete:disabled,\n",
              "  .colab-df-quickchart-complete:disabled:hover {\n",
              "    background-color: var(--disabled-bg-color);\n",
              "    fill: var(--disabled-fill-color);\n",
              "    box-shadow: none;\n",
              "  }\n",
              "\n",
              "  .colab-df-spinner {\n",
              "    border: 2px solid var(--fill-color);\n",
              "    border-color: transparent;\n",
              "    border-bottom-color: var(--fill-color);\n",
              "    animation:\n",
              "      spin 1s steps(1) infinite;\n",
              "  }\n",
              "\n",
              "  @keyframes spin {\n",
              "    0% {\n",
              "      border-color: transparent;\n",
              "      border-bottom-color: var(--fill-color);\n",
              "      border-left-color: var(--fill-color);\n",
              "    }\n",
              "    20% {\n",
              "      border-color: transparent;\n",
              "      border-left-color: var(--fill-color);\n",
              "      border-top-color: var(--fill-color);\n",
              "    }\n",
              "    30% {\n",
              "      border-color: transparent;\n",
              "      border-left-color: var(--fill-color);\n",
              "      border-top-color: var(--fill-color);\n",
              "      border-right-color: var(--fill-color);\n",
              "    }\n",
              "    40% {\n",
              "      border-color: transparent;\n",
              "      border-right-color: var(--fill-color);\n",
              "      border-top-color: var(--fill-color);\n",
              "    }\n",
              "    60% {\n",
              "      border-color: transparent;\n",
              "      border-right-color: var(--fill-color);\n",
              "    }\n",
              "    80% {\n",
              "      border-color: transparent;\n",
              "      border-right-color: var(--fill-color);\n",
              "      border-bottom-color: var(--fill-color);\n",
              "    }\n",
              "    90% {\n",
              "      border-color: transparent;\n",
              "      border-bottom-color: var(--fill-color);\n",
              "    }\n",
              "  }\n",
              "</style>\n",
              "\n",
              "  <script>\n",
              "    async function quickchart(key) {\n",
              "      const quickchartButtonEl =\n",
              "        document.querySelector('#' + key + ' button');\n",
              "      quickchartButtonEl.disabled = true;  // To prevent multiple clicks.\n",
              "      quickchartButtonEl.classList.add('colab-df-spinner');\n",
              "      try {\n",
              "        const charts = await google.colab.kernel.invokeFunction(\n",
              "            'suggestCharts', [key], {});\n",
              "      } catch (error) {\n",
              "        console.error('Error during call to suggestCharts:', error);\n",
              "      }\n",
              "      quickchartButtonEl.classList.remove('colab-df-spinner');\n",
              "      quickchartButtonEl.classList.add('colab-df-quickchart-complete');\n",
              "    }\n",
              "    (() => {\n",
              "      let quickchartButtonEl =\n",
              "        document.querySelector('#df-12c55ad6-3dec-4084-9e08-af93ee278c17 button');\n",
              "      quickchartButtonEl.style.display =\n",
              "        google.colab.kernel.accessAllowed ? 'block' : 'none';\n",
              "    })();\n",
              "  </script>\n",
              "</div>\n",
              "\n",
              "    </div>\n",
              "  </div>\n"
            ],
            "application/vnd.google.colaboratory.intrinsic+json": {
              "type": "dataframe",
              "summary": "{\n  \"name\": \"nsfg\",\n  \"rows\": 5,\n  \"fields\": [\n    {\n      \"column\": \"CASEID\",\n      \"properties\": {\n        \"dtype\": \"number\",\n        \"std\": 0,\n        \"min\": 70627,\n        \"max\": 70628,\n        \"num_unique_values\": 2,\n        \"samples\": [\n          70628,\n          70627\n        ],\n        \"semantic_type\": \"\",\n        \"description\": \"\"\n      }\n    },\n    {\n      \"column\": \"PREGORDR\",\n      \"properties\": {\n        \"dtype\": \"number\",\n        \"std\": 0,\n        \"min\": 1,\n        \"max\": 3,\n        \"num_unique_values\": 3,\n        \"samples\": [\n          1,\n          2\n        ],\n        \"semantic_type\": \"\",\n        \"description\": \"\"\n      }\n    },\n    {\n      \"column\": \"HOWPREG_N\",\n      \"properties\": {\n        \"dtype\": \"number\",\n        \"std\": null,\n        \"min\": null,\n        \"max\": null,\n        \"num_unique_values\": 0,\n        \"samples\": [],\n        \"semantic_type\": \"\",\n        \"description\": \"\"\n      }\n    },\n    {\n      \"column\": \"HOWPREG_P\",\n      \"properties\": {\n        \"dtype\": \"number\",\n        \"std\": null,\n        \"min\": null,\n        \"max\": null,\n        \"num_unique_values\": 0,\n        \"samples\": [],\n        \"semantic_type\": \"\",\n        \"description\": \"\"\n      }\n    },\n    {\n      \"column\": \"MOSCURRP\",\n      \"properties\": {\n        \"dtype\": \"number\",\n        \"std\": null,\n        \"min\": null,\n        \"max\": null,\n        \"num_unique_values\": 0,\n        \"samples\": [],\n        \"semantic_type\": \"\",\n        \"description\": \"\"\n      }\n    },\n    {\n      \"column\": \"NOWPRGDK\",\n      \"properties\": {\n        \"dtype\": \"number\",\n        \"std\": null,\n        \"min\": null,\n        \"max\": null,\n        \"num_unique_values\": 0,\n        \"samples\": [],\n        \"semantic_type\": \"\",\n        \"description\": \"\"\n      }\n    },\n    {\n      \"column\": \"PREGEND1\",\n      \"properties\": {\n        \"dtype\": \"number\",\n        \"std\": 2.23606797749979,\n        \"min\": 1.0,\n        \"max\": 6.0,\n        \"num_unique_values\": 2,\n        \"samples\": [],\n        \"semantic_type\": \"\",\n        \"description\": \"\"\n      }\n    }\n  ]\n}"
            }
          },
          "metadata": {},
          "execution_count": 118
        }
      ],
      "source": [
        "nsfg.iloc[:5,:7]"
      ]
    },
    {
      "cell_type": "markdown",
      "metadata": {
        "id": "0gtGnRfe4lp1"
      },
      "source": [
        "The first two columns are is `CASEID` and `PREGORDR`, which I mentioned earlier.\n",
        "The first three rows have the same `CASEID`, so this respondent reported three pregnancies; the values of `PREGORDR` indicate that they are the first, second, and third pregnancies, in that order.\n",
        "\n",
        "We will learn more about the other variables as we go along."
      ]
    },
    {
      "cell_type": "markdown",
      "metadata": {
        "id": "jxB9Okm54lp2"
      },
      "source": [
        "In addition to methods like `head`, a `Dataframe` object has several **attributes**, which are variables associated with the object.\n",
        "For example, `nsfg` has an attribute called `shape`, which is a tuple containing the number of rows and columns:"
      ]
    },
    {
      "cell_type": "code",
      "execution_count": 119,
      "metadata": {
        "id": "pn9cOqUT4lp2",
        "outputId": "1c3293d0-2c7e-414b-d17e-b680c4f5ed70",
        "colab": {
          "base_uri": "https://localhost:8080/"
        }
      },
      "outputs": [
        {
          "output_type": "execute_result",
          "data": {
            "text/plain": [
              "(9553, 248)"
            ]
          },
          "metadata": {},
          "execution_count": 119
        }
      ],
      "source": [
        "nsfg.shape"
      ]
    },
    {
      "cell_type": "markdown",
      "metadata": {
        "id": "gxS6F0Q74lp2"
      },
      "source": [
        "There are 9553 rows in this dataset, one for each pregnancy, and 248 columns, one for each variable.\n",
        "\n",
        "`nsfg` also has an attribute called `columns`, which contains the column names:"
      ]
    },
    {
      "cell_type": "code",
      "execution_count": 120,
      "metadata": {
        "id": "EJTC2psT4lp2",
        "outputId": "e21eda17-801f-4b15-ee37-3a43653b3bfc",
        "colab": {
          "base_uri": "https://localhost:8080/"
        }
      },
      "outputs": [
        {
          "output_type": "execute_result",
          "data": {
            "text/plain": [
              "Index(['CASEID', 'PREGORDR', 'HOWPREG_N', 'HOWPREG_P', 'MOSCURRP', 'NOWPRGDK',\n",
              "       'PREGEND1', 'PREGEND2', 'HOWENDDK', 'NBRNALIV',\n",
              "       ...\n",
              "       'SECU', 'SEST', 'CMINTVW', 'CMLSTYR', 'CMJAN3YR', 'CMJAN4YR',\n",
              "       'CMJAN5YR', 'QUARTER', 'PHASE', 'INTVWYEAR'],\n",
              "      dtype='object', length=248)"
            ]
          },
          "metadata": {},
          "execution_count": 120
        }
      ],
      "source": [
        "nsfg.columns"
      ]
    },
    {
      "cell_type": "markdown",
      "metadata": {
        "id": "9Ek4ZNuG4lp2"
      },
      "source": [
        "The column names are stored in an `Index`, which is another Pandas type, similar to a list."
      ]
    },
    {
      "cell_type": "code",
      "execution_count": 121,
      "metadata": {
        "tags": [],
        "id": "y0-4HYiK4lp2",
        "outputId": "9d279251-8657-4aef-c203-6c830adb4440",
        "colab": {
          "base_uri": "https://localhost:8080/"
        }
      },
      "outputs": [
        {
          "output_type": "execute_result",
          "data": {
            "text/plain": [
              "pandas.core.indexes.base.Index"
            ]
          },
          "metadata": {},
          "execution_count": 121
        }
      ],
      "source": [
        "type(nsfg.columns)"
      ]
    },
    {
      "cell_type": "markdown",
      "metadata": {
        "id": "cHWsHCfp4lp2"
      },
      "source": [
        "Based on the column names, you might be able to guess what some of the variables are, but in general you have to read the documentation."
      ]
    },
    {
      "cell_type": "markdown",
      "metadata": {
        "id": "QVIP0NGk4lp2"
      },
      "source": [
        "When you work with datasets like the NSFG, it is important to read the documentation carefully. If you interpret a variable incorrectly, you can generate nonsense results and never realize it. So, before we start looking at data, let's get familiar with the NSFG codebook, which describes every variable.\n",
        "You can download the codebook for this dataset from <https://github.com/AllenDowney/ElementsOfDataScience/raw/master/data/2015-2017_NSFG_FemPregFile_Codebook-508.pdf>.\n",
        "\n",
        "If you search that document for \"weigh at birth\" you should find these variables related to birth weight.\n",
        "\n",
        "* `BIRTHWGT_LB1`: Birthweight in Pounds - 1st baby from this pregnancy\n",
        "\n",
        "* `BIRTHWGT_OZ1`: Birthweight in Ounces - 1st baby from this pregnancy\n",
        "\n",
        "There are similar variables for a 2nd or 3rd baby, in the case of twins or triplets.\n",
        "For now we will focus on the first baby from each pregnancy, and we will come back to the issue of multiple births."
      ]
    },
    {
      "cell_type": "markdown",
      "metadata": {
        "id": "Ai6bBIXg4lp3"
      },
      "source": [
        "## Series\n",
        "\n",
        "In many ways a `DataFrame` is like a Python dictionary, where the column names are the keys and the columns are the values.  You can select a column from a `DataFrame` using the bracket operator, with a string as the key."
      ]
    },
    {
      "cell_type": "code",
      "execution_count": 122,
      "metadata": {
        "id": "7hsTCfXE4lp3",
        "outputId": "8b4bb8c7-8b1b-44d5-fa73-0a8d195a6a0e",
        "colab": {
          "base_uri": "https://localhost:8080/",
          "height": 203
        }
      },
      "outputs": [
        {
          "output_type": "execute_result",
          "data": {
            "text/plain": [
              "pandas.core.series.Series"
            ],
            "text/html": [
              "<div style=\"max-width:800px; border: 1px solid var(--colab-border-color);\"><style>\n",
              "      pre.function-repr-contents {\n",
              "        overflow-x: auto;\n",
              "        padding: 8px 12px;\n",
              "        max-height: 500px;\n",
              "      }\n",
              "\n",
              "      pre.function-repr-contents.function-repr-contents-collapsed {\n",
              "        cursor: pointer;\n",
              "        max-height: 100px;\n",
              "      }\n",
              "    </style>\n",
              "    <pre style=\"white-space: initial; background:\n",
              "         var(--colab-secondary-surface-color); padding: 8px 12px;\n",
              "         border-bottom: 1px solid var(--colab-border-color);\"><b>pandas.core.series.Series</b><br/>def __init__(data=None, index=None, dtype: Dtype | None=None, name=None, copy: bool=False, fastpath: bool=False) -&gt; None</pre><pre class=\"function-repr-contents function-repr-contents-collapsed\" style=\"\"><a class=\"filepath\" style=\"display:none\" href=\"#\">/usr/local/lib/python3.10/dist-packages/pandas/core/series.py</a>One-dimensional ndarray with axis labels (including time series).\n",
              "\n",
              "Labels need not be unique but must be a hashable type. The object\n",
              "supports both integer- and label-based indexing and provides a host of\n",
              "methods for performing operations involving the index. Statistical\n",
              "methods from ndarray have been overridden to automatically exclude\n",
              "missing data (currently represented as NaN).\n",
              "\n",
              "Operations between Series (+, -, /, \\*, \\*\\*) align values based on their\n",
              "associated index values-- they need not be the same length. The result\n",
              "index will be the sorted union of the two indexes.\n",
              "\n",
              "Parameters\n",
              "----------\n",
              "data : array-like, Iterable, dict, or scalar value\n",
              "    Contains data stored in Series. If data is a dict, argument order is\n",
              "    maintained.\n",
              "index : array-like or Index (1d)\n",
              "    Values must be hashable and have the same length as `data`.\n",
              "    Non-unique index values are allowed. Will default to\n",
              "    RangeIndex (0, 1, 2, ..., n) if not provided. If data is dict-like\n",
              "    and index is None, then the keys in the data are used as the index. If the\n",
              "    index is not None, the resulting Series is reindexed with the index values.\n",
              "dtype : str, numpy.dtype, or ExtensionDtype, optional\n",
              "    Data type for the output Series. If not specified, this will be\n",
              "    inferred from `data`.\n",
              "    See the :ref:`user guide &lt;basics.dtypes&gt;` for more usages.\n",
              "name : str, optional\n",
              "    The name to give to the Series.\n",
              "copy : bool, default False\n",
              "    Copy input data. Only affects Series or 1d ndarray input. See examples.\n",
              "\n",
              "Notes\n",
              "-----\n",
              "Please reference the :ref:`User Guide &lt;basics.series&gt;` for more information.\n",
              "\n",
              "Examples\n",
              "--------\n",
              "Constructing Series from a dictionary with an Index specified\n",
              "\n",
              "&gt;&gt;&gt; d = {&#x27;a&#x27;: 1, &#x27;b&#x27;: 2, &#x27;c&#x27;: 3}\n",
              "&gt;&gt;&gt; ser = pd.Series(data=d, index=[&#x27;a&#x27;, &#x27;b&#x27;, &#x27;c&#x27;])\n",
              "&gt;&gt;&gt; ser\n",
              "a   1\n",
              "b   2\n",
              "c   3\n",
              "dtype: int64\n",
              "\n",
              "The keys of the dictionary match with the Index values, hence the Index\n",
              "values have no effect.\n",
              "\n",
              "&gt;&gt;&gt; d = {&#x27;a&#x27;: 1, &#x27;b&#x27;: 2, &#x27;c&#x27;: 3}\n",
              "&gt;&gt;&gt; ser = pd.Series(data=d, index=[&#x27;x&#x27;, &#x27;y&#x27;, &#x27;z&#x27;])\n",
              "&gt;&gt;&gt; ser\n",
              "x   NaN\n",
              "y   NaN\n",
              "z   NaN\n",
              "dtype: float64\n",
              "\n",
              "Note that the Index is first build with the keys from the dictionary.\n",
              "After this the Series is reindexed with the given Index values, hence we\n",
              "get all NaN as a result.\n",
              "\n",
              "Constructing Series from a list with `copy=False`.\n",
              "\n",
              "&gt;&gt;&gt; r = [1, 2]\n",
              "&gt;&gt;&gt; ser = pd.Series(r, copy=False)\n",
              "&gt;&gt;&gt; ser.iloc[0] = 999\n",
              "&gt;&gt;&gt; r\n",
              "[1, 2]\n",
              "&gt;&gt;&gt; ser\n",
              "0    999\n",
              "1      2\n",
              "dtype: int64\n",
              "\n",
              "Due to input data type the Series has a `copy` of\n",
              "the original data even though `copy=False`, so\n",
              "the data is unchanged.\n",
              "\n",
              "Constructing Series from a 1d ndarray with `copy=False`.\n",
              "\n",
              "&gt;&gt;&gt; r = np.array([1, 2])\n",
              "&gt;&gt;&gt; ser = pd.Series(r, copy=False)\n",
              "&gt;&gt;&gt; ser.iloc[0] = 999\n",
              "&gt;&gt;&gt; r\n",
              "array([999,   2])\n",
              "&gt;&gt;&gt; ser\n",
              "0    999\n",
              "1      2\n",
              "dtype: int64\n",
              "\n",
              "Due to input data type the Series has a `view` on\n",
              "the original data, so\n",
              "the data is changed as well.</pre>\n",
              "      <script>\n",
              "      if (google.colab.kernel.accessAllowed && google.colab.files && google.colab.files.view) {\n",
              "        for (const element of document.querySelectorAll('.filepath')) {\n",
              "          element.style.display = 'block'\n",
              "          element.onclick = (event) => {\n",
              "            event.preventDefault();\n",
              "            event.stopPropagation();\n",
              "            google.colab.files.view(element.textContent, 216);\n",
              "          };\n",
              "        }\n",
              "      }\n",
              "      for (const element of document.querySelectorAll('.function-repr-contents')) {\n",
              "        element.onclick = (event) => {\n",
              "          event.preventDefault();\n",
              "          event.stopPropagation();\n",
              "          element.classList.toggle('function-repr-contents-collapsed');\n",
              "        };\n",
              "      }\n",
              "      </script>\n",
              "      </div>"
            ]
          },
          "metadata": {},
          "execution_count": 122
        }
      ],
      "source": [
        "pounds = nsfg['BIRTHWGT_LB1']\n",
        "type(pounds)"
      ]
    },
    {
      "cell_type": "markdown",
      "metadata": {
        "id": "WaZvk2as4lp3"
      },
      "source": [
        "The result is a `Series`, which is a Pandas type that represents a single column of data.\n",
        "In this case the `Series` contains the birth weight, in pounds, for each live birth.\n",
        "\n",
        "`head` shows the first five values in the `Series`, the name of the `Series`, and the data type:"
      ]
    },
    {
      "cell_type": "code",
      "execution_count": 123,
      "metadata": {
        "id": "x7-DUVG34lp3",
        "outputId": "563df2ec-21c7-4a54-dfed-c6f4cda94b52",
        "colab": {
          "base_uri": "https://localhost:8080/"
        }
      },
      "outputs": [
        {
          "output_type": "execute_result",
          "data": {
            "text/plain": [
              "0    7.0\n",
              "1    NaN\n",
              "2    9.0\n",
              "3    6.0\n",
              "4    7.0\n",
              "Name: BIRTHWGT_LB1, dtype: float64"
            ]
          },
          "metadata": {},
          "execution_count": 123
        }
      ],
      "source": [
        "pounds.head()"
      ]
    },
    {
      "cell_type": "markdown",
      "metadata": {
        "id": "HgaKyxcw4lp4"
      },
      "source": [
        "One of the values is `NaN`, which stands for \"Not a Number\".\n",
        "`NaN` is a special value used to indicate invalid or missing data.\n",
        "In this example, the pregnancy did not end in live birth, so birth weight is inapplicable."
      ]
    },
    {
      "cell_type": "markdown",
      "metadata": {
        "id": "6xkHi2Hc4lp4"
      },
      "source": [
        "**Exercise:**  The variable `BIRTHWGT_OZ1` contains the ounces part of birth weight.\n",
        "\n",
        "Select the column `'BIRTHWGT_OZ1'` from the `nsfg` `DataFrame` and assign it to a new variable called `ounces`.  Then display the first 5 elements of `ounces`."
      ]
    },
    {
      "cell_type": "code",
      "execution_count": 124,
      "metadata": {
        "id": "zSLCguAJ4lp4"
      },
      "outputs": [],
      "source": [
        "# Solution goes here\n",
        "ounces = nsfg.BIRTHWGT_OZ1"
      ]
    },
    {
      "cell_type": "markdown",
      "metadata": {
        "id": "h4s46uiD4lp4"
      },
      "source": [
        "**Exercise:** The Pandas types we have seen so far are `DataFrame`, `Index`, and `Series`.  You can find the documentation of these types at:\n",
        "\n",
        "* `DataFrame`: <https://pandas.pydata.org/pandas-docs/stable/reference/api/pandas.DataFrame.html>\n",
        "\n",
        "* `Index`: <https://pandas.pydata.org/pandas-docs/stable/reference/api/pandas.Index.html>\n",
        "\n",
        "* `Series`: <https://pandas.pydata.org/pandas-docs/stable/reference/api/pandas.Series.html>\n",
        "\n",
        "This documentation can be overwhelming; I don't recommend trying to read it all now.  But you might want to skim it so you know where to look later."
      ]
    },
    {
      "cell_type": "markdown",
      "metadata": {
        "id": "BJhq-NZ84lqD"
      },
      "source": [
        "## Validation\n",
        "\n",
        "At this point we have identified the columns we need to answer the question and assigned them to variables named `pounds` and `ounces`."
      ]
    },
    {
      "cell_type": "code",
      "execution_count": 125,
      "metadata": {
        "id": "PvAtm-ek4lqD"
      },
      "outputs": [],
      "source": [
        "pounds = nsfg['BIRTHWGT_LB1']\n",
        "ounces = nsfg['BIRTHWGT_OZ1']"
      ]
    },
    {
      "cell_type": "markdown",
      "metadata": {
        "id": "ZRWH3SKx4lqD"
      },
      "source": [
        "Before we do anything with this data, we have to validate it.  One part of validation is confirming that we are interpreting the data correctly.\n",
        "\n",
        "We can use the `value_counts` method to see what values appear in `pounds` and how many times each value appears."
      ]
    },
    {
      "cell_type": "code",
      "execution_count": 126,
      "metadata": {
        "tags": [],
        "id": "mvblwEyk4lqD",
        "outputId": "90d446c7-5a9d-4e63-af37-839e7054ecca",
        "colab": {
          "base_uri": "https://localhost:8080/"
        }
      },
      "outputs": [
        {
          "output_type": "execute_result",
          "data": {
            "text/plain": [
              "7.0     2268\n",
              "6.0     1644\n",
              "8.0     1287\n",
              "5.0      570\n",
              "9.0      396\n",
              "4.0      179\n",
              "99.0      89\n",
              "10.0      82\n",
              "3.0       76\n",
              "2.0       46\n",
              "1.0       28\n",
              "11.0      17\n",
              "0.0        2\n",
              "12.0       2\n",
              "98.0       2\n",
              "13.0       1\n",
              "14.0       1\n",
              "Name: BIRTHWGT_LB1, dtype: int64"
            ]
          },
          "metadata": {},
          "execution_count": 126
        }
      ],
      "source": [
        "pounds.value_counts()"
      ]
    },
    {
      "cell_type": "markdown",
      "metadata": {
        "id": "RJt_Ea1t4lqD"
      },
      "source": [
        "By default, the results are sorted with the most frequent value first, but we can use `sort_index` to sort them by value instead, with the lightest babies first and heaviest babies last."
      ]
    },
    {
      "cell_type": "code",
      "execution_count": 127,
      "metadata": {
        "id": "AjEFS7T84lqE",
        "outputId": "6c5ed620-2616-4d8c-a184-2f27f81b074a",
        "colab": {
          "base_uri": "https://localhost:8080/"
        }
      },
      "outputs": [
        {
          "output_type": "execute_result",
          "data": {
            "text/plain": [
              "0.0        2\n",
              "1.0       28\n",
              "2.0       46\n",
              "3.0       76\n",
              "4.0      179\n",
              "5.0      570\n",
              "6.0     1644\n",
              "7.0     2268\n",
              "8.0     1287\n",
              "9.0      396\n",
              "10.0      82\n",
              "11.0      17\n",
              "12.0       2\n",
              "13.0       1\n",
              "14.0       1\n",
              "98.0       2\n",
              "99.0      89\n",
              "Name: BIRTHWGT_LB1, dtype: int64"
            ]
          },
          "metadata": {},
          "execution_count": 127
        }
      ],
      "source": [
        "pounds.value_counts().sort_index()"
      ]
    },
    {
      "cell_type": "markdown",
      "metadata": {
        "id": "MvJM8Xp44lqE"
      },
      "source": [
        "As we'd expect, the most frequent values are 6-8 pounds, but there are some very light babies, a few very heavy babies, and two special values, 98, and 99.  According to the codebook, these values indicate that the respondent declined to answer the question (98) or did not know (99).\n",
        "\n",
        "We can validate the results by comparing them to the codebook, which lists the values and their frequencies.\n",
        "\n",
        "\n",
        "| value | label          | Total |\n",
        "|-------|----------------|-------|\n",
        "| .     | INAPPLICABLE   | 2863 |\n",
        "| 0-5   | UNDER 6 POUNDS | 901 |\n",
        "| 6     | 6 POUNDS       | 1644 |\n",
        "| 7     | 7 POUNDS       | 2268 |\n",
        "| 8     | 8 POUNDS       | 1287 |\n",
        "| 9-95  | 9 POUNDS OR MORE | 499 |\n",
        "| 98    | Refused          | 2 |\n",
        "| 99    | Don't know       | 89 |\n",
        "|       | Total            | 9553 |\n",
        "\n",
        "\n",
        "The results from `value_counts` agree with the codebook, so we have some confidence that we are reading and interpreting the data correctly."
      ]
    },
    {
      "cell_type": "markdown",
      "metadata": {
        "id": "dfJ_nDzH4lqE"
      },
      "source": [
        "**Exercise:** In the `nsfg` `DataFrame`, the column `'OUTCOME'` encodes the outcome of each pregnancy as shown below:\n",
        "\n",
        "| Value | Meaning |\n",
        "|---|---|\n",
        "| 1  | Live birth |\n",
        "| 2  | Induced abortion |\n",
        "| 3  | Stillbirth |\n",
        "| 4  | Miscarriage |\n",
        "| 5  | Ectopic pregnancy |\n",
        "| 6  | Current pregnancy |\n",
        "\n",
        "Use `value_counts` to display the values in this column and how many times each value appears.  Are the results consistent with the codebook?"
      ]
    },
    {
      "cell_type": "code",
      "execution_count": 128,
      "metadata": {
        "id": "DmRiGWLQ4lqE",
        "outputId": "add9f394-e1aa-4cf9-891a-26b7456c681d",
        "colab": {
          "base_uri": "https://localhost:8080/"
        }
      },
      "outputs": [
        {
          "output_type": "execute_result",
          "data": {
            "text/plain": [
              "1    6693\n",
              "4    1515\n",
              "2     901\n",
              "6     201\n",
              "5     123\n",
              "3     120\n",
              "Name: OUTCOME, dtype: int64"
            ]
          },
          "metadata": {},
          "execution_count": 128
        }
      ],
      "source": [
        "# Solution goes here\n",
        "nsfg['OUTCOME'].value_counts()"
      ]
    },
    {
      "cell_type": "markdown",
      "metadata": {
        "id": "cFk2YV1U4lqE"
      },
      "source": [
        "## Summary Statistics\n",
        "\n",
        "Another way to validate the data is with `describe`, which computes statistics that summarize the data, like the mean, standard deviation, minimum, and maximum.\n",
        "\n",
        "Here are the results for `pounds`.  "
      ]
    },
    {
      "cell_type": "code",
      "execution_count": 129,
      "metadata": {
        "id": "1y49DET94lqE",
        "outputId": "b7215462-87b9-4d4f-e7ea-6518c024527f",
        "colab": {
          "base_uri": "https://localhost:8080/"
        }
      },
      "outputs": [
        {
          "output_type": "execute_result",
          "data": {
            "text/plain": [
              "count    6690.000000\n",
              "mean        8.008819\n",
              "std        10.771360\n",
              "min         0.000000\n",
              "25%         6.000000\n",
              "50%         7.000000\n",
              "75%         8.000000\n",
              "max        99.000000\n",
              "Name: BIRTHWGT_LB1, dtype: float64"
            ]
          },
          "metadata": {},
          "execution_count": 129
        }
      ],
      "source": [
        "pounds.describe()"
      ]
    },
    {
      "cell_type": "markdown",
      "metadata": {
        "id": "zZXWxrTw4lqE"
      },
      "source": [
        "`count` is the number of values, not including `NaN`.\n",
        "For this variable, there are 6690 value that are not `NaN`.\n",
        "\n",
        "`mean` and `std` are the mean and standard deviation.\n",
        "`min` and `max` are the minimum and maximum values, and in between are the 25th, 50th, and 75th percentiles.  The 50th percentile is the median.\n",
        "\n",
        "The mean is about `8.05`, but that doesn't mean much because it includes the special values 98 and 99.  Before we can really compute the mean, we have to replace those values with `NaN` to identify them as missing data.\n",
        "\n",
        "The `replace()` method does what we want:"
      ]
    },
    {
      "cell_type": "code",
      "execution_count": 130,
      "metadata": {
        "id": "1jwvz1HV4lqE"
      },
      "outputs": [],
      "source": [
        "import numpy as np\n",
        "\n",
        "pounds_clean = pounds.replace([98, 99], np.nan)"
      ]
    },
    {
      "cell_type": "markdown",
      "metadata": {
        "id": "iR2IrsSV4lqF"
      },
      "source": [
        "`replace` takes a list of the values we want to replace and the value we want to replace them with.  `np.nan` means we are getting the special value `NaN` from the NumPy library, which is imported as `np`.\n",
        "\n",
        "The result from `replace()` is a new `Series`, which I assign to `pounds_clean`.\n",
        "If we run `describe` again, we see that `count` is smaller now because it includes only the valid values."
      ]
    },
    {
      "cell_type": "code",
      "execution_count": 131,
      "metadata": {
        "id": "i-wuu9Lr4lqF",
        "outputId": "d2cca2a2-a747-40f2-b580-1302176dbcd9",
        "colab": {
          "base_uri": "https://localhost:8080/"
        }
      },
      "outputs": [
        {
          "output_type": "execute_result",
          "data": {
            "text/plain": [
              "count    6599.000000\n",
              "mean        6.754357\n",
              "std         1.383268\n",
              "min         0.000000\n",
              "25%         6.000000\n",
              "50%         7.000000\n",
              "75%         8.000000\n",
              "max        14.000000\n",
              "Name: BIRTHWGT_LB1, dtype: float64"
            ]
          },
          "metadata": {},
          "execution_count": 131
        }
      ],
      "source": [
        "pounds_clean.describe()"
      ]
    },
    {
      "cell_type": "markdown",
      "metadata": {
        "id": "FA_OcuVG4lqF"
      },
      "source": [
        "The mean of the new `Series` is about 6.7 pounds.\n",
        "Remember that the mean of the original `Series` was more than 8 pounds.\n",
        "It makes a big difference when you remove a few 99-pound babies!"
      ]
    },
    {
      "cell_type": "markdown",
      "metadata": {
        "id": "nxUxfynj4lqF"
      },
      "source": [
        "**Exercise:** Use `describe` to summarize `ounces`.  \n",
        "Then use `replace` to replace the special values 98 and 99 with NaN, and assign the result to `ounces_clean`.\n",
        "Run `describe` again.  How much does this cleaning affect the results?"
      ]
    },
    {
      "cell_type": "code",
      "execution_count": 132,
      "metadata": {
        "id": "A2fwPaRO4lqF",
        "outputId": "a5bbd746-ebfe-4934-fe9f-4c4fd07b60aa",
        "colab": {
          "base_uri": "https://localhost:8080/"
        }
      },
      "outputs": [
        {
          "output_type": "execute_result",
          "data": {
            "text/plain": [
              "count    6601.000000\n",
              "mean        7.642327\n",
              "std         9.907332\n",
              "min         0.000000\n",
              "25%         3.000000\n",
              "50%         7.000000\n",
              "75%        11.000000\n",
              "max        99.000000\n",
              "Name: BIRTHWGT_OZ1, dtype: float64"
            ]
          },
          "metadata": {},
          "execution_count": 132
        }
      ],
      "source": [
        "# Solution goes here\n",
        "ounces.describe()"
      ]
    },
    {
      "cell_type": "code",
      "execution_count": 133,
      "metadata": {
        "id": "9Fqw59Oy4lqF"
      },
      "outputs": [],
      "source": [
        "# Solution goes here\n",
        "ounces_clean = ounces.replace([98, 99], np.nan)"
      ]
    },
    {
      "cell_type": "code",
      "execution_count": 134,
      "metadata": {
        "id": "iK5nIO2U4lqF",
        "outputId": "cc461eaf-f9bd-4fdc-d000-6797a255d0f5",
        "colab": {
          "base_uri": "https://localhost:8080/"
        }
      },
      "outputs": [
        {
          "output_type": "execute_result",
          "data": {
            "text/plain": [
              "count    6540.000000\n",
              "mean        6.790520\n",
              "std         4.532309\n",
              "min         0.000000\n",
              "25%         3.000000\n",
              "50%         7.000000\n",
              "75%        11.000000\n",
              "max        15.000000\n",
              "Name: BIRTHWGT_OZ1, dtype: float64"
            ]
          },
          "metadata": {},
          "execution_count": 134
        }
      ],
      "source": [
        "# Solution goes here\n",
        "ounces_clean.describe()"
      ]
    },
    {
      "cell_type": "markdown",
      "metadata": {
        "id": "nx8AQKIK4lqF"
      },
      "source": [
        "## Series Arithmetic\n",
        "\n",
        "Now we want to combine `pounds` and `ounces` into a single `Series` that contains total birth weight.\n",
        "Arithmetic operators work with `Series` objects; so, for example, to convert `pounds` to ounces, we could write\n",
        "\n",
        "`pounds * 16`\n",
        "\n",
        "Then we could add in `ounces` like this\n",
        "\n",
        "`pounds * 16 + ounces`"
      ]
    },
    {
      "cell_type": "markdown",
      "metadata": {
        "id": "tXxHpayK4lqG"
      },
      "source": [
        "**Exercise:** Use `pounds_clean` and `ounces_clean` to compute the total birth weight expressed in kilograms (there are roughly 2.2 pounds per kilogram).  What is the mean birth weight in kilograms?"
      ]
    },
    {
      "cell_type": "code",
      "execution_count": 135,
      "metadata": {
        "id": "hR-coJuw4lqG",
        "outputId": "c727c5cd-9407-4be5-db7e-126ff57f3d75",
        "colab": {
          "base_uri": "https://localhost:8080/"
        }
      },
      "outputs": [
        {
          "output_type": "execute_result",
          "data": {
            "text/plain": [
              "(count    6540.000000\n",
              " mean        3.256889\n",
              " std         0.624669\n",
              " min         0.226796\n",
              " 25%         2.919999\n",
              " 50%         3.288542\n",
              " 75%         3.628736\n",
              " max         6.435337\n",
              " dtype: float64,\n",
              " 3.256889393119266)"
            ]
          },
          "metadata": {},
          "execution_count": 135
        }
      ],
      "source": [
        "# Solution goes here\n",
        "kilograms = (pounds_clean * 16 + ounces_clean) * 0.0283495\n",
        "kilograms.describe(), np.mean(kilograms)"
      ]
    },
    {
      "cell_type": "markdown",
      "metadata": {
        "id": "82rJI_Km4lqG"
      },
      "source": [
        "**Exercise:** For each pregnancy in the NSFG dataset, the variable `'AGECON'` encodes the respondent's age at conception, and `'AGEPREG'` the respondent's age at the end of the pregnancy.\n",
        "\n",
        "- Read the documentation of these variables.  Are there any special values we have to deal with?\n",
        "\n",
        "- Select `'AGECON'` and `'AGEPREG'` and assign them to variables named `agecon` and `agepreg`.\n",
        "\n",
        "- Compute the difference, which is an estimate of the duration of the pregnancy.\n",
        "\n",
        "- Use `.describe()` to compute the mean duration and other summary statistics.\n",
        "\n",
        "Based on the results, it seems like this might not be a good way to estimate the duration of pregnancy. Why not?"
      ]
    },
    {
      "cell_type": "code",
      "execution_count": 136,
      "metadata": {
        "id": "WWtXahmz4lqG",
        "outputId": "56e35a9e-3e87-4b01-ed0a-6f2f07837b48",
        "colab": {
          "base_uri": "https://localhost:8080/"
        }
      },
      "outputs": [
        {
          "output_type": "stream",
          "name": "stdout",
          "text": [
            "0    28\n",
            "1    32\n",
            "2    33\n",
            "3    17\n",
            "4    19\n",
            "Name: AGECON, dtype: int64 0    29.0\n",
            "1    32.0\n",
            "2    33.0\n",
            "3    18.0\n",
            "4    20.0\n",
            "Name: AGEPREG, dtype: float64\n"
          ]
        },
        {
          "output_type": "execute_result",
          "data": {
            "text/plain": [
              "count    9352.000000\n",
              "mean        0.554855\n",
              "std         0.497008\n",
              "min         0.000000\n",
              "25%         0.000000\n",
              "50%         1.000000\n",
              "75%         1.000000\n",
              "max         1.000000\n",
              "dtype: float64"
            ]
          },
          "metadata": {},
          "execution_count": 136
        }
      ],
      "source": [
        "# Solution goes here\n",
        "agecon = nsfg['AGECON']\n",
        "agepreg = nsfg['AGEPREG']\n",
        "print(agecon.head(), agepreg.head())\n",
        "\n",
        "#since the feature are age in years, it is not a good estimate\n",
        "duration = agepreg - agecon\n",
        "duration.describe()"
      ]
    },
    {
      "cell_type": "markdown",
      "metadata": {
        "id": "lv60ePoQ4lqG"
      },
      "source": [
        "## Histograms\n",
        "\n",
        "Let's get back to the original question: what is the average birth weight for babies in the U.S.?  \n",
        "As an answer we *could* take the results from the previous section and compute the mean:"
      ]
    },
    {
      "cell_type": "code",
      "execution_count": 137,
      "metadata": {
        "id": "Bo465Ya14lqG",
        "outputId": "6d691d57-8907-4b2f-d3f5-31bd13881165",
        "colab": {
          "base_uri": "https://localhost:8080/"
        }
      },
      "outputs": [
        {
          "output_type": "execute_result",
          "data": {
            "text/plain": [
              "7.180217889908257"
            ]
          },
          "metadata": {},
          "execution_count": 137
        }
      ],
      "source": [
        "pounds_clean = pounds.replace([98, 99], np.nan)\n",
        "ounces_clean = ounces.replace([98, 99], np.nan)\n",
        "\n",
        "birth_weight = pounds_clean + ounces_clean / 16\n",
        "birth_weight.mean()"
      ]
    },
    {
      "cell_type": "markdown",
      "metadata": {
        "id": "IlnMDS3m4lqH"
      },
      "source": [
        "But it is risky to compute a summary statistic, like the mean, before we look at the whole distribution of values.\n",
        "\n",
        "A **distribution** is a set of possible values and their frequencies.  One way to visualize a distribution is a **histogram**, which shows values on the `x` axis and their frequencies on the `y` axis.\n",
        "\n",
        "`Series` provides a `hist` method that makes histograms.\n",
        "And we can use Matplotlib to label the axes."
      ]
    },
    {
      "cell_type": "code",
      "execution_count": 138,
      "metadata": {
        "id": "eF7u_N5Y4lqH",
        "outputId": "a7848311-274f-4319-f32e-f43ebefa6492",
        "colab": {
          "base_uri": "https://localhost:8080/",
          "height": 472
        }
      },
      "outputs": [
        {
          "output_type": "display_data",
          "data": {
            "text/plain": [
              "<Figure size 640x480 with 1 Axes>"
            ],
            "image/png": "[encoded data removed]"
          },
          "metadata": {}
        }
      ],
      "source": [
        "import matplotlib.pyplot as plt\n",
        "\n",
        "birth_weight.hist(bins=30)\n",
        "plt.xlabel('Birth weight in pounds')\n",
        "plt.ylabel('Number of live births')\n",
        "plt.title('Distribution of U.S. birth weight');"
      ]
    },
    {
      "cell_type": "markdown",
      "metadata": {
        "id": "jXIyzYWf4lqH"
      },
      "source": [
        "The keyword argument, `bins`, tells `hist` to divide the range of weights into 30 intervals, called **bins**, and count how many values fall in each bin.\n",
        "The `x` axis is birth weight in pounds; the `y` axis is the number of births in each bin.\n",
        "\n",
        "The distribution looks a little like a bell curve, but the tail is longer on the left than on the right; that is, there are more light babies than heavy babies.\n",
        "That makes sense, because the distribution includes some babies that were born preterm.  "
      ]
    },
    {
      "cell_type": "markdown",
      "metadata": {
        "id": "AWoZs-zB4lqH"
      },
      "source": [
        "**Exercise:** `hist` takes keyword arguments that specify the type and appearance of the histogram.  Find the documentation of `hist` and see if you can figure out how to plot the histogram as an unfilled line against a background with no grid lines."
      ]
    },
    {
      "cell_type": "code",
      "execution_count": 139,
      "metadata": {
        "id": "LpPZN6YL4lqI",
        "outputId": "6d184a68-7e62-472e-e849-ea248339e8a3",
        "colab": {
          "base_uri": "https://localhost:8080/",
          "height": 472
        }
      },
      "outputs": [
        {
          "output_type": "display_data",
          "data": {
            "text/plain": [
              "<Figure size 640x480 with 1 Axes>"
            ],
            "image/png": "[encoded data removed]"
          },
          "metadata": {}
        }
      ],
      "source": [
        "# Solution goes here\n",
        "birth_weight.hist(bins=30, histtype='step')\n",
        "plt.grid(False)\n",
        "plt.xlabel('Birth weight in pounds')\n",
        "plt.ylabel('Number of live births')\n",
        "plt.title('Distribution of U.S. birth weight');"
      ]
    },
    {
      "cell_type": "markdown",
      "metadata": {
        "id": "oWqbRl5w4lqI"
      },
      "source": [
        "**Exercise:** As we saw in a previous exercise, the NSFG dataset includes a column called `AGECON` that records age at conception for each pregnancy.\n",
        "\n",
        "- Select this column from the `DataFrame` and plot the histogram of the values with 20 bins.\n",
        "\n",
        "- Label the `x` and `y` axes appropriately."
      ]
    },
    {
      "cell_type": "code",
      "execution_count": 140,
      "metadata": {
        "id": "o3Uudlxv4lqI",
        "outputId": "3f5c70d1-7e6c-473b-86fb-776203b26f94",
        "colab": {
          "base_uri": "https://localhost:8080/",
          "height": 472
        }
      },
      "outputs": [
        {
          "output_type": "display_data",
          "data": {
            "text/plain": [
              "<Figure size 640x480 with 1 Axes>"
            ],
            "image/png": "[encoded data removed]"
          },
          "metadata": {}
        }
      ],
      "source": [
        "# Solution goes here\n",
        "agecon = nsfg['AGECON']\n",
        "agecon.hist(bins=20)\n",
        "plt.grid(False)\n",
        "plt.xlabel('Age at conception')\n",
        "plt.ylabel('Frequency')\n",
        "plt.title('Distribution of Age at conception');"
      ]
    },
    {
      "cell_type": "markdown",
      "metadata": {
        "id": "cg4ZbX1o4lqI"
      },
      "source": [
        "## Boolean Series\n",
        "\n",
        "We have seen that the distribution of birth weights is **skewed** to the left; that is, there are more light babies than heavy ones and they are farther from the mean.\n",
        "That's because preterm babies tend to be lighter.  The most common duration for pregnancy is 39 weeks, which is \"full term\"; \"preterm\" is usually defined to be less than 37 weeks.\n",
        "\n",
        "To see which babies are preterm, we can use `PRGLNGTH`, which records pregnancy length in weeks and compute it to `37`."
      ]
    },
    {
      "cell_type": "code",
      "execution_count": 141,
      "metadata": {
        "colab": {
          "base_uri": "https://localhost:8080/"
        },
        "id": "HOLoc9IM4lqI",
        "outputId": "004b1ef2-c782-47da-e968-7c27194eba8e"
      },
      "outputs": [
        {
          "output_type": "execute_result",
          "data": {
            "text/plain": [
              "dtype('bool')"
            ]
          },
          "metadata": {},
          "execution_count": 141
        }
      ],
      "source": [
        "preterm = (nsfg['PRGLNGTH'] < 37)\n",
        "preterm.dtype"
      ]
    },
    {
      "cell_type": "markdown",
      "metadata": {
        "id": "FuG3W5Dj4lqI"
      },
      "source": [
        "When you compare a `Series` to a value, the result is a Boolean `Series`; that is, a `Series` where each element is a Boolean value, `True` or `False`.  In this case, it's `True` for each preterm baby and `False` otherwise.  We can use `head` to see the first 5 elements."
      ]
    },
    {
      "cell_type": "code",
      "execution_count": 142,
      "metadata": {
        "id": "IwrEBzJC4lqI",
        "outputId": "7a72abce-4242-4cd8-f81f-998f480ac2aa",
        "colab": {
          "base_uri": "https://localhost:8080/"
        }
      },
      "outputs": [
        {
          "output_type": "execute_result",
          "data": {
            "text/plain": [
              "0    False\n",
              "1     True\n",
              "2    False\n",
              "3    False\n",
              "4    False\n",
              "Name: PRGLNGTH, dtype: bool"
            ]
          },
          "metadata": {},
          "execution_count": 142
        }
      ],
      "source": [
        "preterm.head()"
      ]
    },
    {
      "cell_type": "markdown",
      "metadata": {
        "id": "kFlf3oqE4lqJ"
      },
      "source": [
        "If you compute the sum of a Boolean `Series`, it treats `True` as 1 and `False` as 0, so the sum is the number of `True` values, which is the number of preterm babies."
      ]
    },
    {
      "cell_type": "code",
      "execution_count": 143,
      "metadata": {
        "id": "oV8JvanU4lqJ",
        "outputId": "19f3d518-c536-44d4-ef91-5cb3554410f9",
        "colab": {
          "base_uri": "https://localhost:8080/"
        }
      },
      "outputs": [
        {
          "output_type": "execute_result",
          "data": {
            "text/plain": [
              "3675"
            ]
          },
          "metadata": {},
          "execution_count": 143
        }
      ],
      "source": [
        "preterm.sum()"
      ]
    },
    {
      "cell_type": "markdown",
      "metadata": {
        "id": "VhPabeQm4lqK"
      },
      "source": [
        "If you compute the mean of a Boolean `Series`, you get the *fraction* of `True` values.\n",
        "In this case, it's about 0.38; that is, about 38% of the pregnancies are less than 37 weeks."
      ]
    },
    {
      "cell_type": "code",
      "execution_count": 144,
      "metadata": {
        "id": "pLJfj24f4lqK",
        "outputId": "b4f72fdf-d54a-411c-cc94-516b5756429d",
        "colab": {
          "base_uri": "https://localhost:8080/"
        }
      },
      "outputs": [
        {
          "output_type": "execute_result",
          "data": {
            "text/plain": [
              "0.38469590704490736"
            ]
          },
          "metadata": {},
          "execution_count": 144
        }
      ],
      "source": [
        "preterm.mean()"
      ]
    },
    {
      "cell_type": "markdown",
      "metadata": {
        "id": "WIDOtcZ14lqK"
      },
      "source": [
        "However, this result might be misleading because it includes all pregnancy outcomes, not just live births.\n",
        "We can create another Boolean `Series` to indicate which pregnancies ended in live birth:"
      ]
    },
    {
      "cell_type": "code",
      "execution_count": 145,
      "metadata": {
        "id": "9_mrzfwF4lqK",
        "outputId": "cdbb1884-6049-4978-9eed-82679b7dc88c",
        "colab": {
          "base_uri": "https://localhost:8080/"
        }
      },
      "outputs": [
        {
          "output_type": "execute_result",
          "data": {
            "text/plain": [
              "0.7006176070344394"
            ]
          },
          "metadata": {},
          "execution_count": 145
        }
      ],
      "source": [
        "live = (nsfg['OUTCOME'] == 1)\n",
        "live.mean()"
      ]
    },
    {
      "cell_type": "markdown",
      "metadata": {
        "id": "iePVskes4lqK"
      },
      "source": [
        "Now we can use the operator `&`, which represents the logical AND operation, to identify pregnancies where the outcome is a live birth and preterm:"
      ]
    },
    {
      "cell_type": "code",
      "execution_count": 146,
      "metadata": {
        "id": "9t39arnB4lqK",
        "outputId": "1107caed-3a51-44d1-ec3d-24f42ff20951",
        "colab": {
          "base_uri": "https://localhost:8080/"
        }
      },
      "outputs": [
        {
          "output_type": "execute_result",
          "data": {
            "text/plain": [
              "0.08929132209777034"
            ]
          },
          "metadata": {},
          "execution_count": 146
        }
      ],
      "source": [
        "live_preterm = (live & preterm)\n",
        "live_preterm.mean()"
      ]
    },
    {
      "cell_type": "markdown",
      "metadata": {
        "id": "hOTIm0_O4lqK"
      },
      "source": [
        "About 9% of all pregnancies resulted in a preterm live birth."
      ]
    },
    {
      "cell_type": "markdown",
      "metadata": {
        "id": "KCL0lOvd4lqL"
      },
      "source": [
        "**Exercise:** Of all live births, what fraction are preterm?"
      ]
    },
    {
      "cell_type": "code",
      "execution_count": 147,
      "metadata": {
        "id": "t6tQLiuE4lqL",
        "outputId": "7e0e3ae7-0fb2-46c2-c3a9-9218583a07f6",
        "colab": {
          "base_uri": "https://localhost:8080/"
        }
      },
      "outputs": [
        {
          "output_type": "execute_result",
          "data": {
            "text/plain": [
              "0.12744658598535782"
            ]
          },
          "metadata": {},
          "execution_count": 147
        }
      ],
      "source": [
        "# Solution goes here\n",
        "live_preterm.sum() / live.sum()"
      ]
    },
    {
      "cell_type": "markdown",
      "metadata": {
        "id": "IJILKa1j4lqL"
      },
      "source": [
        "The other common logical operators are:\n",
        "    \n",
        "* `|`, which represents the logical OR operation; for example `live | preterm` is true if either `live` is true, or `preterm` is true, or both.\n",
        "\n",
        "* `~`, which represents the logical NOT operation; for example `~live` is true if `live` is false or `NaN`.\n",
        "\n",
        "The logical operators treat `NaN` the same as `False`, so you should be careful about using the NOT operator with a Series that contains `NaN` values.\n",
        "For example, `~preterm` would include not just full term pregnancies, but also pregnancies with unknown length."
      ]
    },
    {
      "cell_type": "markdown",
      "metadata": {
        "id": "Zd_DK3QP4lqL"
      },
      "source": [
        "**Exercise:** Of all pregnancies, what fraction are full term, that is, 37 weeks or more?\n",
        "Of all live births, what fraction are full term?"
      ]
    },
    {
      "cell_type": "code",
      "execution_count": 148,
      "metadata": {
        "id": "A3BpuRWm4lqL",
        "outputId": "10874bd5-2ac4-43c1-b2d0-528c86b3d188",
        "colab": {
          "base_uri": "https://localhost:8080/"
        }
      },
      "outputs": [
        {
          "output_type": "execute_result",
          "data": {
            "text/plain": [
              "0.6153040929550927"
            ]
          },
          "metadata": {},
          "execution_count": 148
        }
      ],
      "source": [
        "# Solution goes here\n",
        "fullterm = (nsfg['PRGLNGTH'] >= 37)\n",
        "fullterm.mean()"
      ]
    },
    {
      "cell_type": "code",
      "source": [
        "nsfg['OUTCOME'].value_counts()"
      ],
      "metadata": {
        "id": "9TchemzyGtHT",
        "outputId": "d915c6a7-60be-4bfe-f581-ac74615a89f1",
        "colab": {
          "base_uri": "https://localhost:8080/"
        }
      },
      "execution_count": 149,
      "outputs": [
        {
          "output_type": "execute_result",
          "data": {
            "text/plain": [
              "1    6693\n",
              "4    1515\n",
              "2     901\n",
              "6     201\n",
              "5     123\n",
              "3     120\n",
              "Name: OUTCOME, dtype: int64"
            ]
          },
          "metadata": {},
          "execution_count": 149
        }
      ]
    },
    {
      "cell_type": "code",
      "execution_count": 150,
      "metadata": {
        "id": "ciwKKbD-4lqN",
        "outputId": "f1bfdb65-dab5-43c5-e89e-a69730110b53",
        "colab": {
          "base_uri": "https://localhost:8080/"
        }
      },
      "outputs": [
        {
          "output_type": "execute_result",
          "data": {
            "text/plain": [
              "0.6113262849366691"
            ]
          },
          "metadata": {},
          "execution_count": 150
        }
      ],
      "source": [
        "# Solution goes here\n",
        "live_birth = (nsfg['OUTCOME'] == 1)\n",
        "live_and_fullterm = (live_birth & fullterm)\n",
        "live_and_fullterm.mean()"
      ]
    },
    {
      "cell_type": "markdown",
      "metadata": {
        "id": "EjIntHUf4lqN"
      },
      "source": [
        "## Filtering Data\n",
        "\n",
        "We can use a Boolean `Series` as a filter; that is, we can select only rows that satisfy a condition or meet some criterion.\n",
        "For example, we can use `preterm` and the bracket operator to select values from `birth_weight`, so `preterm_weight` gets birth weights for preterm babies."
      ]
    },
    {
      "cell_type": "code",
      "execution_count": 151,
      "metadata": {
        "id": "FHkaIxYP4lqO",
        "outputId": "c2840ff3-4df4-4ca4-a29a-583aae33ea54",
        "colab": {
          "base_uri": "https://localhost:8080/"
        }
      },
      "outputs": [
        {
          "output_type": "execute_result",
          "data": {
            "text/plain": [
              "5.480958781362007"
            ]
          },
          "metadata": {},
          "execution_count": 151
        }
      ],
      "source": [
        "preterm_weight = birth_weight[preterm]\n",
        "preterm_weight.mean()"
      ]
    },
    {
      "cell_type": "markdown",
      "metadata": {
        "id": "7SZ6iCOV4lqO"
      },
      "source": [
        "To select full-term babies, we can create a Boolean `Series` like this:"
      ]
    },
    {
      "cell_type": "code",
      "execution_count": 152,
      "metadata": {
        "id": "pBmdafLL4lqO"
      },
      "outputs": [],
      "source": [
        "fullterm = (nsfg['PRGLNGTH'] >= 37)"
      ]
    },
    {
      "cell_type": "markdown",
      "metadata": {
        "id": "v9Sgg_0d4lqO"
      },
      "source": [
        "And use it to select birth weights for full term babies:"
      ]
    },
    {
      "cell_type": "code",
      "execution_count": 153,
      "metadata": {
        "id": "fhcvUknX4lqO",
        "outputId": "604d77a5-a9a1-4e90-daf3-d19e80a390b6",
        "colab": {
          "base_uri": "https://localhost:8080/"
        }
      },
      "outputs": [
        {
          "output_type": "execute_result",
          "data": {
            "text/plain": [
              "7.429609416096791"
            ]
          },
          "metadata": {},
          "execution_count": 153
        }
      ],
      "source": [
        "full_term_weight = birth_weight[fullterm]\n",
        "full_term_weight.mean()"
      ]
    },
    {
      "cell_type": "markdown",
      "metadata": {
        "id": "II8dPTHz4lqO"
      },
      "source": [
        "As expected, full term babies are heavier, on average, than preterm babies.\n",
        "To be more explicit, we could also limit the results to live births, like this:"
      ]
    },
    {
      "cell_type": "code",
      "execution_count": 154,
      "metadata": {
        "id": "b3o9k25k4lqO",
        "outputId": "f237fc08-37dd-4b60-82a9-165a061e7e5a",
        "colab": {
          "base_uri": "https://localhost:8080/"
        }
      },
      "outputs": [
        {
          "output_type": "execute_result",
          "data": {
            "text/plain": [
              "7.429609416096791"
            ]
          },
          "metadata": {},
          "execution_count": 154
        }
      ],
      "source": [
        "full_term_weight = birth_weight[live & fullterm]\n",
        "full_term_weight.mean()"
      ]
    },
    {
      "cell_type": "markdown",
      "metadata": {
        "id": "-L7lzdEv4lqO"
      },
      "source": [
        "But in this case we get the same result because `birth_weight` is only valid for live births."
      ]
    },
    {
      "cell_type": "markdown",
      "metadata": {
        "id": "iYeCLin24lqP"
      },
      "source": [
        "**Exercise:** Let's see if there is a difference in weight between single births and multiple births (twins, triplets, etc.).\n",
        "The variable `NBRNALIV` represents the number of babies born alive from a single pregnancy."
      ]
    },
    {
      "cell_type": "code",
      "execution_count": 155,
      "metadata": {
        "id": "lxX3HHGy4lqP",
        "outputId": "bd946a43-2153-47aa-d76e-10aa553188c1",
        "colab": {
          "base_uri": "https://localhost:8080/"
        }
      },
      "outputs": [
        {
          "output_type": "execute_result",
          "data": {
            "text/plain": [
              "1.0    6573\n",
              "2.0     111\n",
              "3.0       6\n",
              "Name: NBRNALIV, dtype: int64"
            ]
          },
          "metadata": {},
          "execution_count": 155
        }
      ],
      "source": [
        "nbrnaliv = nsfg['NBRNALIV']\n",
        "nbrnaliv.value_counts()"
      ]
    },
    {
      "cell_type": "markdown",
      "metadata": {
        "id": "nnnLFIHS4lqP"
      },
      "source": [
        "Use `nbrnaliv` and `live` to create a Boolean series called `multiple` that is true for multiple live births.\n",
        "Of all live births, what fraction are multiple births?"
      ]
    },
    {
      "cell_type": "code",
      "execution_count": 156,
      "metadata": {
        "id": "xi7MEhAI4lqP"
      },
      "outputs": [],
      "source": [
        "# Solution goes here\n",
        "multiple = (nbrnaliv == 2.0) | (nbrnaliv == 3.0) & live"
      ]
    },
    {
      "cell_type": "code",
      "execution_count": 157,
      "metadata": {
        "id": "Eoyii79l4lqP",
        "outputId": "0c32ffb4-c8e8-45aa-acec-902364a25f44",
        "colab": {
          "base_uri": "https://localhost:8080/"
        }
      },
      "outputs": [
        {
          "output_type": "execute_result",
          "data": {
            "text/plain": [
              "0.01748095024652622"
            ]
          },
          "metadata": {},
          "execution_count": 157
        }
      ],
      "source": [
        "# Solution goes here\n",
        "multiple.sum()/live.sum()"
      ]
    },
    {
      "cell_type": "markdown",
      "metadata": {
        "id": "Mpja7bLi4lqP"
      },
      "source": [
        "**Exercise:** Make a Boolean series called `single` that is true for single live births.\n",
        "Of all single births, what fraction are preterm?\n",
        "Of all multiple births, what fraction are preterm?"
      ]
    },
    {
      "cell_type": "code",
      "source": [
        "preterm = (nsfg['PRGLNGTH'] < 37)\n",
        "preterm.sum()"
      ],
      "metadata": {
        "id": "RfmdTZtBjvg1",
        "outputId": "39649839-043c-4f03-f90b-e24d6e67adba",
        "colab": {
          "base_uri": "https://localhost:8080/"
        }
      },
      "execution_count": 158,
      "outputs": [
        {
          "output_type": "execute_result",
          "data": {
            "text/plain": [
              "3675"
            ]
          },
          "metadata": {},
          "execution_count": 158
        }
      ]
    },
    {
      "cell_type": "code",
      "execution_count": 159,
      "metadata": {
        "id": "aRY6Z_6q4lqQ",
        "outputId": "77480137-8889-4541-e712-cabffde8b18b",
        "colab": {
          "base_uri": "https://localhost:8080/"
        }
      },
      "outputs": [
        {
          "output_type": "execute_result",
          "data": {
            "text/plain": [
              "6573"
            ]
          },
          "metadata": {},
          "execution_count": 159
        }
      ],
      "source": [
        "# Solution goes here\n",
        "single = (nbrnaliv == 1.0) & live\n",
        "single.sum()"
      ]
    },
    {
      "cell_type": "code",
      "execution_count": 160,
      "metadata": {
        "id": "t8H2ZUoj4lqQ",
        "outputId": "3d55f467-8ac9-4dad-c7d7-15ebe212133c",
        "colab": {
          "base_uri": "https://localhost:8080/"
        }
      },
      "outputs": [
        {
          "output_type": "execute_result",
          "data": {
            "text/plain": [
              "0.12064506313707592"
            ]
          },
          "metadata": {},
          "execution_count": 160
        }
      ],
      "source": [
        "# Solution goes here\n",
        "single_preterm = single[preterm]\n",
        "single_preterm.sum()/single.sum()"
      ]
    },
    {
      "cell_type": "code",
      "source": [
        "single_preterm.sum(), single.sum()"
      ],
      "metadata": {
        "id": "hYieLYibnk19",
        "outputId": "f0950586-9fde-4262-f96e-2232983b5b02",
        "colab": {
          "base_uri": "https://localhost:8080/"
        }
      },
      "execution_count": 161,
      "outputs": [
        {
          "output_type": "execute_result",
          "data": {
            "text/plain": [
              "(793, 6573)"
            ]
          },
          "metadata": {},
          "execution_count": 161
        }
      ]
    },
    {
      "cell_type": "code",
      "execution_count": 162,
      "metadata": {
        "id": "sfey7d7c4lqQ",
        "outputId": "900557dd-df84-4de4-88fe-950a7e9e4aff",
        "colab": {
          "base_uri": "https://localhost:8080/"
        }
      },
      "outputs": [
        {
          "output_type": "execute_result",
          "data": {
            "text/plain": [
              "0.5128205128205128"
            ]
          },
          "metadata": {},
          "execution_count": 162
        }
      ],
      "source": [
        "# Solution goes here\n",
        "multiple_preterm = multiple[preterm]\n",
        "multiple_preterm.sum()/multiple.sum()"
      ]
    },
    {
      "cell_type": "code",
      "source": [
        "multiple[preterm].sum(), multiple.sum()"
      ],
      "metadata": {
        "id": "DxkUhe1hlwI1",
        "outputId": "d40f9716-137d-44d7-eed3-761ea7a33b43",
        "colab": {
          "base_uri": "https://localhost:8080/"
        }
      },
      "execution_count": 163,
      "outputs": [
        {
          "output_type": "execute_result",
          "data": {
            "text/plain": [
              "(60, 117)"
            ]
          },
          "metadata": {},
          "execution_count": 163
        }
      ]
    },
    {
      "cell_type": "markdown",
      "metadata": {
        "id": "zyH1nhVr4lqQ"
      },
      "source": [
        "**Exercise:** What is the average birth weight for live, single, full-term births?"
      ]
    },
    {
      "cell_type": "code",
      "execution_count": 180,
      "metadata": {
        "id": "P7SmR2JU4lqR",
        "outputId": "7fa2e693-1dd4-4510-d877-f97d160fc39c",
        "colab": {
          "base_uri": "https://localhost:8080/"
        }
      },
      "outputs": [
        {
          "output_type": "execute_result",
          "data": {
            "text/plain": [
              "7.4439624645892355"
            ]
          },
          "metadata": {},
          "execution_count": 180
        }
      ],
      "source": [
        "# Solution goes here\n",
        "birth_weight_live_single_fullterm = birth_weight[single & fullterm]\n",
        "birth_weight_live_single_fullterm.mean()"
      ]
    },
    {
      "cell_type": "markdown",
      "metadata": {
        "id": "FqRe4FiW4lqR"
      },
      "source": [
        "## Weighted Means\n",
        "\n",
        "We are almost done, but there's one more problem we have to solve: oversampling.\n",
        "\n",
        "The NSFG is not exactly representative of the U.S. population.  By design, some groups are more likely to appear in the sample than others; that is, they are **oversampled**.  Oversampling helps to ensure that you have enough people in every subgroup to get reliable statistics, but it makes data analysis a little more complicated.\n",
        "\n",
        "Each pregnancy in the dataset has a **sampling weight** that indicates how many pregnancies it represents.  In `nsfg`, the sampling weight is stored in a column named `wgt2015_2017`.\n",
        "Here's what it looks like."
      ]
    },
    {
      "cell_type": "code",
      "execution_count": 165,
      "metadata": {
        "id": "hSM5H-Cz4lqR",
        "outputId": "37f7093a-1b41-4c36-887c-e6ea488a4975",
        "colab": {
          "base_uri": "https://localhost:8080/"
        }
      },
      "outputs": [
        {
          "output_type": "execute_result",
          "data": {
            "text/plain": [
              "count      9553.000000\n",
              "mean      13337.425944\n",
              "std       16138.878271\n",
              "min        1924.916000\n",
              "25%        4575.221221\n",
              "50%        7292.490835\n",
              "75%       15724.902673\n",
              "max      106774.400000\n",
              "Name: WGT2015_2017, dtype: float64"
            ]
          },
          "metadata": {},
          "execution_count": 165
        }
      ],
      "source": [
        "sampling_weight = nsfg['WGT2015_2017']\n",
        "sampling_weight.describe()"
      ]
    },
    {
      "cell_type": "markdown",
      "metadata": {
        "id": "w7ct6W234lqS"
      },
      "source": [
        "The median value (50th percentile) in this column is about 7292, which means that a pregnancy with that weight represents 7292 total pregnancies in the population.\n",
        "But the range of values is wide, so some rows represent many more pregnancies than others.\n",
        "\n",
        "To take these weights into account, we can compute a **weighted mean**.  Here are the steps:\n",
        "\n",
        "1. Multiply the birth weights for each pregnancy by the sampling weights and add up the products.\n",
        "\n",
        "2. Add up the sampling weights.\n",
        "\n",
        "3. Divide the first sum by the second.\n",
        "\n",
        "To do this correctly, we have to be careful with missing data.\n",
        "To help with that, we'll use two `Series` methods, `isna` and `notna`.\n",
        "\n",
        "`isna` returns a Boolean `Series` that is `True` where the corresponding value is `NaN`."
      ]
    },
    {
      "cell_type": "code",
      "execution_count": 166,
      "metadata": {
        "id": "4nPrFuRn4lqS",
        "outputId": "95e5807e-65cb-4730-c6a5-cacb78411ad6",
        "colab": {
          "base_uri": "https://localhost:8080/"
        }
      },
      "outputs": [
        {
          "output_type": "execute_result",
          "data": {
            "text/plain": [
              "3013"
            ]
          },
          "metadata": {},
          "execution_count": 166
        }
      ],
      "source": [
        "missing = birth_weight.isna()\n",
        "missing.sum()"
      ]
    },
    {
      "cell_type": "markdown",
      "metadata": {
        "id": "-qlelfTu4lqS"
      },
      "source": [
        "In `birth_weight` there are 3013 missing values (mostly for pregnancies that did not end in live birth).\n",
        "\n",
        "`notna` returns a Boolean `Series` that is `True` where the corresponding value is *not* `NaN`."
      ]
    },
    {
      "cell_type": "code",
      "execution_count": 167,
      "metadata": {
        "id": "CTsUYlxr4lqS",
        "outputId": "2be8605a-8472-4fe6-dbc3-65e61edeedb0",
        "colab": {
          "base_uri": "https://localhost:8080/"
        }
      },
      "outputs": [
        {
          "output_type": "execute_result",
          "data": {
            "text/plain": [
              "6540"
            ]
          },
          "metadata": {},
          "execution_count": 167
        }
      ],
      "source": [
        "valid = birth_weight.notna()\n",
        "valid.sum()"
      ]
    },
    {
      "cell_type": "markdown",
      "metadata": {
        "id": "HNXo1arC4lqS"
      },
      "source": [
        "We can combine `valid` with the other Boolean `Series` we have computed to identify single, full term, live births with valid birth weights."
      ]
    },
    {
      "cell_type": "code",
      "execution_count": 168,
      "metadata": {
        "id": "2hHkMyTd4lqS",
        "outputId": "b74ddf0f-06e6-4c01-8fb4-e3543a002f6c",
        "colab": {
          "base_uri": "https://localhost:8080/"
        }
      },
      "outputs": [
        {
          "output_type": "execute_result",
          "data": {
            "text/plain": [
              "5648"
            ]
          },
          "metadata": {},
          "execution_count": 168
        }
      ],
      "source": [
        "single = (nbrnaliv == 1)\n",
        "selected = valid & live & single & fullterm\n",
        "selected.sum()"
      ]
    },
    {
      "cell_type": "markdown",
      "metadata": {
        "id": "2pBMZDFP4lqS"
      },
      "source": [
        "You can finish off this computation as an exercise."
      ]
    },
    {
      "cell_type": "markdown",
      "metadata": {
        "id": "XdmBt_yH4lqT"
      },
      "source": [
        "**Exercise:** Use `selected`, `birth_weight`, and `sampling_weight` to compute the weighted mean of birth weight for live, single, full term births.\n",
        "\n",
        "You should find that the weighted mean is a little higher than the unweighted mean we computed in the previous section.  That's because the groups that are oversampled in the NSFG tend to have lighter babies, on average."
      ]
    },
    {
      "cell_type": "markdown",
      "source": [
        "To take these weights into account, we can compute a weighted mean. Here are the steps:\n",
        "\n",
        "- Multiply the birth weights for each pregnancy by the sampling weights and add up the products.\n",
        "\n",
        "- Add up the sampling weights.\n",
        "\n",
        "- Divide the first sum by the second."
      ],
      "metadata": {
        "id": "DUfQci4PvJ5D"
      }
    },
    {
      "cell_type": "code",
      "execution_count": 177,
      "metadata": {
        "id": "oMdbRsWm4lqT",
        "outputId": "de8296e5-da6a-4dbd-db10-2e446d0e95f8",
        "colab": {
          "base_uri": "https://localhost:8080/"
        }
      },
      "outputs": [
        {
          "output_type": "execute_result",
          "data": {
            "text/plain": [
              "571707989.8113451"
            ]
          },
          "metadata": {},
          "execution_count": 177
        }
      ],
      "source": [
        "# Solution goes here\n",
        "birth_weight_sampling_weight_total = (birth_weight[selected] * sampling_weight[selected]).sum()\n",
        "birth_weight_sampling_weight_total"
      ]
    },
    {
      "cell_type": "code",
      "execution_count": 182,
      "metadata": {
        "id": "HYCxoxpe4lqT",
        "outputId": "6e1161e6-4791-4838-e8fc-a29b00ba0afc",
        "colab": {
          "base_uri": "https://localhost:8080/"
        }
      },
      "outputs": [
        {
          "output_type": "execute_result",
          "data": {
            "text/plain": [
              "7.517442122371049"
            ]
          },
          "metadata": {},
          "execution_count": 182
        }
      ],
      "source": [
        "# Solution goes here\n",
        "weighted_mean = birth_weight_sampling_weight_total / sampling_weight[selected].sum()\n",
        "weighted_mean"
      ]
    },
    {
      "cell_type": "markdown",
      "metadata": {
        "id": "psXe9XFp4lqT"
      },
      "source": [
        "## Summary\n",
        "\n",
        "This chapter poses what seems like a simple question: what is the average birth weight of babies in the United States?\n",
        "\n",
        "To answer it, we found an appropriate dataset and read the files.  Then we validated the data and dealt with special values, missing data, and errors.\n",
        "To explore the data, we used `value_counts`, `hist`, `describe`, and other Pandas methods.\n",
        "And to select relevant data, we used Boolean `Series`.\n",
        "\n",
        "Along the way, we had to think more about the question.  What do we mean by \"average\", and which babies should we include?  Should we include all live births or exclude preterm babies or multiple births?\n",
        "\n",
        "And we had to think about the sampling process.  By design, the NSFG respondents are not representative of the U.S. population, but we can use sampling weights to correct for this effect.\n",
        "\n",
        "Even a simple question can be a challenging data science project."
      ]
    },
    {
      "cell_type": "markdown",
      "metadata": {
        "tags": [],
        "id": "IdrZnz0o4lqT"
      },
      "source": [
        "*Elements of Data Science*\n",
        "\n",
        "Copyright 2021 [Allen B. Downey](https://allendowney.com)\n",
        "\n",
        "License: [Creative Commons Attribution-NonCommercial-ShareAlike 4.0 International](https://creativecommons.org/licenses/by-nc-sa/4.0/)"
      ]
    },
    {
      "cell_type": "markdown",
      "source": [
        "\n",
        "\n",
        "---\n",
        "\n",
        "\n",
        "---\n",
        "\n",
        "\n"
      ],
      "metadata": {
        "id": "cm0c0XuGLq31"
      }
    },
    {
      "cell_type": "markdown",
      "source": [
        "\n",
        "*That's the end of this notebook!!*"
      ],
      "metadata": {
        "id": "TSC_VNgELvit"
      }
    }
  ],
  "metadata": {
    "celltoolbar": "Tags",
    "kernelspec": {
      "display_name": "Python 3 (ipykernel)",
      "language": "python",
      "name": "python3"
    },
    "language_info": {
      "codemirror_mode": {
        "name": "ipython",
        "version": 3
      },
      "file_extension": ".py",
      "mimetype": "text/x-python",
      "name": "python",
      "nbconvert_exporter": "python",
      "pygments_lexer": "ipython3",
      "version": "3.10.13"
    },
    "colab": {
      "provenance": [],
      "include_colab_link": true
    }
  },
  "nbformat": 4,
  "nbformat_minor": 0
}