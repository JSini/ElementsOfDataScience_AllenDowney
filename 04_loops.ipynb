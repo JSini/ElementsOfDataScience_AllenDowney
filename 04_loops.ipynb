{
  "cells": [
    {
      "cell_type": "markdown",
      "source": [
        "*Hi,*\n",
        "\n",
        "**A note regarding the tutorial** -\n",
        "\n",
        "*This Notebook is fourth in series from AllenDowney/ElementsOfDataScience*\n",
        "\n",
        "Reference:https://colab.research.google.com/github/AllenDowney/ElementsOfDataScience/blob/master/04_loops.ipynb"
      ],
      "metadata": {
        "id": "wjBN_s889l1n"
      }
    },
    {
      "cell_type": "markdown",
      "metadata": {
        "id": "pu5rPnWf9iwr"
      },
      "source": [
        "# Loops and Files"
      ]
    },
    {
      "cell_type": "markdown",
      "metadata": {
        "id": "l7qhoKFD9iwu"
      },
      "source": [
        "This chapter presents loops, which are used to represent repeated computation, and files, which are used to store data.  As an example, we will download the famous book *War and Peace* from Project Gutenberg and write a loop that reads the book and counts the words.\n",
        "This example presents some new computational tools; it is also an introduction to working with textual data."
      ]
    },
    {
      "cell_type": "markdown",
      "metadata": {
        "id": "e69OoAj-9iwu"
      },
      "source": [
        "## Loops\n",
        "\n",
        "One of the most important elements of computation is repetition, and the most common way to represent repetition is a `for` loop.\n",
        "As a simple example, suppose we want to display the elements of a tuple.  Here's a tuple of three integers:"
      ]
    },
    {
      "cell_type": "code",
      "execution_count": 1,
      "metadata": {
        "id": "r2EjEooo9iwv"
      },
      "outputs": [],
      "source": [
        "t = 1, 2, 3"
      ]
    },
    {
      "cell_type": "markdown",
      "metadata": {
        "id": "lbmNmWf19iww"
      },
      "source": [
        "And here's a `for` loop that prints the elements."
      ]
    },
    {
      "cell_type": "code",
      "execution_count": 2,
      "metadata": {
        "id": "ri3CdayE9iww",
        "outputId": "1994f7bc-8caa-488e-e564-da9457928bdd",
        "colab": {
          "base_uri": "https://localhost:8080/"
        }
      },
      "outputs": [
        {
          "output_type": "stream",
          "name": "stdout",
          "text": [
            "1\n",
            "2\n",
            "3\n"
          ]
        }
      ],
      "source": [
        "for x in t:\n",
        "    print(x)"
      ]
    },
    {
      "cell_type": "markdown",
      "metadata": {
        "id": "JarULvBB9iww"
      },
      "source": [
        "The first line of the loop is a **header** that specifies the tuple, `t`, and a variable name, `x`.  The tuple already exists, but `x` does not; the loop will create it.  Note that the header ends with a colon, `:`.\n",
        "\n",
        "Inside the loop is a `print` statement, which displays the value of `x`.\n",
        "\n",
        "So here's what happens:\n",
        "\n",
        "1. When the loop starts, it gets the first element of `t`, which is `1`, and assigns it to `x`.  It executes the `print` statement, which displays the value `1`.\n",
        "\n",
        "2. Then it gets the second element of `t`, which is `2`, and displays it.\n",
        "\n",
        "3. Then it gets the third element of `t`, which is `3`, and displays it.\n",
        "\n",
        "After printing the last element of the tuple, the loop ends.\n",
        "\n",
        "We can also loop through the letters in a string:"
      ]
    },
    {
      "cell_type": "code",
      "execution_count": 3,
      "metadata": {
        "id": "Rat-NrIM9iww",
        "outputId": "a7d95a3c-92c3-4aae-b933-e34f4637c3f2",
        "colab": {
          "base_uri": "https://localhost:8080/"
        }
      },
      "outputs": [
        {
          "output_type": "stream",
          "name": "stdout",
          "text": [
            "D\n",
            "a\n",
            "t\n",
            "a\n"
          ]
        }
      ],
      "source": [
        "word = 'Data'\n",
        "\n",
        "for letter in word:\n",
        "    print(letter)"
      ]
    },
    {
      "cell_type": "markdown",
      "metadata": {
        "id": "rt9nqya09iwx"
      },
      "source": [
        "When the loop begins, `word` already exists, but `letter` does not.  Again, the loop creates `letter` and assigns values to it.\n",
        "\n",
        "The variable created by the loop is called the **loop variable**.  You can give it any name you like; in this example, I chose `letter` to remind me what kind of value it contains.\n",
        "\n",
        "After the loop ends, the loop variable contains the last value."
      ]
    },
    {
      "cell_type": "code",
      "execution_count": 4,
      "metadata": {
        "id": "oS4p0ldX9iwx",
        "outputId": "6332d51e-fcc5-4414-96f0-00e13614e096",
        "colab": {
          "base_uri": "https://localhost:8080/",
          "height": 37
        }
      },
      "outputs": [
        {
          "output_type": "execute_result",
          "data": {
            "text/plain": [
              "'a'"
            ],
            "application/vnd.google.colaboratory.intrinsic+json": {
              "type": "string"
            }
          },
          "metadata": {},
          "execution_count": 4
        }
      ],
      "source": [
        "letter"
      ]
    },
    {
      "cell_type": "markdown",
      "metadata": {
        "id": "AoLhxmsy9iwx"
      },
      "source": [
        "**Exercise:** Create a list, called `sequence` with four elements of any type. Write a `for` loop that prints the elements.  Call the loop variable `element`."
      ]
    },
    {
      "cell_type": "code",
      "execution_count": 5,
      "metadata": {
        "id": "UicNlFc-9iwx",
        "outputId": "033e48ee-a990-43f2-c0f0-ccd202fb0237",
        "colab": {
          "base_uri": "https://localhost:8080/"
        }
      },
      "outputs": [
        {
          "output_type": "stream",
          "name": "stdout",
          "text": [
            "1\n",
            "2\n",
            "3\n",
            "4\n"
          ]
        }
      ],
      "source": [
        "# Solution goes here\n",
        "sequence = [1, 2, 3, 4]\n",
        "\n",
        "for element in sequence:\n",
        "  print(element)"
      ]
    },
    {
      "cell_type": "markdown",
      "metadata": {
        "id": "MVm0i0pL9iwx"
      },
      "source": [
        "You might wonder why I didn't call the list `list`.  I avoided it because Python has a function named `list` that makes new lists.  For example, if you have a string, you can make a list of letters, like this:"
      ]
    },
    {
      "cell_type": "code",
      "execution_count": 6,
      "metadata": {
        "id": "3WCXkI519iwx",
        "outputId": "406ca0af-fefc-4768-d1d2-81a23dec0f5f",
        "colab": {
          "base_uri": "https://localhost:8080/"
        }
      },
      "outputs": [
        {
          "output_type": "execute_result",
          "data": {
            "text/plain": [
              "['s', 't', 'r', 'i', 'n', 'g']"
            ]
          },
          "metadata": {},
          "execution_count": 6
        }
      ],
      "source": [
        "list('string')"
      ]
    },
    {
      "cell_type": "markdown",
      "metadata": {
        "id": "Y1mw_itL9iwx"
      },
      "source": [
        "If you create a variable named `list`, you can't use the function any more."
      ]
    },
    {
      "cell_type": "markdown",
      "metadata": {
        "id": "Zh_C81kC9iwy"
      },
      "source": [
        "## Counting with Loops\n",
        "\n",
        "*War and Peace* is a famously long book; let's see how long it is.  To count the words we need two elements: looping through the words in a text, and counting.\n",
        "We'll start with counting.\n",
        "\n",
        "We've already seen that you can create a variable and give it a value, like this:"
      ]
    },
    {
      "cell_type": "code",
      "execution_count": 7,
      "metadata": {
        "id": "4QCywOPn9iwy",
        "outputId": "c6236625-f79f-4c73-9c6d-5c7c2d7a2690",
        "colab": {
          "base_uri": "https://localhost:8080/"
        }
      },
      "outputs": [
        {
          "output_type": "execute_result",
          "data": {
            "text/plain": [
              "0"
            ]
          },
          "metadata": {},
          "execution_count": 7
        }
      ],
      "source": [
        "count = 0\n",
        "count"
      ]
    },
    {
      "cell_type": "markdown",
      "metadata": {
        "id": "cC20nA9a9iwy"
      },
      "source": [
        "If you assign a different value to the same variable, the new value replaces the old one."
      ]
    },
    {
      "cell_type": "code",
      "execution_count": 8,
      "metadata": {
        "id": "untOnrI19iwy",
        "outputId": "3d238a89-1de0-4eec-c7a4-4bc3323371d3",
        "colab": {
          "base_uri": "https://localhost:8080/"
        }
      },
      "outputs": [
        {
          "output_type": "execute_result",
          "data": {
            "text/plain": [
              "1"
            ]
          },
          "metadata": {},
          "execution_count": 8
        }
      ],
      "source": [
        "count = 1\n",
        "count"
      ]
    },
    {
      "cell_type": "markdown",
      "metadata": {
        "id": "ZtiO8uCO9iwy"
      },
      "source": [
        "You can increase the value of a variable by reading the old value, adding `1`, and assigning the result back to the original variable."
      ]
    },
    {
      "cell_type": "code",
      "execution_count": 9,
      "metadata": {
        "id": "lYCH_AE29iwy",
        "outputId": "7207a2a6-1a41-4705-f38b-32320713e01f",
        "colab": {
          "base_uri": "https://localhost:8080/"
        }
      },
      "outputs": [
        {
          "output_type": "execute_result",
          "data": {
            "text/plain": [
              "2"
            ]
          },
          "metadata": {},
          "execution_count": 9
        }
      ],
      "source": [
        "count = count + 1\n",
        "count"
      ]
    },
    {
      "cell_type": "markdown",
      "metadata": {
        "id": "cjBwp6TT9iwy"
      },
      "source": [
        "Increasing the value of a variable is called **incrementing**; decreasing the value is called **decrementing**.  These operations are so common that there are special operators for them."
      ]
    },
    {
      "cell_type": "code",
      "execution_count": 10,
      "metadata": {
        "id": "7yopln6E9iwy",
        "outputId": "3e6ef8c3-1df9-40db-9d01-eb26b5ee3fca",
        "colab": {
          "base_uri": "https://localhost:8080/"
        }
      },
      "outputs": [
        {
          "output_type": "execute_result",
          "data": {
            "text/plain": [
              "3"
            ]
          },
          "metadata": {},
          "execution_count": 10
        }
      ],
      "source": [
        "count += 1\n",
        "count"
      ]
    },
    {
      "cell_type": "markdown",
      "metadata": {
        "id": "KwOD9q_n9iwy"
      },
      "source": [
        "In this example, the `+=` operator reads the value of `count`, adds `1`, and assigns the result back to `count`.\n",
        "Python also provides `-=` and other update operators like `*=` and `/=`."
      ]
    },
    {
      "cell_type": "markdown",
      "metadata": {
        "id": "IuiqGkPG9iwz"
      },
      "source": [
        "**Exercise:** The following is a number trick from *Learn With Math Games* at <https://www.learn-with-math-games.com/math-number-tricks.html>:\n",
        "\n",
        "> *Finding Someone's Age*\n",
        ">\n",
        "> * Ask the person to multiply the first number of their age by 5.\n",
        ">\n",
        "> * Tell them to add 3.\n",
        ">\n",
        "> * Now tell them to double this figure.\n",
        ">\n",
        "> * Finally, have the person add the second number of their age to the figure and have them tell you the answer.\n",
        ">\n",
        "> * Deduct 6 and you will have their age.\n",
        "\n",
        "Test this algorithm using your age.  Use a single variable and update it using `+=` and other update operators."
      ]
    },
    {
      "cell_type": "code",
      "execution_count": 13,
      "metadata": {
        "id": "4WWCHxMl9iwz",
        "outputId": "4a6de4d0-67f7-4e08-983d-a6be6607cc83",
        "colab": {
          "base_uri": "https://localhost:8080/"
        }
      },
      "outputs": [
        {
          "output_type": "stream",
          "name": "stdout",
          "text": [
            "20\n",
            "23\n",
            "46\n",
            "48\n"
          ]
        },
        {
          "output_type": "execute_result",
          "data": {
            "text/plain": [
              "42"
            ]
          },
          "metadata": {},
          "execution_count": 13
        }
      ],
      "source": [
        "# Solution goes here\n",
        "fn, sn = 4, 2\n",
        "\n",
        "## algorithm\n",
        "fn *= 5\n",
        "print(fn)\n",
        "fn += 3\n",
        "print(fn)\n",
        "fn += fn\n",
        "print(fn)\n",
        "fn += sn\n",
        "print(fn)\n",
        "\n",
        "## answer\n",
        "age = fn - 6\n",
        "age\n",
        "\n"
      ]
    },
    {
      "cell_type": "markdown",
      "metadata": {
        "id": "PzDOfiJr9iwz"
      },
      "source": [
        "## Files\n",
        "\n",
        "Now that we know how to count, let's see how we can read words from a file.\n",
        "We can download *War and Peace* from Project Gutenberg, which is a repository of free books at <https://www.gutenberg.org>."
      ]
    },
    {
      "cell_type": "markdown",
      "metadata": {
        "tags": [],
        "id": "esbEeW9m9iwz"
      },
      "source": [
        "When you run the following cell, it checks to see whether you already have a file named `2600-0.txt`, which is the name of the file that contains the text of *War and Peace*.\n",
        "If not, it copies the file from Project Gutenberg to your computer.  "
      ]
    },
    {
      "cell_type": "code",
      "execution_count": 14,
      "metadata": {
        "tags": [],
        "id": "Z5dENkMw9iwz",
        "outputId": "9a141f29-480c-4809-e253-5b0c7df32e37",
        "colab": {
          "base_uri": "https://localhost:8080/"
        }
      },
      "outputs": [
        {
          "output_type": "stream",
          "name": "stdout",
          "text": [
            "Downloaded 2600-0.txt\n"
          ]
        }
      ],
      "source": [
        "from os.path import basename, exists\n",
        "\n",
        "def download(url):\n",
        "    filename = basename(url)\n",
        "    if not exists(filename):\n",
        "        from urllib.request import urlretrieve\n",
        "        local, _ = urlretrieve(url, filename)\n",
        "        print('Downloaded ' + local)\n",
        "\n",
        "download('https://www.gutenberg.org/files/2600/2600-0.txt')"
      ]
    },
    {
      "cell_type": "markdown",
      "metadata": {
        "tags": [],
        "id": "Od8lLHyc9iwz"
      },
      "source": [
        "If you are running this notebook on Colab, it will copy the file to a \"virtual file system\" on Colab, which means it will disappear if you leave the notebook idle for a while.  In that case, you can download it again later."
      ]
    },
    {
      "cell_type": "markdown",
      "metadata": {
        "id": "R2fm4FDm9iwz"
      },
      "source": [
        "In order to read the contents of the file, you have to **open** it, which you can do with the `open` function."
      ]
    },
    {
      "cell_type": "code",
      "execution_count": null,
      "metadata": {
        "tags": [],
        "id": "jQ87qTka9iwz"
      },
      "outputs": [],
      "source": [
        "# On Windows, it might be necessary to specify the encoding\n",
        "\n",
        "# fp = open('2600-0.txt', encoding='utf-8')"
      ]
    },
    {
      "cell_type": "code",
      "execution_count": 15,
      "metadata": {
        "id": "ULHQaOM39iwz",
        "outputId": "2d2db6a2-4e5d-4d6d-831d-b22581992f3f",
        "colab": {
          "base_uri": "https://localhost:8080/"
        }
      },
      "outputs": [
        {
          "output_type": "execute_result",
          "data": {
            "text/plain": [
              "<_io.TextIOWrapper name='2600-0.txt' mode='r' encoding='UTF-8'>"
            ]
          },
          "metadata": {},
          "execution_count": 15
        }
      ],
      "source": [
        "fp = open('2600-0.txt')\n",
        "fp"
      ]
    },
    {
      "cell_type": "markdown",
      "metadata": {
        "id": "-RUookde9iwz"
      },
      "source": [
        "The result is a `TextIOWrapper`, which is a type of **file pointer**.\n",
        "It contains the name of the file, the mode (which is `r` for \"reading\") and the encoding (which is `UTF` for \"Unicode Transformation Format\").\n",
        "A file pointer is like a bookmark; it keeps track of which parts of the file you have read.\n",
        "\n",
        "If you use a file pointer in a `for` loop, it loops through the lines in the file.\n",
        "So we can count the number of lines like this:"
      ]
    },
    {
      "cell_type": "code",
      "execution_count": 16,
      "metadata": {
        "id": "dL-tw25c9iw0"
      },
      "outputs": [],
      "source": [
        "fp = open('2600-0.txt')\n",
        "count = 0\n",
        "for line in fp:\n",
        "    count += 1"
      ]
    },
    {
      "cell_type": "markdown",
      "metadata": {
        "id": "4r8Ng5lH9iw0"
      },
      "source": [
        "And then display the result."
      ]
    },
    {
      "cell_type": "code",
      "execution_count": 17,
      "metadata": {
        "id": "ntOLkDrW9iw0",
        "outputId": "447810de-efb2-4bfd-99c7-30bf8b4efd87",
        "colab": {
          "base_uri": "https://localhost:8080/"
        }
      },
      "outputs": [
        {
          "output_type": "execute_result",
          "data": {
            "text/plain": [
              "66032"
            ]
          },
          "metadata": {},
          "execution_count": 17
        }
      ],
      "source": [
        "count"
      ]
    },
    {
      "cell_type": "markdown",
      "metadata": {
        "id": "evvsaEiC9iw0"
      },
      "source": [
        "There are about 66,000 lines in this file."
      ]
    },
    {
      "cell_type": "markdown",
      "metadata": {
        "id": "oi_1JCAs9iw4"
      },
      "source": [
        "## if Statements\n",
        "\n",
        "We've already see comparison operators, like `>` and `<`, which compare values and produce a Boolean result, `True` or `False`.\n",
        "For example, we can compare the final value of `count` to a number:"
      ]
    },
    {
      "cell_type": "code",
      "execution_count": 18,
      "metadata": {
        "id": "HzVexOmK9iw4",
        "outputId": "ba8cd928-79d9-4efc-ddcb-189cb57382f9",
        "colab": {
          "base_uri": "https://localhost:8080/"
        }
      },
      "outputs": [
        {
          "output_type": "execute_result",
          "data": {
            "text/plain": [
              "True"
            ]
          },
          "metadata": {},
          "execution_count": 18
        }
      ],
      "source": [
        "count > 60000"
      ]
    },
    {
      "cell_type": "markdown",
      "metadata": {
        "id": "3kjrWxN59iw5"
      },
      "source": [
        "We can use a comparison operator in an `if` statement to check for a condition and take action accordingly."
      ]
    },
    {
      "cell_type": "code",
      "execution_count": 19,
      "metadata": {
        "id": "4fAKkR2l9iw5",
        "outputId": "6a617c43-06c1-47ce-fd53-dc3bf734ad76",
        "colab": {
          "base_uri": "https://localhost:8080/"
        }
      },
      "outputs": [
        {
          "output_type": "stream",
          "name": "stdout",
          "text": [
            "Long book!\n"
          ]
        }
      ],
      "source": [
        "if count > 60000:\n",
        "    print('Long book!')"
      ]
    },
    {
      "cell_type": "markdown",
      "metadata": {
        "id": "HM_uel6u9iw5"
      },
      "source": [
        "The first line of the `if` statement specifies the condition we're checking for. Like the header of a `for` statement, the first line of an `if` statement has to end with a colon.\n",
        "\n",
        "If the condition is true, the indented statement runs; otherwise, it doesn't.\n",
        "In the previous example, the condition is true, so the `print` statement runs.\n",
        "In the following example, the condition is false, so the `print` statement doesn't run."
      ]
    },
    {
      "cell_type": "code",
      "execution_count": 20,
      "metadata": {
        "id": "PPS8FhL59iw5"
      },
      "outputs": [],
      "source": [
        "if count < 1000:\n",
        "    print('Short book!')"
      ]
    },
    {
      "cell_type": "markdown",
      "metadata": {
        "id": "onVE57mH9iw5"
      },
      "source": [
        "We can put a `print` statement inside a `for` loop.  In this example, we only print a line from the book when `count` is `1`.\n",
        "The other lines are read, but not displayed."
      ]
    },
    {
      "cell_type": "code",
      "execution_count": 23,
      "metadata": {
        "id": "yiWn9PHX9iw5",
        "outputId": "1567a9ea-7288-434d-cf1b-d14f882cc8af",
        "colab": {
          "base_uri": "https://localhost:8080/"
        }
      },
      "outputs": [
        {
          "output_type": "stream",
          "name": "stdout",
          "text": [
            "This eBook is for the use of anyone anywhere in the United States and\n",
            "\n"
          ]
        }
      ],
      "source": [
        "fp = open('2600-0.txt')\n",
        "count = 0\n",
        "for line in fp:\n",
        "    if count == 2: # when count is 2; print\n",
        "        print(line)\n",
        "    count += 1"
      ]
    },
    {
      "cell_type": "markdown",
      "metadata": {
        "id": "zwD7jJt39iw5"
      },
      "source": [
        "Notice the indentation in this example:\n",
        "\n",
        "* Statements inside the `for` loop are indented.\n",
        "\n",
        "* The statement inside the `if` statement is indented.\n",
        "\n",
        "* The statement `count += 1` is **outdented** from the previous line, so it ends the `if` statement.  But it is still inside the `for` loop.\n",
        "\n",
        "It is legal in Python to use spaces or tabs for indentation, but the most common convention is to use four spaces, never tabs.  That's what I'll do in my code and I strongly suggest you follow the convention."
      ]
    },
    {
      "cell_type": "markdown",
      "metadata": {
        "id": "kCxnIljE9iw5"
      },
      "source": [
        "## The break Statement\n",
        "\n",
        "If we display the final value of `count`, we see that the loop reads the entire file, but only prints one line:"
      ]
    },
    {
      "cell_type": "code",
      "execution_count": 24,
      "metadata": {
        "id": "gKXfWAB49iw5",
        "outputId": "abdb29b6-6694-47d6-9e8e-de003e5eb467",
        "colab": {
          "base_uri": "https://localhost:8080/"
        }
      },
      "outputs": [
        {
          "output_type": "execute_result",
          "data": {
            "text/plain": [
              "66032"
            ]
          },
          "metadata": {},
          "execution_count": 24
        }
      ],
      "source": [
        "count"
      ]
    },
    {
      "cell_type": "markdown",
      "metadata": {
        "id": "GEdBL0O59iw6"
      },
      "source": [
        "We can avoid reading the whole file by using a `break` statement, like this:"
      ]
    },
    {
      "cell_type": "code",
      "execution_count": 26,
      "metadata": {
        "id": "aQCsEbGd9iw6",
        "outputId": "81f505a2-309f-4b05-cf0f-f36cd87752bc",
        "colab": {
          "base_uri": "https://localhost:8080/"
        }
      },
      "outputs": [
        {
          "output_type": "stream",
          "name": "stdout",
          "text": [
            "This eBook is for the use of anyone anywhere in the United States and\n",
            "\n"
          ]
        }
      ],
      "source": [
        "fp = open('2600-0.txt')\n",
        "count = 0\n",
        "for line in fp:\n",
        "    if count == 2:\n",
        "        print(line)\n",
        "        break\n",
        "    count += 1"
      ]
    },
    {
      "cell_type": "markdown",
      "metadata": {
        "id": "kt3B1AtL9iw6"
      },
      "source": [
        "The `break` statement ends the loop immediately, skipping the rest of the file.  We can confirm that by checking the last value of `count`:"
      ]
    },
    {
      "cell_type": "code",
      "execution_count": 27,
      "metadata": {
        "id": "0co4gEfi9iw6",
        "outputId": "ac384122-b203-4197-decb-2aaf2570f292",
        "colab": {
          "base_uri": "https://localhost:8080/"
        }
      },
      "outputs": [
        {
          "output_type": "execute_result",
          "data": {
            "text/plain": [
              "2"
            ]
          },
          "metadata": {},
          "execution_count": 27
        }
      ],
      "source": [
        "count"
      ]
    },
    {
      "cell_type": "markdown",
      "metadata": {
        "id": "zOrcQbBB9iw6"
      },
      "source": [
        "**Exercise:** Write a loop that prints the first 5 lines of the file and then breaks out of the loop."
      ]
    },
    {
      "cell_type": "code",
      "execution_count": 29,
      "metadata": {
        "id": "da1znUf79iw6",
        "outputId": "af59badb-9654-4ce6-88d2-a69dc8f3e55b",
        "colab": {
          "base_uri": "https://localhost:8080/"
        }
      },
      "outputs": [
        {
          "output_type": "stream",
          "name": "stdout",
          "text": [
            "﻿The Project Gutenberg eBook of War and Peace, by Leo Tolstoy\n",
            "\n",
            "\n",
            "\n",
            "This eBook is for the use of anyone anywhere in the United States and\n",
            "\n",
            "most other parts of the world at no cost and with almost no restrictions\n",
            "\n",
            "whatsoever. You may copy it, give it away or re-use it under the terms\n",
            "\n"
          ]
        }
      ],
      "source": [
        "# Solution goes here\n",
        "fp = open(\"/content/2600-0.txt\")\n",
        "count=0\n",
        "for line in fp:\n",
        "    print(line)\n",
        "    if count==4:\n",
        "      break\n",
        "    count+=1\n"
      ]
    },
    {
      "cell_type": "markdown",
      "metadata": {
        "id": "W8sAov0C9iw6"
      },
      "source": [
        "## Whitespace\n",
        "\n",
        "If we run the loop again and display the final value of `line`, we see the special sequence `\\n` at the end."
      ]
    },
    {
      "cell_type": "code",
      "execution_count": 30,
      "metadata": {
        "id": "bvEx4gxG9iw6",
        "outputId": "1704347f-65da-4e94-8e0c-f2308907cdf3",
        "colab": {
          "base_uri": "https://localhost:8080/",
          "height": 37
        }
      },
      "outputs": [
        {
          "output_type": "execute_result",
          "data": {
            "text/plain": [
              "'\\n'"
            ],
            "application/vnd.google.colaboratory.intrinsic+json": {
              "type": "string"
            }
          },
          "metadata": {},
          "execution_count": 30
        }
      ],
      "source": [
        "fp = open('2600-0.txt')\n",
        "count = 0\n",
        "for line in fp:\n",
        "    if count == 1:\n",
        "        break\n",
        "    count += 1\n",
        "\n",
        "line"
      ]
    },
    {
      "cell_type": "markdown",
      "metadata": {
        "id": "AkO0HpbK9iw7"
      },
      "source": [
        "This sequence represents a single character, called a **newline**, that puts vertical space between lines.\n",
        "If we use a `print` statement to display `line`, we don't see the special sequence, but we do see extra space after the line."
      ]
    },
    {
      "cell_type": "code",
      "execution_count": 31,
      "metadata": {
        "id": "qqA9dCeT9iw7",
        "outputId": "7900ba65-e373-4420-f2af-fcd3b1aa4095",
        "colab": {
          "base_uri": "https://localhost:8080/"
        }
      },
      "outputs": [
        {
          "output_type": "stream",
          "name": "stdout",
          "text": [
            "\n",
            "\n"
          ]
        }
      ],
      "source": [
        "print(line)"
      ]
    },
    {
      "cell_type": "markdown",
      "metadata": {
        "id": "oXbfKoKu9iw7"
      },
      "source": [
        "In other strings, you might see the sequence `\\t`, which represents a \"tab\" character.\n",
        "When you print a tab character, it adds enough space to make the next character appear in a column that is a multiple of 8."
      ]
    },
    {
      "cell_type": "code",
      "execution_count": 32,
      "metadata": {
        "id": "QuuQQwkB9iw7",
        "outputId": "27da7448-f6fc-48ba-d7dc-5d4bab449391",
        "colab": {
          "base_uri": "https://localhost:8080/"
        }
      },
      "outputs": [
        {
          "output_type": "stream",
          "name": "stdout",
          "text": [
            "012345670123456701234567012345670123456701234567\n",
            "a\tbc\tdef\tghij\tklmno\tpqrstu\n"
          ]
        }
      ],
      "source": [
        "print('01234567' * 6)\n",
        "print('a\\tbc\\tdef\\tghij\\tklmno\\tpqrstu')"
      ]
    },
    {
      "cell_type": "markdown",
      "metadata": {
        "id": "xeYlLtQ-9iw7"
      },
      "source": [
        "Newline characters, tabs, and spaces are called **whitespace** because when they are printed they leave white space on the page (assuming that the background color is white)."
      ]
    },
    {
      "cell_type": "markdown",
      "metadata": {
        "id": "qL7s7Spy9iw7"
      },
      "source": [
        "## Counting Words\n",
        "\n",
        "So far we've managed to count the lines in a file, but each line contains several words.\n",
        "To split a line into words, we can use a function called `split` that returns a list of words.\n",
        "To be more precise, `split` doesn't actually know what a word is; it just splits the line wherever there's a space or other whitespace character."
      ]
    },
    {
      "cell_type": "code",
      "execution_count": 33,
      "metadata": {
        "id": "HPIonM5o9iw7",
        "outputId": "fdf667ec-2cf0-4032-9081-191c08fdb24e",
        "colab": {
          "base_uri": "https://localhost:8080/"
        }
      },
      "outputs": [
        {
          "output_type": "execute_result",
          "data": {
            "text/plain": [
              "[]"
            ]
          },
          "metadata": {},
          "execution_count": 33
        }
      ],
      "source": [
        "line.split()"
      ]
    },
    {
      "cell_type": "markdown",
      "metadata": {
        "id": "fwDO4wuC9iw7"
      },
      "source": [
        "Notice that the syntax for `split` is different from other functions we have seen.  Normally when we call a function, we name the function and provide values in parentheses.  So you might have expected to write `split(line)`.  Sadly, that doesn't work."
      ]
    },
    {
      "cell_type": "markdown",
      "metadata": {
        "tags": [],
        "id": "BdvTISfs9iw7"
      },
      "source": [
        "Run this line of code in the next cell to see what happens.\n",
        "\n",
        "```\n",
        "split(line)\n",
        "```"
      ]
    },
    {
      "cell_type": "code",
      "execution_count": 34,
      "metadata": {
        "tags": [],
        "id": "5OkQS8b39iw8",
        "outputId": "f043f190-42bd-4dba-f3c9-719a20c462a2",
        "colab": {
          "base_uri": "https://localhost:8080/",
          "height": 179
        }
      },
      "outputs": [
        {
          "output_type": "error",
          "ename": "NameError",
          "evalue": "name 'split' is not defined",
          "traceback": [
            "\u001b[0;31m---------------------------------------------------------------------------\u001b[0m",
            "\u001b[0;31mNameError\u001b[0m                                 Traceback (most recent call last)",
            "\u001b[0;32m<ipython-input-34-b5ba40708be5>\u001b[0m in \u001b[0;36m<cell line: 1>\u001b[0;34m()\u001b[0m\n\u001b[0;32m----> 1\u001b[0;31m \u001b[0msplit\u001b[0m\u001b[0;34m(\u001b[0m\u001b[0mline\u001b[0m\u001b[0;34m)\u001b[0m\u001b[0;34m\u001b[0m\u001b[0;34m\u001b[0m\u001b[0m\n\u001b[0m",
            "\u001b[0;31mNameError\u001b[0m: name 'split' is not defined"
          ]
        }
      ],
      "source": [
        "split(line)"
      ]
    },
    {
      "cell_type": "markdown",
      "metadata": {
        "id": "1r1nZM1g9iw8"
      },
      "source": [
        "The problem is that the `split` function belongs to the string `line`; in a sense, the function is attached to the string, so we can only refer to it using the string and the **dot operator** (the period between `line` and `split`).\n",
        "For historical reasons, functions like this are called **methods**.\n",
        "\n",
        "Now that we can split a line into a list of words, we can use `len` to get the number of words in each list, and increment `count` accordingly."
      ]
    },
    {
      "cell_type": "code",
      "execution_count": 35,
      "metadata": {
        "id": "VfZfPaiO9iw8"
      },
      "outputs": [],
      "source": [
        "fp = open('2600-0.txt')\n",
        "count = 0\n",
        "for line in fp:\n",
        "    count += len(line.split())"
      ]
    },
    {
      "cell_type": "code",
      "execution_count": 36,
      "metadata": {
        "id": "THo8XtTQ9iw8",
        "outputId": "468a7b3e-1074-4db8-d9c1-dd48cb2904b3",
        "colab": {
          "base_uri": "https://localhost:8080/"
        }
      },
      "outputs": [
        {
          "output_type": "execute_result",
          "data": {
            "text/plain": [
              "566334"
            ]
          },
          "metadata": {},
          "execution_count": 36
        }
      ],
      "source": [
        "count"
      ]
    },
    {
      "cell_type": "markdown",
      "metadata": {
        "id": "iOG4u73o9iw8"
      },
      "source": [
        "By this count, there are more than half a million words in *War and Peace*.\n",
        "\n",
        "Actually, there aren't quite that many, because the file we got from Project Gutenberg has some introductory text and a table of contents before the text.  And it has some license information at the end.\n",
        "To skip this \"front matter\", we can use one loop to read lines until we get to `CHAPTER I`, and then a second loop to count the words in the remaining lines.\n",
        "\n",
        "The file pointer, `fp`, keeps track of where it is in the file, so the second loop picks up where the first loop leaves off.\n",
        "In the second loop, we check for the end of the book and stop, so we ignore the \"back matter\" at the end of the file."
      ]
    },
    {
      "cell_type": "code",
      "execution_count": 37,
      "metadata": {
        "id": "fBJYVMh29iw8"
      },
      "outputs": [],
      "source": [
        "first_line = \"CHAPTER I\\n\"\n",
        "last_line = \"End of the Project Gutenberg EBook of War and Peace, by Leo Tolstoy\\n\"\n",
        "\n",
        "fp = open('2600-0.txt')\n",
        "for line in fp:\n",
        "    if line == first_line:\n",
        "        break\n",
        "\n",
        "count = 0\n",
        "for line in fp:\n",
        "    if line == last_line:\n",
        "        print(line)\n",
        "        break\n",
        "    count += len(line.split())"
      ]
    },
    {
      "cell_type": "code",
      "execution_count": 38,
      "metadata": {
        "id": "NeSoF8hJ9iw8",
        "outputId": "0c13884c-b74f-40ac-8f2d-bd23cbaec72f",
        "colab": {
          "base_uri": "https://localhost:8080/"
        }
      },
      "outputs": [
        {
          "output_type": "execute_result",
          "data": {
            "text/plain": [
              "565388"
            ]
          },
          "metadata": {},
          "execution_count": 38
        }
      ],
      "source": [
        "count"
      ]
    },
    {
      "cell_type": "markdown",
      "metadata": {
        "id": "EVWyYI499iw8"
      },
      "source": [
        "Two things to notice about this program:\n",
        "\n",
        "* When we compare two values to see if they are equal, we use the `==` operator, not to be confused with `=`, which is the assignment operator.\n",
        "\n",
        "* The string we compare `line` to has a newline at the end.  If we leave that out, it doesn't work."
      ]
    },
    {
      "cell_type": "markdown",
      "metadata": {
        "id": "5fhk-J0E9iw8"
      },
      "source": [
        "**Exercise:**\n",
        "\n",
        "1. In the previous program, replace `==` with `=` and see what happens.  This is a common error, so it is good to see what the error message looks like.  \n",
        "\n",
        "2. Correct the previous error, then remove the newline character after `CHAPTER I`, and see what happens.\n",
        "\n",
        "The first error is a **syntax error**, which means that the program violates the rules of Python.  If your program has a syntax error, the Python interpreter prints an error message, and the program never runs.\n",
        "\n",
        "The second error is a **logic error**, which means that there is something wrong with the logic of the program.  The syntax is legal, and the program runs, but it doesn't do what we wanted.  Logic errors can be hard to find because we don't get any error messages.  \n",
        "\n",
        "If you have a logic error, here are two strategies for debugging:\n",
        "\n",
        "1. Add print statements so the program displays additional information while it runs.\n",
        "\n",
        "2. Simplify the program until it does what you expect, and then gradually add more code, testing as you go."
      ]
    },
    {
      "cell_type": "code",
      "source": [
        "##  replace == with = and see what happens\n",
        "first_line = \"CHAPTER I\\n\"\n",
        "last_line = \"End of the Project Gutenberg EBook of War and Peace, by Leo Tolstoy\\n\"\n",
        "\n",
        "fp = open('2600-0.txt')\n",
        "for line in fp:\n",
        "    if line = first_line:\n",
        "        break\n",
        "\n",
        "count = 0\n",
        "for line in fp:\n",
        "    if line == last_line:\n",
        "        print(line)\n",
        "        break\n",
        "    count += len(line.split())"
      ],
      "metadata": {
        "id": "bd3SIYJdFx8E",
        "outputId": "f20e01e5-2a96-4a8d-ff7c-14cd4f192d47",
        "colab": {
          "base_uri": "https://localhost:8080/",
          "height": 144
        }
      },
      "execution_count": 40,
      "outputs": [
        {
          "output_type": "error",
          "ename": "SyntaxError",
          "evalue": "invalid syntax. Maybe you meant '==' or ':=' instead of '='? (<ipython-input-40-aab9a95c838c>, line 6)",
          "traceback": [
            "\u001b[0;36m  File \u001b[0;32m\"<ipython-input-40-aab9a95c838c>\"\u001b[0;36m, line \u001b[0;32m6\u001b[0m\n\u001b[0;31m    if line = first_line:\u001b[0m\n\u001b[0m       ^\u001b[0m\n\u001b[0;31mSyntaxError\u001b[0m\u001b[0;31m:\u001b[0m invalid syntax. Maybe you meant '==' or ':=' instead of '='?\n"
          ]
        }
      ]
    },
    {
      "cell_type": "code",
      "source": [
        "## Correct the previous error, then remove the newline character after CHAPTER I\n",
        "\n",
        "first_line = \"CHAPTER I\"\n",
        "last_line = \"End of the Project Gutenberg EBook of War and Peace, by Leo Tolstoy\\n\"\n",
        "\n",
        "fp = open('2600-0.txt')\n",
        "for line in fp:\n",
        "    if line == first_line:\n",
        "        break\n",
        "\n",
        "count = 0\n",
        "for line in fp:\n",
        "    if line == last_line:\n",
        "        print(line)\n",
        "        break\n",
        "    count += len(line.split())\n",
        "\n",
        "count"
      ],
      "metadata": {
        "id": "tjNW0lHGF7rb",
        "outputId": "a562ab40-2e44-43c1-8975-ff19829233e7",
        "colab": {
          "base_uri": "https://localhost:8080/"
        }
      },
      "execution_count": 42,
      "outputs": [
        {
          "output_type": "execute_result",
          "data": {
            "text/plain": [
              "0"
            ]
          },
          "metadata": {},
          "execution_count": 42
        }
      ]
    },
    {
      "cell_type": "markdown",
      "metadata": {
        "id": "7uHLBSg39iw9"
      },
      "source": [
        "## Summary\n",
        "\n",
        "This chapter presents loops, `if` statements, and the `break` statement.\n",
        "It also introduces tools for working with letters and words, and a simple kind of textual analysis, word counting.\n",
        "\n",
        "In the next chapter we'll continue this example, counting the number of unique words in a text and the number of times each word appears.\n",
        "And we'll see one more way to represent a collection of values, a Python dictionary."
      ]
    },
    {
      "cell_type": "markdown",
      "metadata": {
        "tags": [],
        "id": "3WwdpvXI9iw9"
      },
      "source": [
        "*Elements of Data Science*\n",
        "\n",
        "Copyright 2021 [Allen B. Downey](https://allendowney.com)\n",
        "\n",
        "License: [Creative Commons Attribution-NonCommercial-ShareAlike 4.0 International](https://creativecommons.org/licenses/by-nc-sa/4.0/)"
      ]
    },
    {
      "cell_type": "markdown",
      "source": [
        "*That's the end of this notebook!! Great thanks to Allen for this fine tutorial series!!*"
      ],
      "metadata": {
        "id": "lLtRZWTsGsk9"
      }
    },
    {
      "cell_type": "code",
      "source": [
        "print(f\"\"\"Sirach 2:10\n",
        "Think back to the ancient generations and consider this:\n",
        "Has the Lord ever disappointed anyone who put his hope in Him?\n",
        "Has the Lord ever abandoned anyone who held Him in constant reverence?\n",
        "Has the Lord ever ignored anyone who prayed to Him?.\n",
        "ThankYou Lord!!\"\"\")"
      ],
      "metadata": {
        "id": "RPYvJYAOGvSE",
        "outputId": "2d9d4a07-4413-46cd-dace-fa245e66d8a6",
        "colab": {
          "base_uri": "https://localhost:8080/"
        }
      },
      "execution_count": 43,
      "outputs": [
        {
          "output_type": "stream",
          "name": "stdout",
          "text": [
            "Sirach 2:10\n",
            "Think back to the ancient generations and consider this: \n",
            "Has the Lord ever disappointed anyone who put his hope in Him? \n",
            "Has the Lord ever abandoned anyone who held Him in constant reverence? \n",
            "Has the Lord ever ignored anyone who prayed to Him?.\n",
            "ThankYou Lord!!\n"
          ]
        }
      ]
    }
  ],
  "metadata": {
    "celltoolbar": "Tags",
    "kernelspec": {
      "display_name": "Python 3 (ipykernel)",
      "language": "python",
      "name": "python3"
    },
    "language_info": {
      "codemirror_mode": {
        "name": "ipython",
        "version": 3
      },
      "file_extension": ".py",
      "mimetype": "text/x-python",
      "name": "python",
      "nbconvert_exporter": "python",
      "pygments_lexer": "ipython3",
      "version": "3.8.16"
    },
    "colab": {
      "provenance": []
    }
  },
  "nbformat": 4,
  "nbformat_minor": 0
}