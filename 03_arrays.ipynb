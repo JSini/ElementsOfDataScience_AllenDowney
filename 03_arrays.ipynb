{
  "cells": [
    {
      "cell_type": "markdown",
      "source": [
        "*Hi,*\n",
        "\n",
        "**A note regarding the tutorial** -\n",
        "\n",
        "*This Notebook is second in series from AllenDowney/ElementsOfDataScience*\n",
        "\n",
        "*Reference: https://colab.research.google.com/github/AllenDowney/ElementsOfDataScience/blob/master/03_arrays.ipynb*"
      ],
      "metadata": {
        "id": "ygAWRRlV13oa"
      }
    },
    {
      "cell_type": "markdown",
      "metadata": {
        "id": "m83L-Qi8XdcL"
      },
      "source": [
        "# Lists and Arrays"
      ]
    },
    {
      "cell_type": "markdown",
      "metadata": {
        "id": "jM3uOKZ9XdcO"
      },
      "source": [
        "In the previous chapter we used tuples to represent latitude and longitude.  In this chapter, you'll see how to use tuples more generally to represent a sequence of values.  And we'll see two more ways to represent sequences: lists and arrays.\n",
        "\n",
        "You might wonder why we need three ways to represent the same thing.  Most of the time we don't, but each of them has different capabilities.  For work with data, we will use arrays most of the time.\n",
        "\n",
        "As an example, we will use a small dataset from an article in *The Economist* about the price of sandwiches.  It's a silly example, but I'll use it to introduce the idea of relative differences and different ways to summarize them."
      ]
    },
    {
      "cell_type": "markdown",
      "metadata": {
        "id": "HTQiYdj1XdcP"
      },
      "source": [
        "## Tuples\n",
        "\n",
        "A tuple is a sequence of elements.  When we use a tuple to represent latitude and longitude, the sequence only contains two elements, and they are both floating-point numbers.\n",
        "But in general a tuple can contain any number of elements, and the elements can be values of any type.\n",
        "The following is a tuple of three integers:"
      ]
    },
    {
      "cell_type": "code",
      "execution_count": 1,
      "metadata": {
        "id": "B9mUOaJhXdcP",
        "outputId": "1ee76920-4ee6-474b-9a29-7a92021cff78",
        "colab": {
          "base_uri": "https://localhost:8080/"
        }
      },
      "outputs": [
        {
          "output_type": "execute_result",
          "data": {
            "text/plain": [
              "(1, 2, 3)"
            ]
          },
          "metadata": {},
          "execution_count": 1
        }
      ],
      "source": [
        "1, 2, 3"
      ]
    },
    {
      "cell_type": "markdown",
      "metadata": {
        "id": "D2vQLYRUXdcQ"
      },
      "source": [
        "Notice that when Python displays a tuple, it puts the elements in parentheses.\n",
        "When you type a tuple, you can put it in parentheses if you think it is easier to read that way, but you don't have to."
      ]
    },
    {
      "cell_type": "code",
      "execution_count": 2,
      "metadata": {
        "tags": [],
        "id": "dcjVT6gjXdcQ",
        "outputId": "0ca31862-ff05-48e5-c3a5-10168ebc8e92",
        "colab": {
          "base_uri": "https://localhost:8080/"
        }
      },
      "outputs": [
        {
          "output_type": "execute_result",
          "data": {
            "text/plain": [
              "(1, 2, 3)"
            ]
          },
          "metadata": {},
          "execution_count": 2
        }
      ],
      "source": [
        "(1, 2, 3)"
      ]
    },
    {
      "cell_type": "markdown",
      "metadata": {
        "id": "Ljq5olj3XdcQ"
      },
      "source": [
        "The elements can be any type.  Here's a tuple of strings:"
      ]
    },
    {
      "cell_type": "code",
      "execution_count": 3,
      "metadata": {
        "id": "HC9uwNHiXdcR",
        "outputId": "9aa1587b-39c5-433f-e391-c71b8c19fe3f",
        "colab": {
          "base_uri": "https://localhost:8080/"
        }
      },
      "outputs": [
        {
          "output_type": "execute_result",
          "data": {
            "text/plain": [
              "('Data', 'Science')"
            ]
          },
          "metadata": {},
          "execution_count": 3
        }
      ],
      "source": [
        "'Data', 'Science'"
      ]
    },
    {
      "cell_type": "markdown",
      "metadata": {
        "id": "YrQ5YKzgXdcR"
      },
      "source": [
        "The elements don't have to be the same type.  Here's a tuple with a string, an integer, and a floating-point number."
      ]
    },
    {
      "cell_type": "code",
      "execution_count": 4,
      "metadata": {
        "id": "FZtpCUauXdcR",
        "outputId": "e98aa4ec-8d92-4d66-fee2-4cf8a8633c40",
        "colab": {
          "base_uri": "https://localhost:8080/"
        }
      },
      "outputs": [
        {
          "output_type": "execute_result",
          "data": {
            "text/plain": [
              "('one', 2, 3.14159)"
            ]
          },
          "metadata": {},
          "execution_count": 4
        }
      ],
      "source": [
        "'one', 2, 3.14159"
      ]
    },
    {
      "cell_type": "markdown",
      "metadata": {
        "id": "QTCAxSLXXdcR"
      },
      "source": [
        "If you have a string, you can convert it to a tuple using the `tuple` function:"
      ]
    },
    {
      "cell_type": "code",
      "execution_count": 5,
      "metadata": {
        "id": "fhHpIzIDXdcR",
        "outputId": "2a1df610-12ca-4509-e29e-7ab3ad45d596",
        "colab": {
          "base_uri": "https://localhost:8080/"
        }
      },
      "outputs": [
        {
          "output_type": "execute_result",
          "data": {
            "text/plain": [
              "('D', 'a', 't', 'a', 'S', 'c', 'i', 'e', 'n', 'c', 'e')"
            ]
          },
          "metadata": {},
          "execution_count": 5
        }
      ],
      "source": [
        "tuple('DataScience')"
      ]
    },
    {
      "cell_type": "markdown",
      "metadata": {
        "id": "EE8kqF5tXdcS"
      },
      "source": [
        "The result is a tuple of single-character strings.\n",
        "\n",
        "When you create a tuple, the parentheses are optional, but the commas are required.  So how do you think you create a tuple with a single element?  You might be tempted to write:"
      ]
    },
    {
      "cell_type": "code",
      "execution_count": 6,
      "metadata": {
        "id": "HM3pALZzXdcS",
        "outputId": "d9104d9d-e962-4194-b7f0-d8e5bfe20211",
        "colab": {
          "base_uri": "https://localhost:8080/"
        }
      },
      "outputs": [
        {
          "output_type": "execute_result",
          "data": {
            "text/plain": [
              "5"
            ]
          },
          "metadata": {},
          "execution_count": 6
        }
      ],
      "source": [
        "x = (5)\n",
        "x"
      ]
    },
    {
      "cell_type": "code",
      "execution_count": 7,
      "metadata": {
        "tags": [],
        "id": "cFyK0_0cXdcS",
        "outputId": "dc1b2a82-5b28-47b5-9657-315a34701a83",
        "colab": {
          "base_uri": "https://localhost:8080/"
        }
      },
      "outputs": [
        {
          "output_type": "execute_result",
          "data": {
            "text/plain": [
              "int"
            ]
          },
          "metadata": {},
          "execution_count": 7
        }
      ],
      "source": [
        "type(x)"
      ]
    },
    {
      "cell_type": "markdown",
      "metadata": {
        "id": "iujAJvW0XdcS"
      },
      "source": [
        "But you will find that the result is just a number, not a tuple.\n",
        "To make a tuple with a single element, you need a comma:"
      ]
    },
    {
      "cell_type": "code",
      "execution_count": 8,
      "metadata": {
        "id": "65kiHHL4XdcS",
        "outputId": "35e50bcb-d34d-4cb1-e836-b67b2fa085fb",
        "colab": {
          "base_uri": "https://localhost:8080/"
        }
      },
      "outputs": [
        {
          "output_type": "execute_result",
          "data": {
            "text/plain": [
              "(5,)"
            ]
          },
          "metadata": {},
          "execution_count": 8
        }
      ],
      "source": [
        "t = 5,\n",
        "t"
      ]
    },
    {
      "cell_type": "markdown",
      "metadata": {
        "id": "fXqQUcavXdcS"
      },
      "source": [
        "That might look funny, but it does the job."
      ]
    },
    {
      "cell_type": "code",
      "execution_count": 9,
      "metadata": {
        "tags": [],
        "id": "PfCEaLAwXdcS",
        "outputId": "fdc11714-3f98-42e5-9ebe-d53ef7d7c405",
        "colab": {
          "base_uri": "https://localhost:8080/"
        }
      },
      "outputs": [
        {
          "output_type": "execute_result",
          "data": {
            "text/plain": [
              "tuple"
            ]
          },
          "metadata": {},
          "execution_count": 9
        }
      ],
      "source": [
        "type(t)"
      ]
    },
    {
      "cell_type": "markdown",
      "metadata": {
        "id": "y2x-rKLYXdcS"
      },
      "source": [
        "## Lists\n",
        "\n",
        "Python provides another way to store a sequence of elements: a **list**.\n",
        "\n",
        "To create a list, you put a sequence of elements in square brackets."
      ]
    },
    {
      "cell_type": "code",
      "execution_count": 10,
      "metadata": {
        "id": "ipwPwkHyXdcT",
        "outputId": "bbee8bf3-4b7c-40e7-fef7-642e1e90c5a2",
        "colab": {
          "base_uri": "https://localhost:8080/"
        }
      },
      "outputs": [
        {
          "output_type": "execute_result",
          "data": {
            "text/plain": [
              "[1, 2, 3]"
            ]
          },
          "metadata": {},
          "execution_count": 10
        }
      ],
      "source": [
        "[1, 2, 3]"
      ]
    },
    {
      "cell_type": "markdown",
      "metadata": {
        "id": "7a19wLVvXdcT"
      },
      "source": [
        "Lists and tuples are very similar.\n",
        "They can contain any number of elements, the elements can be any type, and the elements don't have to be the same type.\n",
        "The difference is that you can modify a list; tuples are **immutable** (cannot be modified).  This difference will matter later, but for now we can ignore it.\n",
        "\n",
        "When you make a list, the brackets are required, but if there is a single element, you don't need a comma.  So you can make a list like this:"
      ]
    },
    {
      "cell_type": "code",
      "execution_count": 11,
      "metadata": {
        "id": "wkfz-1Y_XdcT"
      },
      "outputs": [],
      "source": [
        "single = [5]"
      ]
    },
    {
      "cell_type": "code",
      "execution_count": 12,
      "metadata": {
        "tags": [],
        "id": "CJLBM2dkXdcT",
        "outputId": "ea87c733-7a68-4574-88a8-49403d671405",
        "colab": {
          "base_uri": "https://localhost:8080/"
        }
      },
      "outputs": [
        {
          "output_type": "execute_result",
          "data": {
            "text/plain": [
              "list"
            ]
          },
          "metadata": {},
          "execution_count": 12
        }
      ],
      "source": [
        "type(single)"
      ]
    },
    {
      "cell_type": "markdown",
      "metadata": {
        "id": "YEHkDwMxXdcT"
      },
      "source": [
        "It is also possible to make a list with no elements, like this:"
      ]
    },
    {
      "cell_type": "code",
      "execution_count": 13,
      "metadata": {
        "id": "YA6OU7DCXdcT"
      },
      "outputs": [],
      "source": [
        "empty = []"
      ]
    },
    {
      "cell_type": "code",
      "execution_count": 14,
      "metadata": {
        "tags": [],
        "id": "TWKwvigvXdcT",
        "outputId": "ac7adea2-3c2f-4971-e191-056dfaefe09d",
        "colab": {
          "base_uri": "https://localhost:8080/"
        }
      },
      "outputs": [
        {
          "output_type": "execute_result",
          "data": {
            "text/plain": [
              "list"
            ]
          },
          "metadata": {},
          "execution_count": 14
        }
      ],
      "source": [
        "type(empty)"
      ]
    },
    {
      "cell_type": "markdown",
      "metadata": {
        "id": "d0d7eZjFXdcT"
      },
      "source": [
        "The `len` function returns the length (number of elements) in a list or tuple."
      ]
    },
    {
      "cell_type": "code",
      "execution_count": 15,
      "metadata": {
        "id": "Pk_d5jZdXdcT",
        "outputId": "e59641f9-46fb-4145-fcf6-5c0a7ea0f27f",
        "colab": {
          "base_uri": "https://localhost:8080/"
        }
      },
      "outputs": [
        {
          "output_type": "execute_result",
          "data": {
            "text/plain": [
              "(3, 1, 0)"
            ]
          },
          "metadata": {},
          "execution_count": 15
        }
      ],
      "source": [
        "len([1, 2, 3]), len(single), len(empty)"
      ]
    },
    {
      "cell_type": "markdown",
      "metadata": {
        "id": "BWmHUc9JXdcT"
      },
      "source": [
        "**Exercise:** Create a list with 4 elements; then use `type` to confirm that it's a list, and `len` to confirm that it has 4 elements."
      ]
    },
    {
      "cell_type": "code",
      "execution_count": 16,
      "metadata": {
        "id": "igsbraV7XdcT"
      },
      "outputs": [],
      "source": [
        "# Solution goes here\n",
        "mylist = ['a', 89, \"*\", 'hello!!']"
      ]
    },
    {
      "cell_type": "code",
      "execution_count": 18,
      "metadata": {
        "id": "YBtFG03cXdcU",
        "outputId": "f5e92d14-9907-45f2-f6aa-3050ab8b906f",
        "colab": {
          "base_uri": "https://localhost:8080/"
        }
      },
      "outputs": [
        {
          "output_type": "execute_result",
          "data": {
            "text/plain": [
              "list"
            ]
          },
          "metadata": {},
          "execution_count": 18
        }
      ],
      "source": [
        "# Solution goes here\n",
        "type(mylist)"
      ]
    },
    {
      "cell_type": "code",
      "execution_count": 19,
      "metadata": {
        "id": "fXnTL1qNXdcU",
        "outputId": "db26732f-810c-449b-af70-6c535f5b21d9",
        "colab": {
          "base_uri": "https://localhost:8080/"
        }
      },
      "outputs": [
        {
          "output_type": "execute_result",
          "data": {
            "text/plain": [
              "4"
            ]
          },
          "metadata": {},
          "execution_count": 19
        }
      ],
      "source": [
        "# Solution goes here\n",
        "len(mylist)"
      ]
    },
    {
      "cell_type": "markdown",
      "metadata": {
        "id": "A6jRMYSiXdcU"
      },
      "source": [
        "There's a lot more we could do with lists, but that's enough to get started.  In the next section, we'll use lists to store data about sandwich prices."
      ]
    },
    {
      "cell_type": "markdown",
      "metadata": {
        "id": "Ob0cO_AlXdcU"
      },
      "source": [
        "## Sandwich Prices\n",
        "\n",
        "In September 2019, *The Economist* published an article comparing sandwich prices in Boston and London: \"[Why Americans pay more for lunch than Britons do](https://www.economist.com/finance-and-economics/2019/09/07/why-americans-pay-more-for-lunch-than-britons-do)\".\n",
        "It includes this graph showing prices of several sandwiches in the two cities:\n",
        "\n",
        "<img src=\"https://github.com/AllenDowney/ElementsOfDataScience/raw/master/figs/20190907_FNC941.png\"  width=\"400\">"
      ]
    },
    {
      "cell_type": "markdown",
      "metadata": {
        "id": "OypMp6CLXdcU"
      },
      "source": [
        "Here are the sandwich names from the graph, as a list of strings."
      ]
    },
    {
      "cell_type": "code",
      "execution_count": 3,
      "metadata": {
        "id": "gPmT4lvnXdcU"
      },
      "outputs": [],
      "source": [
        "name_list = [\n",
        "    'Lobster roll',\n",
        "    'Chicken caesar',\n",
        "    'Bang bang chicken',\n",
        "    'Ham and cheese',\n",
        "    'Tuna and cucumber',\n",
        "    'Egg'\n",
        "]"
      ]
    },
    {
      "cell_type": "markdown",
      "metadata": {
        "id": "_o88fnv7XdcU"
      },
      "source": [
        "I contacted *The Economist* to ask for the data they used to create that graph, and they were kind enough to share it with me.\n",
        "Here are the sandwich prices in Boston:"
      ]
    },
    {
      "cell_type": "code",
      "execution_count": 4,
      "metadata": {
        "id": "GSzVlgBfXdcY"
      },
      "outputs": [],
      "source": [
        "boston_price_list = [9.99, 7.99, 7.49, 7.00, 6.29, 4.99]"
      ]
    },
    {
      "cell_type": "markdown",
      "metadata": {
        "id": "DykW-O4DXdcY"
      },
      "source": [
        "Here are the prices in London, converted to dollars at \\$1.25 / £1."
      ]
    },
    {
      "cell_type": "code",
      "execution_count": 5,
      "metadata": {
        "id": "fkylMs0BXdcY"
      },
      "outputs": [],
      "source": [
        "london_price_list = [7.5, 5, 4.4, 5, 3.75, 2.25]"
      ]
    },
    {
      "cell_type": "markdown",
      "metadata": {
        "id": "gKFa_BE3XdcY"
      },
      "source": [
        "Lists provide some arithmetic operators, but they might not do what you want.  For example, you can \"add\" two lists:"
      ]
    },
    {
      "cell_type": "code",
      "execution_count": 6,
      "metadata": {
        "id": "hgZqgKDKXdcY",
        "outputId": "8a0ebbd6-dd40-41db-e5c2-6908fa4a4a02",
        "colab": {
          "base_uri": "https://localhost:8080/"
        }
      },
      "outputs": [
        {
          "output_type": "execute_result",
          "data": {
            "text/plain": [
              "[9.99, 7.99, 7.49, 7.0, 6.29, 4.99, 7.5, 5, 4.4, 5, 3.75, 2.25]"
            ]
          },
          "metadata": {},
          "execution_count": 6
        }
      ],
      "source": [
        "boston_price_list + london_price_list"
      ]
    },
    {
      "cell_type": "markdown",
      "metadata": {
        "id": "kaRRIC9eXdcY"
      },
      "source": [
        "But it concatenates the two lists, which is not very useful in this example.\n",
        "To compute differences between prices, you might try subtracting lists, but you would get an error.  \n",
        "We can solve this problem with NumPy."
      ]
    },
    {
      "cell_type": "markdown",
      "metadata": {
        "tags": [],
        "id": "yNdmmBz7XdcY"
      },
      "source": [
        "Run this code in the following cell to see what the error message is.\n",
        "\n",
        "```\n",
        "boston_price_list - london_price_list\n",
        "```"
      ]
    },
    {
      "cell_type": "code",
      "execution_count": 7,
      "metadata": {
        "tags": [],
        "id": "OkD8anhIXdcY",
        "outputId": "e49bee73-b710-4b72-897e-e8870c790df9",
        "colab": {
          "base_uri": "https://localhost:8080/",
          "height": 179
        }
      },
      "outputs": [
        {
          "output_type": "error",
          "ename": "TypeError",
          "evalue": "unsupported operand type(s) for -: 'list' and 'list'",
          "traceback": [
            "\u001b[0;31m---------------------------------------------------------------------------\u001b[0m",
            "\u001b[0;31mTypeError\u001b[0m                                 Traceback (most recent call last)",
            "\u001b[0;32m<ipython-input-7-1ff9739e4f5a>\u001b[0m in \u001b[0;36m<cell line: 1>\u001b[0;34m()\u001b[0m\n\u001b[0;32m----> 1\u001b[0;31m \u001b[0mboston_price_list\u001b[0m \u001b[0;34m-\u001b[0m \u001b[0mlondon_price_list\u001b[0m\u001b[0;34m\u001b[0m\u001b[0;34m\u001b[0m\u001b[0m\n\u001b[0m",
            "\u001b[0;31mTypeError\u001b[0m: unsupported operand type(s) for -: 'list' and 'list'"
          ]
        }
      ],
      "source": [
        "boston_price_list - london_price_list"
      ]
    },
    {
      "cell_type": "markdown",
      "metadata": {
        "id": "kcXc6l1LXdcZ"
      },
      "source": [
        "## NumPy Arrays\n",
        "\n",
        "We've already seen that the NumPy library provides math functions.  It also provides a type of sequence called an **array**.\n",
        "You can create a new array with the `np.array` function, starting with a list or tuple."
      ]
    },
    {
      "cell_type": "code",
      "execution_count": 8,
      "metadata": {
        "id": "0ZUGjVVZXdcZ"
      },
      "outputs": [],
      "source": [
        "import numpy as np\n",
        "\n",
        "boston_price_array = np.array(boston_price_list)\n",
        "london_price_array = np.array(london_price_list)"
      ]
    },
    {
      "cell_type": "markdown",
      "metadata": {
        "id": "b48ke4oBXdcZ"
      },
      "source": [
        "The type of the result is `numpy.ndarray`."
      ]
    },
    {
      "cell_type": "code",
      "execution_count": 26,
      "metadata": {
        "id": "X64YPoFvXdcZ",
        "outputId": "5f85e88f-4fef-43ab-9f17-522d8c14aaab",
        "colab": {
          "base_uri": "https://localhost:8080/"
        }
      },
      "outputs": [
        {
          "output_type": "execute_result",
          "data": {
            "text/plain": [
              "numpy.ndarray"
            ]
          },
          "metadata": {},
          "execution_count": 26
        }
      ],
      "source": [
        "type(boston_price_array)"
      ]
    },
    {
      "cell_type": "markdown",
      "metadata": {
        "id": "Eqeem6JJXdcZ"
      },
      "source": [
        "The \"nd\" stands for \"n-dimensional\", which indicates that NumPy arrays can have any number of dimensions.\n",
        "But for now we will work with one-dimensional sequences.\n",
        "If you display an array, Python displays the elements:"
      ]
    },
    {
      "cell_type": "code",
      "execution_count": 27,
      "metadata": {
        "id": "8UsZSMMHXdcZ",
        "outputId": "3c4d7c80-d742-4837-d6a9-53bb0eb81bcb",
        "colab": {
          "base_uri": "https://localhost:8080/"
        }
      },
      "outputs": [
        {
          "output_type": "execute_result",
          "data": {
            "text/plain": [
              "array([9.99, 7.99, 7.49, 7.  , 6.29, 4.99])"
            ]
          },
          "metadata": {},
          "execution_count": 27
        }
      ],
      "source": [
        "boston_price_array"
      ]
    },
    {
      "cell_type": "markdown",
      "metadata": {
        "id": "Bryuj-ALXdcZ"
      },
      "source": [
        "You can also display the **data type** of the array, which is the type of the elements:"
      ]
    },
    {
      "cell_type": "code",
      "execution_count": 28,
      "metadata": {
        "id": "IvY0LEfvXdcZ",
        "outputId": "3c9d59af-821e-4d9f-b173-40be6bdaef8a",
        "colab": {
          "base_uri": "https://localhost:8080/"
        }
      },
      "outputs": [
        {
          "output_type": "execute_result",
          "data": {
            "text/plain": [
              "dtype('float64')"
            ]
          },
          "metadata": {},
          "execution_count": 28
        }
      ],
      "source": [
        "boston_price_array.dtype"
      ]
    },
    {
      "cell_type": "markdown",
      "metadata": {
        "id": "eE_HZgZwXdcZ"
      },
      "source": [
        "`float64` means that the elements are floating-point numbers that take up 64 bits each.  You don't need to know about the storage format of these numbers, but if you are curious, you can read about it at <https://en.wikipedia.org/wiki/Floating-point_arithmetic#Internal_representation>.\n",
        "\n",
        "The elements of a NumPy array can be any type, but they all have to be the same type.\n",
        "Most often the elements are numbers, but you can also make an array of strings."
      ]
    },
    {
      "cell_type": "code",
      "execution_count": 29,
      "metadata": {
        "id": "kjU-PgXxXdca",
        "outputId": "7bf38af1-39e0-4c5b-d16d-9e67ebe689af",
        "colab": {
          "base_uri": "https://localhost:8080/"
        }
      },
      "outputs": [
        {
          "output_type": "execute_result",
          "data": {
            "text/plain": [
              "array(['Lobster roll', 'Chicken caesar', 'Bang bang chicken',\n",
              "       'Ham and cheese', 'Tuna and cucumber', 'Egg'], dtype='<U17')"
            ]
          },
          "metadata": {},
          "execution_count": 29
        }
      ],
      "source": [
        "name_array = np.array(name_list)\n",
        "name_array"
      ]
    },
    {
      "cell_type": "markdown",
      "metadata": {
        "id": "RHziSMtgXdca"
      },
      "source": [
        "In this example, the `dtype` is `<U17`.  The `U` indicates that the elements are Unicode strings; Unicode is the standard Python uses to represent strings. The number `17` is the length of the longest string in the array.\n",
        "\n",
        "Now, here's why NumPy arrays are useful: they can do arithmetic.  For example, to compute the differences between Boston and London prices, we can write:"
      ]
    },
    {
      "cell_type": "code",
      "execution_count": 30,
      "metadata": {
        "id": "HlKs52p7Xdca",
        "outputId": "81fc9b5a-37c2-4047-e4cc-fc2a4c3599c9",
        "colab": {
          "base_uri": "https://localhost:8080/"
        }
      },
      "outputs": [
        {
          "output_type": "execute_result",
          "data": {
            "text/plain": [
              "array([2.49, 2.99, 3.09, 2.  , 2.54, 2.74])"
            ]
          },
          "metadata": {},
          "execution_count": 30
        }
      ],
      "source": [
        "differences = boston_price_array - london_price_array\n",
        "differences"
      ]
    },
    {
      "cell_type": "markdown",
      "metadata": {
        "id": "LQF8XwNMXdca"
      },
      "source": [
        "Subtraction is done **elementwise**; that is, NumPy lines up the two arrays and subtracts corresponding elements.  The result is a new array."
      ]
    },
    {
      "cell_type": "markdown",
      "metadata": {
        "id": "dd7-xXYNXdcc"
      },
      "source": [
        "## Statistical Summaries\n",
        "\n",
        "NumPy provides functions that compute statistical summaries like the mean:"
      ]
    },
    {
      "cell_type": "code",
      "execution_count": 31,
      "metadata": {
        "id": "Ath5PBndXdcc",
        "outputId": "7559bdad-34e1-4626-a9ad-d3181bc091a2",
        "colab": {
          "base_uri": "https://localhost:8080/"
        }
      },
      "outputs": [
        {
          "output_type": "execute_result",
          "data": {
            "text/plain": [
              "2.6416666666666666"
            ]
          },
          "metadata": {},
          "execution_count": 31
        }
      ],
      "source": [
        "np.mean(differences)"
      ]
    },
    {
      "cell_type": "markdown",
      "metadata": {
        "id": "kR2a72RsXdcc"
      },
      "source": [
        "So we could describe the difference in prices like this: \"Sandwiches in Boston are more expensive by \\$2.64, on average\".\n",
        "We could also compute the means first, and then compute their difference:"
      ]
    },
    {
      "cell_type": "code",
      "execution_count": 32,
      "metadata": {
        "id": "ja_eKRx8Xdcc",
        "outputId": "656ab2bf-2381-4f39-8fed-0cbcdcc9cbbb",
        "colab": {
          "base_uri": "https://localhost:8080/"
        }
      },
      "outputs": [
        {
          "output_type": "execute_result",
          "data": {
            "text/plain": [
              "2.6416666666666675"
            ]
          },
          "metadata": {},
          "execution_count": 32
        }
      ],
      "source": [
        "np.mean(boston_price_array) - np.mean(london_price_array)"
      ]
    },
    {
      "cell_type": "markdown",
      "metadata": {
        "id": "PrklBvViXdcd"
      },
      "source": [
        "And that turns out to be the same thing: the difference in means is the same as the mean of the differences.\n",
        "As an aside, many of the NumPy functions also work with lists, so we could also do this:"
      ]
    },
    {
      "cell_type": "code",
      "execution_count": 33,
      "metadata": {
        "id": "4CbKwHtuXdcd",
        "outputId": "2bb5cdc1-0c0c-4a76-d1bd-597ce687f026",
        "colab": {
          "base_uri": "https://localhost:8080/"
        }
      },
      "outputs": [
        {
          "output_type": "execute_result",
          "data": {
            "text/plain": [
              "2.6416666666666675"
            ]
          },
          "metadata": {},
          "execution_count": 33
        }
      ],
      "source": [
        "np.mean(boston_price_list) - np.mean(london_price_list)"
      ]
    },
    {
      "cell_type": "markdown",
      "metadata": {
        "id": "39wYKCBpXdcd"
      },
      "source": [
        "**Exercise:** Standard deviation is way to quantify the variability in a set of numbers.  The NumPy function that computes standard deviation is `np.std`.\n",
        "\n",
        "Compute the standard deviation of sandwich prices in Boston and London.  By this measure, which set of prices is more variable?"
      ]
    },
    {
      "cell_type": "code",
      "execution_count": 34,
      "metadata": {
        "id": "fl6IczulXdcd",
        "outputId": "eaaca140-0efc-4884-f465-61e499ef51b4",
        "colab": {
          "base_uri": "https://localhost:8080/"
        }
      },
      "outputs": [
        {
          "output_type": "execute_result",
          "data": {
            "text/plain": [
              "(1.5380769017040583, 1.5811388300841898)"
            ]
          },
          "metadata": {},
          "execution_count": 34
        }
      ],
      "source": [
        "# Solution goes here\n",
        "np.std(boston_price_array), np.std(london_price_array)"
      ]
    },
    {
      "cell_type": "markdown",
      "metadata": {
        "id": "KTQScvsRXdcd"
      },
      "source": [
        "**Exercise:** The definition of the mean, in math notation, is\n",
        "\n",
        "$\\mu = \\frac{1}{N} \\sum_i x_i$\n",
        "\n",
        "where $x$ is a sequence of elements, $x_i$ is the element with index $i$, and $N$ is the number of elements.\n",
        "The definition of standard deviation is\n",
        "\n",
        "$\\sigma = \\sqrt{\\frac{1}{N} \\sum_i (x_i - \\mu)^2}$\n",
        "\n",
        "Compute the standard deviation of `boston_price_list` using NumPy functions `np.mean` and `np.sqrt` and see if you get the same result as `np.std`.\n",
        "\n",
        "You can (and should) do this exercise using only features we have discussed so far."
      ]
    },
    {
      "cell_type": "code",
      "execution_count": 9,
      "metadata": {
        "id": "f9Gk90V6Xdcd",
        "outputId": "efe36fb1-9bd0-48b0-bd2a-06c55451bed4",
        "colab": {
          "base_uri": "https://localhost:8080/"
        }
      },
      "outputs": [
        {
          "output_type": "execute_result",
          "data": {
            "text/plain": [
              "1.5380769017040583"
            ]
          },
          "metadata": {},
          "execution_count": 9
        }
      ],
      "source": [
        "# Solution goes here\n",
        "np.sqrt(1/len(boston_price_list) * np.sum((boston_price_list - np.mean(boston_price_list))**2))"
      ]
    },
    {
      "cell_type": "markdown",
      "metadata": {
        "id": "lh48bvh3Xdcd"
      },
      "source": [
        "This definition of standard deviation is sometimes called the \"population standard deviation\".  You might have seen another definition with $N-1$ in the denominator; that's the \"sample standard deviation\".  We'll use the population standard deviation for now and come back to this issue later."
      ]
    },
    {
      "cell_type": "markdown",
      "metadata": {
        "id": "he3Gad7ZXdce"
      },
      "source": [
        "## Relative Difference\n",
        "\n",
        "In the previous section we computed differences between prices.\n",
        "But often when we make this kind of comparison, we are interested in **relative differences**, which are differences expressed as a fraction or percentage of a quantity.\n",
        "\n",
        "Taking the lobster roll as an example, the difference in price is:"
      ]
    },
    {
      "cell_type": "code",
      "execution_count": 10,
      "metadata": {
        "id": "pmhKav4AXdce",
        "outputId": "bbca7f5f-c3bd-40c8-e810-ebafa9d513e9",
        "colab": {
          "base_uri": "https://localhost:8080/"
        }
      },
      "outputs": [
        {
          "output_type": "execute_result",
          "data": {
            "text/plain": [
              "2.49"
            ]
          },
          "metadata": {},
          "execution_count": 10
        }
      ],
      "source": [
        "9.99 - 7.5"
      ]
    },
    {
      "cell_type": "markdown",
      "metadata": {
        "id": "deV9upCXXdce"
      },
      "source": [
        "We can express that difference as a fraction of the London price, like this:"
      ]
    },
    {
      "cell_type": "code",
      "execution_count": 11,
      "metadata": {
        "id": "JaX9oy13Xdce",
        "outputId": "fcb05bda-93ea-413b-ffd7-637bc20d8339",
        "colab": {
          "base_uri": "https://localhost:8080/"
        }
      },
      "outputs": [
        {
          "output_type": "execute_result",
          "data": {
            "text/plain": [
              "0.332"
            ]
          },
          "metadata": {},
          "execution_count": 11
        }
      ],
      "source": [
        "(9.99 - 7.5) / 7.5"
      ]
    },
    {
      "cell_type": "markdown",
      "metadata": {
        "id": "10Jj2VyCXdce"
      },
      "source": [
        "Or as a *percentage* of the London price, like this:"
      ]
    },
    {
      "cell_type": "code",
      "execution_count": 12,
      "metadata": {
        "id": "4yShMXG-Xdce",
        "outputId": "4d94ee4a-6ce6-4799-c53a-891689e9a07f",
        "colab": {
          "base_uri": "https://localhost:8080/"
        }
      },
      "outputs": [
        {
          "output_type": "execute_result",
          "data": {
            "text/plain": [
              "33.2"
            ]
          },
          "metadata": {},
          "execution_count": 12
        }
      ],
      "source": [
        "(9.99 - 7.5) / 7.5 * 100"
      ]
    },
    {
      "cell_type": "markdown",
      "metadata": {
        "id": "084ETUyxXdce"
      },
      "source": [
        "So we might say that the lobster roll is 33% more expensive in Boston.\n",
        "But putting London in the denominator was an arbitrary choice.  We could also compute the difference as a percentage of the Boston price:"
      ]
    },
    {
      "cell_type": "code",
      "execution_count": 13,
      "metadata": {
        "id": "QhhN_54lXdce",
        "outputId": "dc78458d-24d1-4c0b-c4dd-9960574225ee",
        "colab": {
          "base_uri": "https://localhost:8080/"
        }
      },
      "outputs": [
        {
          "output_type": "execute_result",
          "data": {
            "text/plain": [
              "24.924924924924927"
            ]
          },
          "metadata": {},
          "execution_count": 13
        }
      ],
      "source": [
        "(9.99 - 7.5) / 9.99 * 100"
      ]
    },
    {
      "cell_type": "markdown",
      "metadata": {
        "id": "D_GefNIDXdcf"
      },
      "source": [
        "If we do that calculation, we might say the lobster roll is 25% cheaper in London.\n",
        "When you read this kind of comparison, you should make sure you understand which quantity is in the denominator, and you might want to think about why that choice was made.\n",
        "In this example, if you want to make the difference seem bigger, you might put London prices in the denominator.\n",
        "\n",
        "If we do the same calculation with the arrays `boston_price_array` and `boston_price_array`, we can compute the relative differences for all sandwiches:"
      ]
    },
    {
      "cell_type": "code",
      "execution_count": 14,
      "metadata": {
        "id": "gWJc13_NXdcf",
        "outputId": "90e83a68-90a1-4d4d-8919-8e1aaf567cfa",
        "colab": {
          "base_uri": "https://localhost:8080/"
        }
      },
      "outputs": [
        {
          "output_type": "execute_result",
          "data": {
            "text/plain": [
              "array([0.332     , 0.598     , 0.70227273, 0.4       , 0.67733333,\n",
              "       1.21777778])"
            ]
          },
          "metadata": {},
          "execution_count": 14
        }
      ],
      "source": [
        "differences = boston_price_array - london_price_array\n",
        "relative_differences = differences / london_price_array\n",
        "relative_differences"
      ]
    },
    {
      "cell_type": "markdown",
      "metadata": {
        "id": "zG7K2H8-Xdcf"
      },
      "source": [
        "And the percent differences."
      ]
    },
    {
      "cell_type": "code",
      "execution_count": 15,
      "metadata": {
        "id": "2bgFh5M9Xdcf",
        "outputId": "ad430239-6517-4ea4-e365-363428cd71bb",
        "colab": {
          "base_uri": "https://localhost:8080/"
        }
      },
      "outputs": [
        {
          "output_type": "execute_result",
          "data": {
            "text/plain": [
              "array([ 33.2       ,  59.8       ,  70.22727273,  40.        ,\n",
              "        67.73333333, 121.77777778])"
            ]
          },
          "metadata": {},
          "execution_count": 15
        }
      ],
      "source": [
        "percent_differences = relative_differences * 100\n",
        "percent_differences"
      ]
    },
    {
      "cell_type": "markdown",
      "metadata": {
        "id": "C3m6a6WTXdcf"
      },
      "source": [
        "## Summarizing Relative Differences\n",
        "\n",
        "Now let's think about how to summarize an array of percentage differences.\n",
        "One option is to report the range, which we can compute with `np.min` and `np.max`."
      ]
    },
    {
      "cell_type": "code",
      "execution_count": 16,
      "metadata": {
        "id": "M-oxhiQ1Xdcf",
        "outputId": "93d5e70d-7d81-429c-c1ed-c3a62f8135a9",
        "colab": {
          "base_uri": "https://localhost:8080/"
        }
      },
      "outputs": [
        {
          "output_type": "execute_result",
          "data": {
            "text/plain": [
              "(33.2, 121.77777777777779)"
            ]
          },
          "metadata": {},
          "execution_count": 16
        }
      ],
      "source": [
        "np.min(percent_differences), np.max(percent_differences)"
      ]
    },
    {
      "cell_type": "markdown",
      "metadata": {
        "id": "srcTemIsXdcf"
      },
      "source": [
        "The lobster roll is only 33% more expensive in Boston; the egg sandwich is 121% percent more (that is, more than twice the price)."
      ]
    },
    {
      "cell_type": "markdown",
      "metadata": {
        "id": "EYN9_LlAXdcf"
      },
      "source": [
        "**Exercise:** What are the percent differences if we put the Boston prices in the denominator?  What is the range of those differences?  Write a sentence that summarizes the results."
      ]
    },
    {
      "cell_type": "code",
      "execution_count": 17,
      "metadata": {
        "id": "crpu6A8kXdcg",
        "outputId": "ea6ef50d-0ac4-4b9d-8a9d-96bdb6c82c40",
        "colab": {
          "base_uri": "https://localhost:8080/"
        }
      },
      "outputs": [
        {
          "output_type": "execute_result",
          "data": {
            "text/plain": [
              "array([0.24924925, 0.37421777, 0.41255007, 0.28571429, 0.40381558,\n",
              "       0.5490982 ])"
            ]
          },
          "metadata": {},
          "execution_count": 17
        }
      ],
      "source": [
        "# Solution goes here\n",
        "differences = boston_price_array - london_price_array\n",
        "relative_differences = differences / boston_price_array\n",
        "relative_differences"
      ]
    },
    {
      "cell_type": "code",
      "execution_count": 19,
      "metadata": {
        "id": "SvMDwlMVXdcg",
        "outputId": "7a345ace-ebe3-4d4e-fdb0-ce6587c6151c",
        "colab": {
          "base_uri": "https://localhost:8080/"
        }
      },
      "outputs": [
        {
          "output_type": "execute_result",
          "data": {
            "text/plain": [
              "array([24.92492492, 37.42177722, 41.25500668, 28.57142857, 40.38155803,\n",
              "       54.90981964])"
            ]
          },
          "metadata": {},
          "execution_count": 19
        }
      ],
      "source": [
        "# Solution goes here\n",
        "percent_differences = relative_differences * 100\n",
        "percent_differences"
      ]
    },
    {
      "cell_type": "code",
      "execution_count": 20,
      "metadata": {
        "id": "A-yHjwywXdcg",
        "outputId": "8acc3ee1-f7b6-46d8-896b-b719c9d330a6",
        "colab": {
          "base_uri": "https://localhost:8080/"
        }
      },
      "outputs": [
        {
          "output_type": "execute_result",
          "data": {
            "text/plain": [
              "(24.924924924924927, 54.90981963927856)"
            ]
          },
          "metadata": {},
          "execution_count": 20
        }
      ],
      "source": [
        "# Solution goes here\n",
        "np.min(percent_differences), np.max(percent_differences)"
      ]
    },
    {
      "cell_type": "markdown",
      "metadata": {
        "id": "ipz8vvvhXdcg"
      },
      "source": [
        "Another way to summarize percentage differences is to report the mean."
      ]
    },
    {
      "cell_type": "code",
      "source": [
        "differences = boston_price_array - london_price_array\n",
        "relative_differences = differences / london_price_array\n",
        "percent_differences = relative_differences * 100\n",
        "percent_differences"
      ],
      "metadata": {
        "id": "XVxIiffE0xvR",
        "outputId": "6626dd8e-185e-4de8-d8cb-6d7865752f49",
        "colab": {
          "base_uri": "https://localhost:8080/"
        }
      },
      "execution_count": 26,
      "outputs": [
        {
          "output_type": "execute_result",
          "data": {
            "text/plain": [
              "array([ 33.2       ,  59.8       ,  70.22727273,  40.        ,\n",
              "        67.73333333, 121.77777778])"
            ]
          },
          "metadata": {},
          "execution_count": 26
        }
      ]
    },
    {
      "cell_type": "code",
      "execution_count": 27,
      "metadata": {
        "id": "6L4ZHLt5Xdcg",
        "outputId": "ca9e53b9-a102-42bc-901c-efdab9804a4c",
        "colab": {
          "base_uri": "https://localhost:8080/"
        }
      },
      "outputs": [
        {
          "output_type": "execute_result",
          "data": {
            "text/plain": [
              "65.4563973063973"
            ]
          },
          "metadata": {},
          "execution_count": 27
        }
      ],
      "source": [
        "np.mean(percent_differences)"
      ]
    },
    {
      "cell_type": "markdown",
      "metadata": {
        "id": "oNuc23F8Xdcg"
      },
      "source": [
        "So we might say, on average, sandwiches are 65% more expensive in Boston.\n",
        "But another way to summarize the data is to compute the mean price in each city, and then compute the percentage difference of the means:"
      ]
    },
    {
      "cell_type": "code",
      "execution_count": 28,
      "metadata": {
        "id": "ihkpcPxpXdcg",
        "outputId": "cde6a780-2e59-48ee-be72-3da0e975c0b6",
        "colab": {
          "base_uri": "https://localhost:8080/"
        }
      },
      "outputs": [
        {
          "output_type": "execute_result",
          "data": {
            "text/plain": [
              "56.81003584229393"
            ]
          },
          "metadata": {},
          "execution_count": 28
        }
      ],
      "source": [
        "boston_mean = np.mean(boston_price_array)\n",
        "london_mean = np.mean(london_price_array)\n",
        "\n",
        "(boston_mean - london_mean) / london_mean * 100"
      ]
    },
    {
      "cell_type": "markdown",
      "metadata": {
        "id": "yPMSyP9pXdcg"
      },
      "source": [
        "So we might say that the average sandwich price is 56% higher in Boston.\n",
        "As this example demonstrates:\n",
        "\n",
        "* With relative and percentage differences, the mean of the differences is not the same as the difference of the means.\n",
        "\n",
        "* When you report data like this, you should think about different ways to summarize the data.\n",
        "\n",
        "* When you read a summary of data like this, make sure you understand what summary was chosen and what it means.\n",
        "\n",
        "In this example, I think the second option (the relative difference in the means) is more meaningful, because it reflects the difference in price between \"baskets of goods\" that include one of each sandwich."
      ]
    },
    {
      "cell_type": "markdown",
      "metadata": {
        "id": "k783eraNXdcg"
      },
      "source": [
        "## Debugging\n",
        "\n",
        "So far, most of the exercises have only required a few lines of code.  If you made errors along the way, you probably found them quickly.\n",
        "\n",
        "As we go along, the exercises will be more substantial, and you may find yourself spending more time debugging.  Here are a couple of suggestions to help you find errors quickly -- and avoid them in the first place.\n",
        "\n",
        "* Most importantly, you should develop code incrementally; that is, you should write a small amount of code and test it.  If it works, add more code; otherwise, debug what you have.\n",
        "\n",
        "* Conversely, if you have written too much code, and you are having a hard time debugging it, split it into smaller chunks and debug them separately.\n",
        "\n",
        "For example, suppose you want to compute, for each sandwich in the sandwich list, the midpoint of the Boston and London prices.  As a first draft, you might write something like this:"
      ]
    },
    {
      "cell_type": "code",
      "execution_count": 29,
      "metadata": {
        "id": "HMxoIXfXXdcg",
        "outputId": "1be1ac0e-24d2-453d-b672-dbb2ee5518df",
        "colab": {
          "base_uri": "https://localhost:8080/"
        }
      },
      "outputs": [
        {
          "output_type": "execute_result",
          "data": {
            "text/plain": [
              "5.970833333333334"
            ]
          },
          "metadata": {},
          "execution_count": 29
        }
      ],
      "source": [
        "boston_price_list = [9.99, 7.99, 7.49, 7, 6.29, 4.99]\n",
        "london_price_list = [7.5, 5, 4.4, 5, 3.75, 2.25]\n",
        "\n",
        "midpoint_price = np.mean(boston_price_list + london_price_list)\n",
        "midpoint_price"
      ]
    },
    {
      "cell_type": "markdown",
      "metadata": {
        "id": "1-WAfFkmXdcg"
      },
      "source": [
        "This code runs, and it produces an answer, but the answer is a single number rather than the list we were expecting.\n",
        "\n",
        "You might have already spotted the error, but let's suppose you did not.\n",
        "To debug this code, I would start by splitting the computation into smaller steps and displaying the intermediate results.  For example, we might add the two lists and display the result, like this."
      ]
    },
    {
      "cell_type": "code",
      "execution_count": 30,
      "metadata": {
        "id": "Nax_OOLWXdch",
        "outputId": "66c30233-bf85-44db-d6fb-da08205ce1c7",
        "colab": {
          "base_uri": "https://localhost:8080/"
        }
      },
      "outputs": [
        {
          "output_type": "execute_result",
          "data": {
            "text/plain": [
              "[9.99, 7.99, 7.49, 7, 6.29, 4.99, 7.5, 5, 4.4, 5, 3.75, 2.25]"
            ]
          },
          "metadata": {},
          "execution_count": 30
        }
      ],
      "source": [
        "total_price = boston_price_list + london_price_list\n",
        "total_price"
      ]
    },
    {
      "cell_type": "markdown",
      "metadata": {
        "id": "ssw794TpXdch"
      },
      "source": [
        "Looking at the result, we see that it did not add the sandwich prices elementwise, as we intended.  Because the arguments are lists, the `+` operator concatenates them rather than adding the elements.\n",
        "\n",
        "We can solve this problem by converting the lists to arrays."
      ]
    },
    {
      "cell_type": "code",
      "execution_count": 31,
      "metadata": {
        "id": "qQH5_q6KXdch",
        "outputId": "ea438305-ecba-445e-bf85-45b038ca441e",
        "colab": {
          "base_uri": "https://localhost:8080/"
        }
      },
      "outputs": [
        {
          "output_type": "execute_result",
          "data": {
            "text/plain": [
              "array([17.49, 12.99, 11.89, 12.  , 10.04,  7.24])"
            ]
          },
          "metadata": {},
          "execution_count": 31
        }
      ],
      "source": [
        "boston_price_array = np.array(boston_price_list)\n",
        "london_price_array = np.array(london_price_list)\n",
        "\n",
        "total_price_array = boston_price_array + london_price_array\n",
        "total_price_array"
      ]
    },
    {
      "cell_type": "markdown",
      "metadata": {
        "id": "8sfhLj98Xdch"
      },
      "source": [
        "And then computing the midpoint of each pair of prices, like this:"
      ]
    },
    {
      "cell_type": "code",
      "execution_count": 32,
      "metadata": {
        "id": "dr7vmoeVXdch",
        "outputId": "268632d4-7663-4283-e6f9-a3539a95f138",
        "colab": {
          "base_uri": "https://localhost:8080/"
        }
      },
      "outputs": [
        {
          "output_type": "execute_result",
          "data": {
            "text/plain": [
              "array([8.745, 6.495, 5.945, 6.   , 5.02 , 3.62 ])"
            ]
          },
          "metadata": {},
          "execution_count": 32
        }
      ],
      "source": [
        "midpoint_price_array = total_price_array / 2\n",
        "midpoint_price_array"
      ]
    },
    {
      "cell_type": "markdown",
      "metadata": {
        "id": "xA5LYzrXXdch"
      },
      "source": [
        "As you gain experience, you will be able to write bigger chunks of code before testing.  But while you are getting started, keep it simple!\n",
        "As a general rule, each line of code should perform a small number of operations, and each cell should contain a small number of statements.  When you are getting started, this number should be one."
      ]
    },
    {
      "cell_type": "markdown",
      "metadata": {
        "id": "q63QraI9Xdch"
      },
      "source": [
        "## Summary\n",
        "\n",
        "This chapter presents three ways to represent a sequence of values: tuples, list, and Numpy arrays. Working with data, we will primarily use arrays.\n",
        "\n",
        "It also introduces three ways to represent differences: absolute, relative, and percentage; and several ways to summarize a set of values: minimum, maximum, mean, and standard deviation.\n",
        "\n",
        "In the next chapter we'll start working with data files, and we'll use loops to process letters and words."
      ]
    },
    {
      "cell_type": "markdown",
      "metadata": {
        "tags": [],
        "id": "UWX3h0UhXdch"
      },
      "source": [
        "*Elements of Data Science*\n",
        "\n",
        "Copyright 2021 [Allen B. Downey](https://allendowney.com)\n",
        "\n",
        "License: [Creative Commons Attribution-NonCommercial-ShareAlike 4.0 International](https://creativecommons.org/licenses/by-nc-sa/4.0/)"
      ]
    },
    {
      "cell_type": "markdown",
      "source": [
        "*That's the end of this notebook!! Great thanks to Allen for this fine tutorial series!!*"
      ],
      "metadata": {
        "id": "tIVPUHPW2FgX"
      }
    },
    {
      "cell_type": "code",
      "source": [
        "print(f\"\"\"Sirach 2:9\n",
        "All you who fear the Lord look forward to His blessings of mercy and eternal happiness.\"\"\")"
      ],
      "metadata": {
        "id": "tu2uCeYZ2KKI",
        "outputId": "d8f1859b-dfe2-4135-f846-f36a85b7436a",
        "colab": {
          "base_uri": "https://localhost:8080/"
        }
      },
      "execution_count": 33,
      "outputs": [
        {
          "output_type": "stream",
          "name": "stdout",
          "text": [
            "Sirach 2:9\n",
            "All you who fear the Lord look forward to His blessings of mercy and eternal happiness.\n"
          ]
        }
      ]
    }
  ],
  "metadata": {
    "celltoolbar": "Tags",
    "kernelspec": {
      "display_name": "Python 3 (ipykernel)",
      "language": "python",
      "name": "python3"
    },
    "language_info": {
      "codemirror_mode": {
        "name": "ipython",
        "version": 3
      },
      "file_extension": ".py",
      "mimetype": "text/x-python",
      "name": "python",
      "nbconvert_exporter": "python",
      "pygments_lexer": "ipython3",
      "version": "3.8.16"
    },
    "colab": {
      "provenance": []
    }
  },
  "nbformat": 4,
  "nbformat_minor": 0
}