{
  "cells": [
    {
      "cell_type": "markdown",
      "metadata": {
        "id": "a1H1H60p99fH"
      },
      "source": [
        "# Variables and Values"
      ]
    },
    {
      "cell_type": "markdown",
      "metadata": {
        "tags": [],
        "id": "5n1fZhq199fL"
      },
      "source": [
        "[Run this notebook on Colab](https://colab.research.google.com/github/AllenDowney/ElementsOfDataScience/blob/master/01_variables.ipynb) or  \n",
        "[Run this notebook on Sagemaker Studio Lab](https://studiolab.sagemaker.aws/import/github/AllenDowney/ElementsOfDataScience/blob/master/01_variables.ipynb) or  \n",
        "[Download this notebook](https://github.com/AllenDowney/ElementsOfDataScience/raw/master/01_variables.ipynb)."
      ]
    },
    {
      "cell_type": "markdown",
      "metadata": {
        "id": "rj1lnmLj99fL"
      },
      "source": [
        "Data science is the use of data to answers questions and guide decision making.\n",
        "For example, a topic of current debate is whether we should raise the minimum wage in the United States.\n",
        "Some economists think that raising the minimum wage would raise families out of poverty; others think it would cause more unemployment.\n",
        "But economic theory can only take us so far.\n",
        "At some point, we need data.\n",
        "\n",
        "A successful data science project requires three elements:\n",
        "\n",
        "* A question: For example, what is the relationship between the minimum wage and unemployment?\n",
        "\n",
        "* Data: To answer this question, the best data would be results from a well designed experiment.  But if we can't get ideal data, we have to work with what we can get.\n",
        "\n",
        "* Methods: With the right data, simple methods are often enough to find answers and present them clearly.  But sometimes we need more specialized tools.\n",
        "\n",
        "In an ideal world, we would pose a question, find data, and choose the appropriate methods, in that order.\n",
        "More often, the process is iterative.  We might start with one question, get stuck, and pivot to a different question.\n",
        "Or we might explore a new dataset and discover the questions it can answer.\n",
        "Or we might start with a tool and look for problems it can solve.\n",
        "Most data science projects require flexibility and persistence."
      ]
    },
    {
      "cell_type": "markdown",
      "metadata": {
        "id": "de_uq4hm99fM"
      },
      "source": [
        "The goal of this book is to give you the tools you need to execute a data science project from beginning to end, including these steps:\n",
        "\n",
        "* Choosing questions, data, and methods that go together.\n",
        "\n",
        "* Finding data or collecting it yourself.\n",
        "\n",
        "* Cleaning and validating data.\n",
        "\n",
        "* Exploring datasets, visualizing distributions and relationships between variables.\n",
        "\n",
        "* Modeling data and generating predictions.\n",
        "\n",
        "* Designing data visualizations that tell a compelling story.\n",
        "\n",
        "* Communicating results effectively."
      ]
    },
    {
      "cell_type": "markdown",
      "metadata": {
        "id": "prCtXkER99fM"
      },
      "source": [
        "We'll start with basic programming concepts and work our way toward data science tools.\n",
        "\n",
        "I won't assume that you already know about programming, statistics, or data science. When I use a term, I try to define it immediately, and when I use a programming feature, I try to explain it clearly.\n",
        "\n",
        "This book is in the form of Jupyter notebooks. Jupyter is a software development tool you can run in a web browser, so you don't have to install any software. A Jupyter notebook is a document that contains text, Python code, and results. So you can read it like a book, but you can also modify the code, run it, develop new programs, and test them.\n",
        "\n",
        "The notebooks contain exercises where you can practice what you learn. I encourage you to do the exercises as you go along."
      ]
    },
    {
      "cell_type": "markdown",
      "metadata": {
        "id": "852PH_Qn99fN"
      },
      "source": [
        "The topics in this chapter are:\n",
        "\n",
        "* Using Jupyter to write and run Python code.\n",
        "\n",
        "* Basic programming features in Python: variables and values.\n",
        "\n",
        "* Translating formulas from math notation to Python.\n",
        "\n",
        "Along the way, we'll review a couple of math topics I assume you have seen before, logarithms and algebra."
      ]
    },
    {
      "cell_type": "markdown",
      "metadata": {
        "tags": [],
        "id": "309oXpXh99fN"
      },
      "source": [
        "## Jupyter\n",
        "\n",
        "Jupyter is a software development environment, which means you can use it to write and run programs in Python and other programming languages.\n",
        "\n",
        "A Jupyter notebook is made up of cells, where each cell contains either text or code you can run."
      ]
    },
    {
      "cell_type": "markdown",
      "metadata": {
        "tags": [],
        "id": "tCESYF1799fN"
      },
      "source": [
        "If you are running this notebook on Colab, you should see buttons in the top left that say \"+ Code\" and \"+ Text\".  The first one adds code cell and the second adds a text cell.\n",
        "\n",
        "If you want to try them out, select this cell by clicking on it, then press the \"+ Text\" button.  A new cell should appear below this one.\n",
        "\n",
        "Add some text to the cell.  You can use the buttons to format it, or you can mark up the text using [Markdown](https://www.markdownguide.org/basic-syntax/).  When you are done, hold down Shift and press Enter, which will format the text you just typed and then move to the next cell.\n",
        "\n",
        "If you select a Code cell, you should see a button on the left with a triangle inside a circle, which is the icon for \"Play\".  If you press this button, Jupyter runs the code in the cell and displays the results.\n",
        "\n",
        "When you run code in a notebook for the first time, you might get a message warning you about the things a notebook can do.  If you are running a notebook from a source you trust, which I hope includes me, you can press \"Run Anyway\".\n",
        "\n",
        "Instead of clicking the \"Play\" button, you can also run the code in a cell by holding down Shift and pressing Enter."
      ]
    },
    {
      "cell_type": "markdown",
      "metadata": {
        "id": "5w1YwBVi99fO"
      },
      "source": [
        "## Numbers\n",
        "\n",
        "Python provides tools for working with many kinds of data, including numbers, words, dates, times, and locations (latitude and longitude).\n",
        "\n",
        "Let's start with numbers.  Python can work with several types of numbers, but the two most common are:\n",
        "\n",
        "* `int`, which represents integer values like `3`, and\n",
        "\n",
        "* `float`, which represents numbers that have a fraction part, like `3.14159`.\n",
        "\n",
        "Most often, we use `int` to represent counts and `float` to represent measurements.\n",
        "Here's an example of an `int` and a `float`:"
      ]
    },
    {
      "cell_type": "code",
      "execution_count": 1,
      "metadata": {
        "id": "k68saiKF99fO",
        "colab": {
          "base_uri": "https://localhost:8080/"
        },
        "outputId": "80a60ee0-e8b8-4405-a463-29f6372ed684"
      },
      "outputs": [
        {
          "output_type": "execute_result",
          "data": {
            "text/plain": [
              "3"
            ]
          },
          "metadata": {},
          "execution_count": 1
        }
      ],
      "source": [
        "3"
      ]
    },
    {
      "cell_type": "code",
      "execution_count": 2,
      "metadata": {
        "id": "BBNR5ydW99fP",
        "colab": {
          "base_uri": "https://localhost:8080/"
        },
        "outputId": "eaa3fcf4-d980-41af-ade7-03b72202c3aa"
      },
      "outputs": [
        {
          "output_type": "execute_result",
          "data": {
            "text/plain": [
              "3.14159"
            ]
          },
          "metadata": {},
          "execution_count": 2
        }
      ],
      "source": [
        "3.14159"
      ]
    },
    {
      "cell_type": "markdown",
      "metadata": {
        "id": "E6BQ-Oss99fP"
      },
      "source": [
        " `float` is short for \"floating-point\", which is the name for the way these numbers are stored."
      ]
    },
    {
      "cell_type": "markdown",
      "metadata": {
        "tags": [],
        "id": "V8DTz8Oj99fQ"
      },
      "source": [
        "**Exercise:** Create a code cell below this one and type in the following number:  `1.2345e3`\n",
        "\n",
        "Then run the cell.  The output should be `1234.5`\n",
        "\n",
        "The `e` in `1.2345e3` stands for \"exponent\".  This way of writing numbers is a version of scientific notation that means $1.2345 \\times 10^{3}$.  If you are not familiar with scientific notation, you can read about it at <https://en.wikipedia.org/wiki/Scientific_notation>."
      ]
    },
    {
      "cell_type": "code",
      "source": [
        "1.2345e3"
      ],
      "metadata": {
        "colab": {
          "base_uri": "https://localhost:8080/"
        },
        "id": "lb1Z7wBuBfIT",
        "outputId": "5a70a72d-6fcf-48fe-bb4c-c21cd6c567a6"
      },
      "execution_count": 3,
      "outputs": [
        {
          "output_type": "execute_result",
          "data": {
            "text/plain": [
              "1234.5"
            ]
          },
          "metadata": {},
          "execution_count": 3
        }
      ]
    },
    {
      "cell_type": "code",
      "source": [
        "## 1.234e3 is equivalent to\n",
        "1.2345 * 1000"
      ],
      "metadata": {
        "colab": {
          "base_uri": "https://localhost:8080/"
        },
        "id": "0b3h3BaqBmJr",
        "outputId": "4666c4bf-bdf9-414b-9068-e9671f8939de"
      },
      "execution_count": 5,
      "outputs": [
        {
          "output_type": "execute_result",
          "data": {
            "text/plain": [
              "1234.5"
            ]
          },
          "metadata": {},
          "execution_count": 5
        }
      ]
    },
    {
      "cell_type": "markdown",
      "metadata": {
        "id": "lXY9vfIH99fQ"
      },
      "source": [
        "## Arithmetic\n",
        "\n",
        "Python provides operators that perform arithmetic.  The operators that perform addition and subtraction are `+` and `-`:"
      ]
    },
    {
      "cell_type": "code",
      "execution_count": 6,
      "metadata": {
        "id": "zBvPBeG699fQ",
        "colab": {
          "base_uri": "https://localhost:8080/"
        },
        "outputId": "8e307983-e198-464e-da1a-692a5545c205"
      },
      "outputs": [
        {
          "output_type": "execute_result",
          "data": {
            "text/plain": [
              "4"
            ]
          },
          "metadata": {},
          "execution_count": 6
        }
      ],
      "source": [
        "3 + 2 - 1"
      ]
    },
    {
      "cell_type": "markdown",
      "metadata": {
        "id": "pCzmQXQ499fQ"
      },
      "source": [
        "The operators that perform multiplication and division are `*` and `/`:"
      ]
    },
    {
      "cell_type": "code",
      "execution_count": 9,
      "metadata": {
        "id": "lWRGnSPV99fQ",
        "colab": {
          "base_uri": "https://localhost:8080/"
        },
        "outputId": "57c25154-d439-4a75-c80b-affeb9ed0285"
      },
      "outputs": [
        {
          "output_type": "execute_result",
          "data": {
            "text/plain": [
              "6"
            ]
          },
          "metadata": {},
          "execution_count": 9
        }
      ],
      "source": [
        "2 * 3"
      ]
    },
    {
      "cell_type": "code",
      "execution_count": 8,
      "metadata": {
        "id": "WDdqXJbJ99fQ",
        "colab": {
          "base_uri": "https://localhost:8080/"
        },
        "outputId": "0b1dc73e-2a0a-4be4-93dc-ae5259115c4d"
      },
      "outputs": [
        {
          "output_type": "execute_result",
          "data": {
            "text/plain": [
              "0.6666666666666666"
            ]
          },
          "metadata": {},
          "execution_count": 8
        }
      ],
      "source": [
        "2 / 3"
      ]
    },
    {
      "cell_type": "markdown",
      "metadata": {
        "id": "eGL8ZxEf99fQ"
      },
      "source": [
        "And the operator for exponentiation is `**`:"
      ]
    },
    {
      "cell_type": "code",
      "execution_count": 10,
      "metadata": {
        "id": "k8A_Eizm99fR",
        "colab": {
          "base_uri": "https://localhost:8080/"
        },
        "outputId": "9bf73956-0fca-4a04-d59b-daf234a7e71d"
      },
      "outputs": [
        {
          "output_type": "execute_result",
          "data": {
            "text/plain": [
              "8"
            ]
          },
          "metadata": {},
          "execution_count": 10
        }
      ],
      "source": [
        "2**3"
      ]
    },
    {
      "cell_type": "markdown",
      "metadata": {
        "id": "2voTi9ZV99fR"
      },
      "source": [
        "Unlike math notation, Python does not allow \"implicit multiplication\".  For example, in math notation, if you write $3 (2 + 1)$, that's understood to be the same as $3 \\times (2+ 1)$.\n",
        "Python does not allow that notation.\n",
        "If you want to multiply, you have to use the `*` operator."
      ]
    },
    {
      "cell_type": "markdown",
      "metadata": {
        "tags": [],
        "id": "j-OZxWPF99fR"
      },
      "source": [
        "Try running this code to see what error you get.\n",
        "\n",
        "```\n",
        "3 (2 + 1)\n",
        "```\n",
        "\n",
        "In this example, the error message is not very helpful, which is why I am warning you now."
      ]
    },
    {
      "cell_type": "code",
      "execution_count": 11,
      "metadata": {
        "tags": [],
        "id": "pIv0V82U99fR",
        "colab": {
          "base_uri": "https://localhost:8080/",
          "height": 251
        },
        "outputId": "b33b3f34-e308-4268-9603-99fdae7c9ee2"
      },
      "outputs": [
        {
          "output_type": "stream",
          "name": "stderr",
          "text": [
            "<>:1: SyntaxWarning: 'int' object is not callable; perhaps you missed a comma?\n",
            "<>:1: SyntaxWarning: 'int' object is not callable; perhaps you missed a comma?\n",
            "<ipython-input-11-ceee55b82fb3>:1: SyntaxWarning: 'int' object is not callable; perhaps you missed a comma?\n",
            "  3 (2 + 1)\n"
          ]
        },
        {
          "output_type": "error",
          "ename": "TypeError",
          "evalue": "'int' object is not callable",
          "traceback": [
            "\u001b[0;31m---------------------------------------------------------------------------\u001b[0m",
            "\u001b[0;31mTypeError\u001b[0m                                 Traceback (most recent call last)",
            "\u001b[0;32m<ipython-input-11-ceee55b82fb3>\u001b[0m in \u001b[0;36m<cell line: 1>\u001b[0;34m()\u001b[0m\n\u001b[0;32m----> 1\u001b[0;31m \u001b[0;36m3\u001b[0m \u001b[0;34m(\u001b[0m\u001b[0;36m2\u001b[0m \u001b[0;34m+\u001b[0m \u001b[0;36m1\u001b[0m\u001b[0;34m)\u001b[0m\u001b[0;34m\u001b[0m\u001b[0;34m\u001b[0m\u001b[0m\n\u001b[0m",
            "\u001b[0;31mTypeError\u001b[0m: 'int' object is not callable"
          ]
        }
      ],
      "source": [
        "3 (2 + 1)"
      ]
    },
    {
      "cell_type": "markdown",
      "metadata": {
        "id": "MDJ6iusk99fR"
      },
      "source": [
        "The arithmetic operators follow the rules of precedence you might have learned as \"PEMDAS\":\n",
        "\n",
        "* Parentheses before\n",
        "* Exponentiation before\n",
        "* Multiplication and division before\n",
        "* Addition and subtraction.\n",
        "\n",
        "So in this expression:"
      ]
    },
    {
      "cell_type": "code",
      "execution_count": 12,
      "metadata": {
        "id": "_MxBIoHC99fR",
        "colab": {
          "base_uri": "https://localhost:8080/"
        },
        "outputId": "c7352785-e8eb-4564-fb1e-082a29de81ec"
      },
      "outputs": [
        {
          "output_type": "execute_result",
          "data": {
            "text/plain": [
              "7"
            ]
          },
          "metadata": {},
          "execution_count": 12
        }
      ],
      "source": [
        "1 + 2 * 3"
      ]
    },
    {
      "cell_type": "markdown",
      "metadata": {
        "id": "AhTQ716A99fR"
      },
      "source": [
        "The multiplication happens first.  If that's not what you want, you can use parentheses to make the order of operations explicit:"
      ]
    },
    {
      "cell_type": "code",
      "execution_count": 13,
      "metadata": {
        "id": "nlOYzBeR99fR",
        "colab": {
          "base_uri": "https://localhost:8080/"
        },
        "outputId": "7a6a4f0c-b37f-4c84-f4d4-9db51ab9e992"
      },
      "outputs": [
        {
          "output_type": "execute_result",
          "data": {
            "text/plain": [
              "9"
            ]
          },
          "metadata": {},
          "execution_count": 13
        }
      ],
      "source": [
        "(1 + 2) * 3"
      ]
    },
    {
      "cell_type": "markdown",
      "metadata": {
        "id": "Tsy1aG9e99fS"
      },
      "source": [
        "**Exercise:** Write a Python expression that raises `1+2` to the power `3*4`.  The answer should be `531441`."
      ]
    },
    {
      "cell_type": "code",
      "source": [
        "(1+2)**(3*4)"
      ],
      "metadata": {
        "colab": {
          "base_uri": "https://localhost:8080/"
        },
        "id": "u2nAWqk7CInT",
        "outputId": "5e7527a0-8f8e-40c7-d50a-f61f0f78d255"
      },
      "execution_count": 14,
      "outputs": [
        {
          "output_type": "execute_result",
          "data": {
            "text/plain": [
              "531441"
            ]
          },
          "metadata": {},
          "execution_count": 14
        }
      ]
    },
    {
      "cell_type": "markdown",
      "metadata": {
        "tags": [],
        "id": "NIZwhXCx99fS"
      },
      "source": [
        "Note: in the cell below, it should say\n",
        "\n",
        "```\n",
        "# Solution goes here\n",
        "```\n",
        "\n",
        "Lines like this that begin with `#` are \"comments\"; they provide information, but they have no effect when the program runs.\n",
        "\n",
        "When you do this exercise, you should delete the comment and replace it with your solution."
      ]
    },
    {
      "cell_type": "code",
      "execution_count": null,
      "metadata": {
        "id": "iBtlMl7s99fS"
      },
      "outputs": [],
      "source": [
        "# Solution goes here"
      ]
    },
    {
      "cell_type": "markdown",
      "metadata": {
        "id": "N2-N12sg99fS"
      },
      "source": [
        "## Math Functions\n",
        "\n",
        "Python provides functions that compute all the usual mathematical functions, like `sin` and `cos`, `exp` and `log`.\n",
        "However, they are not part of Python itself; they are in a **library**, which is a collection of functions that supplement the Python language.\n",
        "\n",
        "Actually, there are several libraries that provide math functions; the one we'll use is called NumPy, which stands for \"Numerical Python\", and is pronounced \"num pie\".\n",
        "Before you can use a library, you have to **import** it.  Here's how we import NumPy:  "
      ]
    },
    {
      "cell_type": "code",
      "execution_count": 15,
      "metadata": {
        "id": "G2pqMGr199fS"
      },
      "outputs": [],
      "source": [
        "import numpy as np"
      ]
    },
    {
      "cell_type": "markdown",
      "metadata": {
        "id": "h2u359vb99fS"
      },
      "source": [
        "It is conventional to import `numpy` as `np`, which means we can refer to it by the short name `np` rather than the longer name `numpy`.\n",
        "Names like this are case-sensitive, which means that `numpy` is not the same as `NumPy`.  So even though the name of the library is NumPy, when we import it we have to call it `numpy`.  "
      ]
    },
    {
      "cell_type": "markdown",
      "metadata": {
        "tags": [],
        "id": "CguEJcYh99fT"
      },
      "source": [
        "If you run this code in the following cell, you should get an error:\n",
        "\n",
        "```\n",
        "import NumPy as np\n",
        "```"
      ]
    },
    {
      "cell_type": "code",
      "execution_count": 16,
      "metadata": {
        "tags": [],
        "id": "5I3dhxo-99fT",
        "colab": {
          "base_uri": "https://localhost:8080/",
          "height": 323
        },
        "outputId": "dbe84cdb-2d83-43b3-9867-05d51acf229b"
      },
      "outputs": [
        {
          "output_type": "error",
          "ename": "ModuleNotFoundError",
          "evalue": "No module named 'NumPy'",
          "traceback": [
            "\u001b[0;31m---------------------------------------------------------------------------\u001b[0m",
            "\u001b[0;31mModuleNotFoundError\u001b[0m                       Traceback (most recent call last)",
            "\u001b[0;32m<ipython-input-16-ec0b775bee05>\u001b[0m in \u001b[0;36m<cell line: 1>\u001b[0;34m()\u001b[0m\n\u001b[0;32m----> 1\u001b[0;31m \u001b[0;32mimport\u001b[0m \u001b[0mNumPy\u001b[0m \u001b[0;32mas\u001b[0m \u001b[0mnp\u001b[0m\u001b[0;34m\u001b[0m\u001b[0;34m\u001b[0m\u001b[0m\n\u001b[0m",
            "\u001b[0;31mModuleNotFoundError\u001b[0m: No module named 'NumPy'",
            "",
            "\u001b[0;31m---------------------------------------------------------------------------\u001b[0;32m\nNOTE: If your import is failing due to a missing package, you can\nmanually install dependencies using either !pip or !apt.\n\nTo view examples of installing some common dependencies, click the\n\"Open Examples\" button below.\n\u001b[0;31m---------------------------------------------------------------------------\u001b[0m\n"
          ],
          "errorDetails": {
            "actions": [
              {
                "action": "open_url",
                "actionText": "Open Examples",
                "url": "/notebooks/snippets/importing_libraries.ipynb"
              }
            ]
          }
        }
      ],
      "source": [
        "import NumPy as np"
      ]
    },
    {
      "cell_type": "markdown",
      "metadata": {
        "id": "HkPcu3VI99fT"
      },
      "source": [
        "But assuming we import `np` correctly, we can use it to read the value `pi`, which is an approximation of the mathematical constant $\\pi$."
      ]
    },
    {
      "cell_type": "code",
      "execution_count": 17,
      "metadata": {
        "id": "_Vqikvp_99fT",
        "colab": {
          "base_uri": "https://localhost:8080/"
        },
        "outputId": "6f5a7c5e-5247-416d-f4bc-67f44a1dcf43"
      },
      "outputs": [
        {
          "output_type": "execute_result",
          "data": {
            "text/plain": [
              "3.141592653589793"
            ]
          },
          "metadata": {},
          "execution_count": 17
        }
      ],
      "source": [
        "np.pi"
      ]
    },
    {
      "cell_type": "markdown",
      "metadata": {
        "id": "6PnvcNSC99fT"
      },
      "source": [
        "The result is a `float` with 16 digits.  As you might know, we can't represent $\\pi$ with a finite number of digits, so this result is only approximate.\n",
        "\n",
        "NumPy provides `log`, which computes the natural logarithm"
      ]
    },
    {
      "cell_type": "code",
      "execution_count": 18,
      "metadata": {
        "id": "jkK3E9U099fT",
        "colab": {
          "base_uri": "https://localhost:8080/"
        },
        "outputId": "b1557437-ceaa-4999-cc94-9e4926e857c3"
      },
      "outputs": [
        {
          "output_type": "execute_result",
          "data": {
            "text/plain": [
              "4.605170185988092"
            ]
          },
          "metadata": {},
          "execution_count": 18
        }
      ],
      "source": [
        "np.log(100)"
      ]
    },
    {
      "cell_type": "markdown",
      "metadata": {
        "id": "WtQYKD6f99fa"
      },
      "source": [
        "NumPy also provides `exp`, which raises the constant `e` to a power."
      ]
    },
    {
      "cell_type": "code",
      "execution_count": 19,
      "metadata": {
        "id": "S4vPTADT99fb",
        "colab": {
          "base_uri": "https://localhost:8080/"
        },
        "outputId": "cce47b0f-06f2-429d-9752-7a912a51bc8f"
      },
      "outputs": [
        {
          "output_type": "execute_result",
          "data": {
            "text/plain": [
              "2.718281828459045"
            ]
          },
          "metadata": {},
          "execution_count": 19
        }
      ],
      "source": [
        "np.exp(1)"
      ]
    },
    {
      "cell_type": "markdown",
      "metadata": {
        "id": "7zCIbyk999fb"
      },
      "source": [
        "**Exercise:** Use these functions to confirm the mathematical identity $\\log(e^x) = x$, which should be true for any value of $x$.\n",
        "\n",
        "With floating-point values, this identity should work for values of $x$ between -700 and 700.  What happens when you try it with larger and smaller values?"
      ]
    },
    {
      "cell_type": "code",
      "execution_count": 20,
      "metadata": {
        "id": "ZeqsowjF99fb",
        "colab": {
          "base_uri": "https://localhost:8080/"
        },
        "outputId": "d09b238f-c938-4093-84a0-42d16a1ae99f"
      },
      "outputs": [
        {
          "output_type": "execute_result",
          "data": {
            "text/plain": [
              "-700.0"
            ]
          },
          "metadata": {},
          "execution_count": 20
        }
      ],
      "source": [
        "# Solution goes here\n",
        "np.log(np.exp(-700))"
      ]
    },
    {
      "cell_type": "code",
      "source": [
        "np.log(np.exp(700))"
      ],
      "metadata": {
        "colab": {
          "base_uri": "https://localhost:8080/"
        },
        "id": "9FIAYuEUDB0j",
        "outputId": "1b7abb50-364a-4cc9-d866-abccc732d2c3"
      },
      "execution_count": 21,
      "outputs": [
        {
          "output_type": "execute_result",
          "data": {
            "text/plain": [
              "700.0"
            ]
          },
          "metadata": {},
          "execution_count": 21
        }
      ]
    },
    {
      "cell_type": "code",
      "source": [
        "np.log(np.exp(456))"
      ],
      "metadata": {
        "colab": {
          "base_uri": "https://localhost:8080/"
        },
        "id": "RFgbNb46DDmK",
        "outputId": "8bbb6c66-f6c4-4a74-8200-31621e8e3dc4"
      },
      "execution_count": 22,
      "outputs": [
        {
          "output_type": "execute_result",
          "data": {
            "text/plain": [
              "456.0"
            ]
          },
          "metadata": {},
          "execution_count": 22
        }
      ]
    },
    {
      "cell_type": "code",
      "source": [
        "np.log(np.exp(-123))"
      ],
      "metadata": {
        "colab": {
          "base_uri": "https://localhost:8080/"
        },
        "id": "QnxyL2sDDGCa",
        "outputId": "b08f1bb2-c287-4efb-a495-86b8fc71a9b5"
      },
      "execution_count": 23,
      "outputs": [
        {
          "output_type": "execute_result",
          "data": {
            "text/plain": [
              "-123.0"
            ]
          },
          "metadata": {},
          "execution_count": 23
        }
      ]
    },
    {
      "cell_type": "code",
      "source": [
        "np.log(np.exp(-891))"
      ],
      "metadata": {
        "colab": {
          "base_uri": "https://localhost:8080/"
        },
        "id": "ljsdv5N2DIOL",
        "outputId": "41118a2d-1447-477c-90ba-4b9d3d22a767"
      },
      "execution_count": 24,
      "outputs": [
        {
          "output_type": "stream",
          "name": "stderr",
          "text": [
            "<ipython-input-24-16cfb9fad0b2>:1: RuntimeWarning: divide by zero encountered in log\n",
            "  np.log(np.exp(-891))\n"
          ]
        },
        {
          "output_type": "execute_result",
          "data": {
            "text/plain": [
              "-inf"
            ]
          },
          "metadata": {},
          "execution_count": 24
        }
      ]
    },
    {
      "cell_type": "markdown",
      "metadata": {
        "id": "4MPyUV9l99fb"
      },
      "source": [
        "As this example shows, floating-point numbers are finite approximations, which means they don't always behave like math.\n",
        "\n",
        "As another example, let's see what happens when you add up `0.1` three times:"
      ]
    },
    {
      "cell_type": "code",
      "execution_count": 25,
      "metadata": {
        "id": "fhujhpQm99fb",
        "colab": {
          "base_uri": "https://localhost:8080/"
        },
        "outputId": "e9fc1e12-905a-4a1a-d44c-89dce02c8d59"
      },
      "outputs": [
        {
          "output_type": "execute_result",
          "data": {
            "text/plain": [
              "0.30000000000000004"
            ]
          },
          "metadata": {},
          "execution_count": 25
        }
      ],
      "source": [
        "0.1 + 0.1 + 0.1"
      ]
    },
    {
      "cell_type": "markdown",
      "metadata": {
        "id": "o-m8M0-j99fb"
      },
      "source": [
        "The result is close to `0.3`, but not exact.\n",
        "We'll see other examples of floating-point approximation later, and learn some ways to deal with it."
      ]
    },
    {
      "cell_type": "markdown",
      "metadata": {
        "id": "jBTm_bwY99fc"
      },
      "source": [
        "## Variables\n",
        "\n",
        "A **variable** is a name that refers to a value.\n",
        "The following statement assigns the value `5` to a variable named `x`:"
      ]
    },
    {
      "cell_type": "code",
      "execution_count": 26,
      "metadata": {
        "id": "oPQVXA1N99fc"
      },
      "outputs": [],
      "source": [
        "x = 5"
      ]
    },
    {
      "cell_type": "markdown",
      "metadata": {
        "id": "qgdx0Xnz99fc"
      },
      "source": [
        "The variable we just created has the name `x` and the value `5`."
      ]
    },
    {
      "cell_type": "markdown",
      "metadata": {
        "tags": [],
        "id": "FpS0elT399fc"
      },
      "source": [
        "If a variable name appears at the end of a cell, Jupyter displays its value."
      ]
    },
    {
      "cell_type": "code",
      "execution_count": 27,
      "metadata": {
        "tags": [],
        "id": "QvJkGSCg99fc",
        "colab": {
          "base_uri": "https://localhost:8080/"
        },
        "outputId": "46f28a00-e0b2-49fe-acb4-798c2eaea886"
      },
      "outputs": [
        {
          "output_type": "execute_result",
          "data": {
            "text/plain": [
              "5"
            ]
          },
          "metadata": {},
          "execution_count": 27
        }
      ],
      "source": [
        "x"
      ]
    },
    {
      "cell_type": "markdown",
      "metadata": {
        "id": "LOY4D_xc99fc"
      },
      "source": [
        "If we use `x` as part of an arithmetic operation, it represents the value `5`:"
      ]
    },
    {
      "cell_type": "code",
      "execution_count": 28,
      "metadata": {
        "id": "PzEXJRFE99fc",
        "colab": {
          "base_uri": "https://localhost:8080/"
        },
        "outputId": "8fb47803-0c38-4ab5-97a4-fb66522f6d2e"
      },
      "outputs": [
        {
          "output_type": "execute_result",
          "data": {
            "text/plain": [
              "6"
            ]
          },
          "metadata": {},
          "execution_count": 28
        }
      ],
      "source": [
        "x + 1"
      ]
    },
    {
      "cell_type": "code",
      "execution_count": 29,
      "metadata": {
        "id": "bixMMX-y99fd",
        "colab": {
          "base_uri": "https://localhost:8080/"
        },
        "outputId": "f36849c8-c264-45b3-9047-396d98f4b928"
      },
      "outputs": [
        {
          "output_type": "execute_result",
          "data": {
            "text/plain": [
              "25"
            ]
          },
          "metadata": {},
          "execution_count": 29
        }
      ],
      "source": [
        "x**2"
      ]
    },
    {
      "cell_type": "markdown",
      "metadata": {
        "id": "7cLDA94699fd"
      },
      "source": [
        "We can also use `x` with `numpy` functions:"
      ]
    },
    {
      "cell_type": "code",
      "execution_count": 30,
      "metadata": {
        "id": "2lUuF9-D99fd",
        "colab": {
          "base_uri": "https://localhost:8080/"
        },
        "outputId": "8b0df11b-34d3-46ae-ccc4-52d2decd978b"
      },
      "outputs": [
        {
          "output_type": "execute_result",
          "data": {
            "text/plain": [
              "148.4131591025766"
            ]
          },
          "metadata": {},
          "execution_count": 30
        }
      ],
      "source": [
        "np.exp(x)"
      ]
    },
    {
      "cell_type": "markdown",
      "metadata": {
        "id": "0KEh3W_x99fd"
      },
      "source": [
        "Notice that the result from `exp` is a `float`, even though the value of `x` is an `int`."
      ]
    },
    {
      "cell_type": "markdown",
      "metadata": {
        "id": "-bvxDBnN99fd"
      },
      "source": [
        "**Exercise:** If you have not programmed before, one of the things you have to get used to is that programming languages are picky about details.  Natural languages, like English, and semi-formal languages, like math notation, are more forgiving.\n",
        "\n",
        "As an example, in math notation, parentheses and square brackets mean the same thing, you can write\n",
        "\n",
        "$\\sin (\\omega t)$\n",
        "\n",
        "or\n",
        "\n",
        "$\\sin [\\omega t]$\n",
        "\n",
        "Either one is fine.  And you can leave out the parentheses altogether, as long as the meaning is clear:\n",
        "\n",
        "$\\sin \\omega t$"
      ]
    },
    {
      "cell_type": "markdown",
      "metadata": {
        "id": "_ng2jtu499fd"
      },
      "source": [
        "In Python, every character counts.  For example, the following are all different, and only the first one works:\n",
        "\n",
        "```\n",
        "np.exp(x)\n",
        "np.Exp(x)\n",
        "np.exp[x]\n",
        "np.exp x\n",
        "```\n",
        "\n",
        "While you are learning, I encourage you to make mistakes on purpose to see what goes wrong.  Read the error messages carefully.  Sometimes they are helpful and tell you exactly what's wrong.  Other times they can be misleading.  But if you have seen the message before, you might remember some likely causes."
      ]
    },
    {
      "cell_type": "markdown",
      "metadata": {
        "tags": [],
        "id": "I1u5ZGvo99fd"
      },
      "source": [
        "In the next cell, try out the different versions of `np.exp(x)` above, and see what error messages you get."
      ]
    },
    {
      "cell_type": "code",
      "execution_count": 31,
      "metadata": {
        "tags": [],
        "id": "GDw48rpI99fe",
        "colab": {
          "base_uri": "https://localhost:8080/"
        },
        "outputId": "dd3a1ba4-66a5-4a0b-c790-fea6587c27b6"
      },
      "outputs": [
        {
          "output_type": "execute_result",
          "data": {
            "text/plain": [
              "148.4131591025766"
            ]
          },
          "metadata": {},
          "execution_count": 31
        }
      ],
      "source": [
        "np.exp(x)"
      ]
    },
    {
      "cell_type": "code",
      "source": [
        "np.Exp(x)"
      ],
      "metadata": {
        "colab": {
          "base_uri": "https://localhost:8080/",
          "height": 305
        },
        "id": "JHSuFCMlEFlj",
        "outputId": "df39146f-5065-415b-b2b4-750e0ca3d705"
      },
      "execution_count": 34,
      "outputs": [
        {
          "output_type": "error",
          "ename": "AttributeError",
          "evalue": "module 'numpy' has no attribute 'Exp'",
          "traceback": [
            "\u001b[0;31m---------------------------------------------------------------------------\u001b[0m",
            "\u001b[0;31mAttributeError\u001b[0m                            Traceback (most recent call last)",
            "\u001b[0;32m<ipython-input-34-d6e7934728f2>\u001b[0m in \u001b[0;36m<cell line: 1>\u001b[0;34m()\u001b[0m\n\u001b[0;32m----> 1\u001b[0;31m \u001b[0mnp\u001b[0m\u001b[0;34m.\u001b[0m\u001b[0mExp\u001b[0m\u001b[0;34m(\u001b[0m\u001b[0mx\u001b[0m\u001b[0;34m)\u001b[0m\u001b[0;34m,\u001b[0m\u001b[0;34m\u001b[0m\u001b[0;34m\u001b[0m\u001b[0m\n\u001b[0m",
            "\u001b[0;32m/usr/local/lib/python3.10/dist-packages/numpy/__init__.py\u001b[0m in \u001b[0;36m__getattr__\u001b[0;34m(attr)\u001b[0m\n\u001b[1;32m    309\u001b[0m             \u001b[0;32mreturn\u001b[0m \u001b[0mTester\u001b[0m\u001b[0;34m\u001b[0m\u001b[0;34m\u001b[0m\u001b[0m\n\u001b[1;32m    310\u001b[0m \u001b[0;34m\u001b[0m\u001b[0m\n\u001b[0;32m--> 311\u001b[0;31m         raise AttributeError(\"module {!r} has no attribute \"\n\u001b[0m\u001b[1;32m    312\u001b[0m                              \"{!r}\".format(__name__, attr))\n\u001b[1;32m    313\u001b[0m \u001b[0;34m\u001b[0m\u001b[0m\n",
            "\u001b[0;31mAttributeError\u001b[0m: module 'numpy' has no attribute 'Exp'"
          ]
        }
      ]
    },
    {
      "cell_type": "code",
      "source": [
        " np.exp[x]"
      ],
      "metadata": {
        "colab": {
          "base_uri": "https://localhost:8080/",
          "height": 179
        },
        "id": "RYWiUjdCEOZ6",
        "outputId": "aa4cceee-bd10-49df-b374-537832c2159f"
      },
      "execution_count": 36,
      "outputs": [
        {
          "output_type": "error",
          "ename": "TypeError",
          "evalue": "'numpy.ufunc' object is not subscriptable",
          "traceback": [
            "\u001b[0;31m---------------------------------------------------------------------------\u001b[0m",
            "\u001b[0;31mTypeError\u001b[0m                                 Traceback (most recent call last)",
            "\u001b[0;32m<ipython-input-36-e3c84b47e07b>\u001b[0m in \u001b[0;36m<cell line: 1>\u001b[0;34m()\u001b[0m\n\u001b[0;32m----> 1\u001b[0;31m \u001b[0mnp\u001b[0m\u001b[0;34m.\u001b[0m\u001b[0mexp\u001b[0m\u001b[0;34m[\u001b[0m\u001b[0mx\u001b[0m\u001b[0;34m]\u001b[0m\u001b[0;34m\u001b[0m\u001b[0;34m\u001b[0m\u001b[0m\n\u001b[0m",
            "\u001b[0;31mTypeError\u001b[0m: 'numpy.ufunc' object is not subscriptable"
          ]
        }
      ]
    },
    {
      "cell_type": "code",
      "source": [
        "np.exp x"
      ],
      "metadata": {
        "colab": {
          "base_uri": "https://localhost:8080/",
          "height": 144
        },
        "id": "PsF3RvdpELmL",
        "outputId": "b565080e-f48c-4d6f-cb4f-53e01b50357c"
      },
      "execution_count": 35,
      "outputs": [
        {
          "output_type": "error",
          "ename": "SyntaxError",
          "evalue": "invalid syntax (<ipython-input-35-3edd78eaa339>, line 1)",
          "traceback": [
            "\u001b[0;36m  File \u001b[0;32m\"<ipython-input-35-3edd78eaa339>\"\u001b[0;36m, line \u001b[0;32m1\u001b[0m\n\u001b[0;31m    np.exp x\u001b[0m\n\u001b[0m           ^\u001b[0m\n\u001b[0;31mSyntaxError\u001b[0m\u001b[0;31m:\u001b[0m invalid syntax\n"
          ]
        }
      ]
    },
    {
      "cell_type": "markdown",
      "metadata": {
        "id": "3eu2tKhY99fe"
      },
      "source": [
        "**Exercise:** Search the NumPy documentation to find the function that computes square roots, and use it to compute a floating-point approximation of the golden ratio:\n",
        "\n",
        "$\\phi = \\frac{1 + \\sqrt{5}}{2}$\n",
        "\n",
        "Hint: The result should be close to `1.618`."
      ]
    },
    {
      "cell_type": "code",
      "execution_count": 37,
      "metadata": {
        "id": "qxz5gvaE99fe",
        "colab": {
          "base_uri": "https://localhost:8080/"
        },
        "outputId": "ba879acc-5f09-43cf-e3e2-db4b0ed8dd0d"
      },
      "outputs": [
        {
          "output_type": "execute_result",
          "data": {
            "text/plain": [
              "1.618033988749895"
            ]
          },
          "metadata": {},
          "execution_count": 37
        }
      ],
      "source": [
        "# Solution goes here\n",
        "(1 + np.sqrt(5)) / 2"
      ]
    },
    {
      "cell_type": "markdown",
      "metadata": {
        "tags": [],
        "id": "NntHhPF_99fe"
      },
      "source": [
        "## Save your work\n",
        "\n",
        "If you are running on Colab and you want to save your work, now is a good time to press the \"Copy to Drive\" button (near the upper left), which saves a copy of this notebook in your Google Drive.\n",
        "\n",
        "If you want to change the name of the file, you can click on the name in the upper left.\n",
        "If you don't use Google Drive, look under the File menu to see other options.\n",
        "\n",
        "Once you make a copy, any additional changes you make will be saved automatically, so now you can continue without worrying about losing your work."
      ]
    },
    {
      "cell_type": "markdown",
      "metadata": {
        "id": "UdMUp-4799fe"
      },
      "source": [
        "## Calculating with Variables\n",
        "\n",
        "Now we'll use variables to solve a problem involving compound interest.\n",
        "It might not be the most exciting example, but it uses everything we have done so far, and it reviews exponentiation and logarithms, which we are going to need.\n",
        "\n",
        "If we start with a principal sum, $P$, and earn compounded interest, the total accumulated value, $V$, at the end of time $t$ is:\n",
        "\n",
        "$V=P\\left(1+{\\frac {r}{n}}\\right)^{nt}$\n",
        "\n",
        "where $r$ is the annual interest rate and $n$ is the compounding frequency.\n",
        "\n",
        "For example, if you deposit \\$2,100 in a bank paying an annual interest rate of 3.4\\% compounded quarterly, we can compute the balance after 7 years by defining these variables:"
      ]
    },
    {
      "cell_type": "code",
      "execution_count": 38,
      "metadata": {
        "id": "Q6ggs_Aw99fe"
      },
      "outputs": [],
      "source": [
        "P = 2100\n",
        "r = 0.034\n",
        "n = 4\n",
        "t = 7"
      ]
    },
    {
      "cell_type": "markdown",
      "metadata": {
        "id": "EAH43vMy99ff"
      },
      "source": [
        "And computing the total accumulated value like this."
      ]
    },
    {
      "cell_type": "code",
      "execution_count": 39,
      "metadata": {
        "id": "brhJjjMA99ff",
        "colab": {
          "base_uri": "https://localhost:8080/"
        },
        "outputId": "1458f20c-4299-4ebe-9694-768c735d03cd"
      },
      "outputs": [
        {
          "output_type": "execute_result",
          "data": {
            "text/plain": [
              "2661.6108980682593"
            ]
          },
          "metadata": {},
          "execution_count": 39
        }
      ],
      "source": [
        "P * (1 + r/n)**(n*t)"
      ]
    },
    {
      "cell_type": "markdown",
      "metadata": {
        "id": "pjFf4jje99ff"
      },
      "source": [
        "**Exercise:** Continuing the previous example, suppose you start with the same principle and the same interest rate, but interest is compounded twice per year, so `n = 2`.\n",
        "What would the total value be after 7 years?  Hint: we expect the answer to be a bit less than the previous answer."
      ]
    },
    {
      "cell_type": "code",
      "execution_count": 40,
      "metadata": {
        "id": "KtDFcq9z99ff",
        "colab": {
          "base_uri": "https://localhost:8080/"
        },
        "outputId": "ae062631-c554-4d99-a5b8-6abb58c5eea7"
      },
      "outputs": [
        {
          "output_type": "execute_result",
          "data": {
            "text/plain": [
              "2658.965091277534"
            ]
          },
          "metadata": {},
          "execution_count": 40
        }
      ],
      "source": [
        "# Solution goes here\n",
        "n = 2\n",
        "P * (1 + r/n)**(n*t)"
      ]
    },
    {
      "cell_type": "markdown",
      "metadata": {
        "id": "XXRojIzd99ff"
      },
      "source": [
        "**Exercise:** If interest is compounded continuously, the value after time $t$ is given by the formula:\n",
        "\n",
        "$V=P~e^{rt}$\n",
        "\n",
        "Translate this equation into Python and use it compute the value of the investment in the previous example with continuous compounding.  Hint: we expect the answer to be a bit more than the previous answers."
      ]
    },
    {
      "cell_type": "code",
      "execution_count": 42,
      "metadata": {
        "id": "G6Ai-EMU99ff",
        "colab": {
          "base_uri": "https://localhost:8080/"
        },
        "outputId": "b423a8bd-d981-4c05-92a6-18a57f96bd77"
      },
      "outputs": [
        {
          "output_type": "execute_result",
          "data": {
            "text/plain": [
              "2664.2893049323125"
            ]
          },
          "metadata": {},
          "execution_count": 42
        }
      ],
      "source": [
        "# Solution goes here\n",
        "V = P * np.exp(r*t)\n",
        "V"
      ]
    },
    {
      "cell_type": "markdown",
      "metadata": {
        "tags": [],
        "id": "cg5rLhLp99ff"
      },
      "source": [
        "**Exercise** Applying your algebra skills, solve the previous equation for $r$.  Now use the formula you just derived to answer this question.\n",
        "\n",
        "\"Harvard's tuition in 1970 was \\$4,070 (not including room, board, and fees).  \n",
        "\n",
        "\"In 2019 it was \\$46,340.  What was the annual rate of increase over that period, treating it as if it had compounded continuously?\""
      ]
    },
    {
      "cell_type": "code",
      "execution_count": 44,
      "metadata": {
        "tags": [],
        "id": "ebIEwgm899fg",
        "colab": {
          "base_uri": "https://localhost:8080/"
        },
        "outputId": "486ddba5-41ce-4c0f-f41c-3d4d6b59df4f"
      },
      "outputs": [
        {
          "output_type": "execute_result",
          "data": {
            "text/plain": [
              "0.049640051419382165"
            ]
          },
          "metadata": {},
          "execution_count": 44
        }
      ],
      "source": [
        "# Solution goes here\n",
        "V = 46340\n",
        "P = 4070\n",
        "t = 2019 - 1970\n",
        "r = np.log(V/P) / t\n",
        "r"
      ]
    },
    {
      "cell_type": "code",
      "source": [
        "# verify if rate computed is correct\n",
        "4070 * np.exp(0.049640051419382165 * 49)"
      ],
      "metadata": {
        "colab": {
          "base_uri": "https://localhost:8080/"
        },
        "id": "4cp9FR2rIDOL",
        "outputId": "b5aacc42-dfa6-4813-9ce1-5909a5368d49"
      },
      "execution_count": 50,
      "outputs": [
        {
          "output_type": "execute_result",
          "data": {
            "text/plain": [
              "46339.99999999999"
            ]
          },
          "metadata": {},
          "execution_count": 50
        }
      ]
    },
    {
      "cell_type": "markdown",
      "metadata": {
        "id": "94v0JF3n99fg"
      },
      "source": [
        "## Summary\n",
        "\n",
        "This chapter introduces variables, which are names that refer to values, and two kinds of values, integers and floating-point numbers.\n",
        "\n",
        "It presents mathematical operators, like `+` for addition and `*` for multiplication, and mathematical functions like `log` for logarithms and `exp` for raising `e` to a power.\n",
        "\n",
        "In the next chapter, we'll see additional data types for representing letters and words, dates and times, and latitude and longitude."
      ]
    },
    {
      "cell_type": "markdown",
      "metadata": {
        "collapsed": true,
        "tags": [],
        "id": "UUJbhZwX99fg"
      },
      "source": [
        "## A little more Jupyter\n",
        "\n",
        "Here are a few tips on using Jupyter to compute and display values.\n",
        "\n",
        "Generally, if there is a single expression in a cell, Jupyter computes the value of the expression and displays the result.\n",
        "For example, we've already seen how to display the value of `np.pi`:"
      ]
    },
    {
      "cell_type": "code",
      "execution_count": 51,
      "metadata": {
        "tags": [],
        "id": "A9TGmD3w99fg",
        "colab": {
          "base_uri": "https://localhost:8080/"
        },
        "outputId": "893c00bb-d7ed-41da-955a-ce6a2e3e0c70"
      },
      "outputs": [
        {
          "output_type": "execute_result",
          "data": {
            "text/plain": [
              "3.141592653589793"
            ]
          },
          "metadata": {},
          "execution_count": 51
        }
      ],
      "source": [
        "np.pi"
      ]
    },
    {
      "cell_type": "markdown",
      "metadata": {
        "tags": [],
        "id": "7xdkr5Sc99fg"
      },
      "source": [
        "Here's a more complex example with functions, operators, and numbers:"
      ]
    },
    {
      "cell_type": "code",
      "execution_count": 52,
      "metadata": {
        "tags": [],
        "id": "WGkGH65V99fg",
        "colab": {
          "base_uri": "https://localhost:8080/"
        },
        "outputId": "9e301ab8-ac05-4c24-d88c-b81c6201475c"
      },
      "outputs": [
        {
          "output_type": "execute_result",
          "data": {
            "text/plain": [
              "0.0044318484119380075"
            ]
          },
          "metadata": {},
          "execution_count": 52
        }
      ],
      "source": [
        "1 / np.sqrt(2 * np.pi) * np.exp(-3**2 / 2)"
      ]
    },
    {
      "cell_type": "markdown",
      "metadata": {
        "tags": [],
        "id": "N7YT-tbr99fg"
      },
      "source": [
        "If you put more than one expression in a cell, Jupyter computes them all, but it only display the result from the last:"
      ]
    },
    {
      "cell_type": "code",
      "execution_count": 53,
      "metadata": {
        "tags": [],
        "id": "tHe9cZaW99fh",
        "colab": {
          "base_uri": "https://localhost:8080/"
        },
        "outputId": "a749b2bc-e461-48a2-df13-c8f8c97e4156"
      },
      "outputs": [
        {
          "output_type": "execute_result",
          "data": {
            "text/plain": [
              "1.618033988749895"
            ]
          },
          "metadata": {},
          "execution_count": 53
        }
      ],
      "source": [
        "1\n",
        "2 + 3\n",
        "np.exp(1)\n",
        "(1 + np.sqrt(5)) / 2"
      ]
    },
    {
      "cell_type": "markdown",
      "metadata": {
        "tags": [],
        "id": "2_kSPePC99fh"
      },
      "source": [
        "If you want to display more than one value, you can separate them with commas:"
      ]
    },
    {
      "cell_type": "code",
      "execution_count": 54,
      "metadata": {
        "tags": [],
        "id": "wMoTdjBp99fh",
        "colab": {
          "base_uri": "https://localhost:8080/"
        },
        "outputId": "95b7081b-8b16-48e1-b79c-60dc55d25703"
      },
      "outputs": [
        {
          "output_type": "execute_result",
          "data": {
            "text/plain": [
              "(1, 5, 2.718281828459045, 1.618033988749895)"
            ]
          },
          "metadata": {},
          "execution_count": 54
        }
      ],
      "source": [
        "1, 2 + 3, np.exp(1), (1 + np.sqrt(5)) / 2"
      ]
    },
    {
      "cell_type": "markdown",
      "metadata": {
        "tags": [],
        "id": "L4phyQ8699fh"
      },
      "source": [
        "That result is actually a tuple, which you will learn about in the next chapter.\n",
        "\n",
        "Here's one last Jupyter tip: when you assign a value to variable, Jupyter does not display the value:"
      ]
    },
    {
      "cell_type": "code",
      "execution_count": 55,
      "metadata": {
        "tags": [],
        "id": "FY-1xuTg99fh"
      },
      "outputs": [],
      "source": [
        "phi = (1 + np.sqrt(5)) / 2"
      ]
    },
    {
      "cell_type": "markdown",
      "metadata": {
        "tags": [],
        "id": "WfpFq7i_99fh"
      },
      "source": [
        "So it is idiomatic to assign a value to a variable and immediately display the result:"
      ]
    },
    {
      "cell_type": "code",
      "execution_count": 56,
      "metadata": {
        "tags": [],
        "id": "V6-MWKAV99fi",
        "colab": {
          "base_uri": "https://localhost:8080/"
        },
        "outputId": "7d6c46ff-5469-4970-ed4c-5a2d02c76b10"
      },
      "outputs": [
        {
          "output_type": "execute_result",
          "data": {
            "text/plain": [
              "1.618033988749895"
            ]
          },
          "metadata": {},
          "execution_count": 56
        }
      ],
      "source": [
        "phi = (1 + np.sqrt(5)) / 2\n",
        "phi"
      ]
    },
    {
      "cell_type": "markdown",
      "metadata": {
        "tags": [],
        "id": "JTDM5XU499fi"
      },
      "source": [
        "**Exercise:** Display the value of $\\phi$ and its inverse, $1/\\phi$, on a single line."
      ]
    },
    {
      "cell_type": "code",
      "execution_count": 57,
      "metadata": {
        "tags": [],
        "id": "HjBm1_0A99fi",
        "colab": {
          "base_uri": "https://localhost:8080/"
        },
        "outputId": "4de3e3cd-fd1f-4f5e-c1e3-06d76c365930"
      },
      "outputs": [
        {
          "output_type": "execute_result",
          "data": {
            "text/plain": [
              "(1.618033988749895, 0.6180339887498948)"
            ]
          },
          "metadata": {},
          "execution_count": 57
        }
      ],
      "source": [
        "# Solution goes here\n",
        "phi, 1/phi"
      ]
    },
    {
      "cell_type": "markdown",
      "metadata": {
        "tags": [],
        "id": "bPgtyupM99fi"
      },
      "source": [
        "## The Colab mental model\n",
        "\n",
        "Congratulations on completing the first notebook!\n",
        "\n",
        "Now that you have worked with Colab, you might find it helpful to watch this video, where I explain a little more about how it works:"
      ]
    },
    {
      "cell_type": "code",
      "source": [
        "from IPython.display import YouTubeVideo\n",
        "\n",
        "YouTubeVideo(\"eIY-PsYBrPs\")"
      ],
      "metadata": {
        "id": "T2NhlcyGJUFr"
      },
      "execution_count": null,
      "outputs": []
    },
    {
      "cell_type": "markdown",
      "metadata": {
        "tags": [],
        "id": "hOnX-ZuD99fi"
      },
      "source": [
        "*Elements of Data Science*\n",
        "\n",
        "Copyright 2021 [Allen B. Downey](https://allendowney.com)\n",
        "\n",
        "License: [Creative Commons Attribution-NonCommercial-ShareAlike 4.0 International](https://creativecommons.org/licenses/by-nc-sa/4.0/)"
      ]
    }
  ],
  "metadata": {
    "celltoolbar": "Tags",
    "kernelspec": {
      "display_name": "Python 3 (ipykernel)",
      "language": "python",
      "name": "python3"
    },
    "language_info": {
      "codemirror_mode": {
        "name": "ipython",
        "version": 3
      },
      "file_extension": ".py",
      "mimetype": "text/x-python",
      "name": "python",
      "nbconvert_exporter": "python",
      "pygments_lexer": "ipython3",
      "version": "3.8.16"
    },
    "colab": {
      "provenance": []
    }
  },
  "nbformat": 4,
  "nbformat_minor": 0
}